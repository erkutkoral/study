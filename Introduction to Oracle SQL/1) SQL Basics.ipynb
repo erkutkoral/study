{
 "cells": [
  {
   "cell_type": "markdown",
   "id": "03037476",
   "metadata": {},
   "source": [
    "## Writing your first query\n",
    "* The ERD you saw in the video is part of a digital media store's data model offering services similar to iTunes. The company is called eSymphony. It includes tables for artists, albums, media tracks, invoices, and customers.\n",
    "* Let's start exploring the data! In this exercise, you will use SELECT statements to show the relevant columns from a database table."
   ]
  },
  {
   "cell_type": "markdown",
   "id": "c6af1578",
   "metadata": {},
   "source": [
    "### Select the Title column from the Album table."
   ]
  },
  {
   "cell_type": "raw",
   "id": "2c477421",
   "metadata": {},
   "source": [
    "-- Select the title from the album table\n",
    "SELECT title\n",
    "FROM ALBUM"
   ]
  },
  {
   "cell_type": "markdown",
   "id": "6bf37d88",
   "metadata": {},
   "source": [
    "### Select the LastName from the Customer table."
   ]
  },
  {
   "cell_type": "raw",
   "id": "5eb9ed3e",
   "metadata": {},
   "source": [
    "-- Select the last name from the customer table\n",
    "SELECT lastname\n",
    "FROM CUSTOMER"
   ]
  },
  {
   "cell_type": "markdown",
   "id": "4f05faeb",
   "metadata": {},
   "source": [
    "### Select the LastName and Country from the Customer table."
   ]
  },
  {
   "cell_type": "raw",
   "id": "8aacb15a",
   "metadata": {},
   "source": [
    "-- Select the last name and country from the customer table\n",
    "SELECT lastname, country\n",
    "FROM CUSTOMER"
   ]
  },
  {
   "cell_type": "markdown",
   "id": "db8be230",
   "metadata": {},
   "source": [
    "## Removing duplicates\n",
    "* Let's dig a little bit deeper into the database. You want to find out which composers have written a song that is sold by eSymphony.\n",
    "* Since composers can write multiple songs, your results will probably include many duplicate values. If you want to select all unique values from a column, you can use the DISTINCT keyword."
   ]
  },
  {
   "cell_type": "markdown",
   "id": "a209d3dc",
   "metadata": {},
   "source": [
    "### Select the Composer column from the Track table."
   ]
  },
  {
   "cell_type": "raw",
   "id": "3a9a4cf6",
   "metadata": {},
   "source": [
    "-- Select the composers from the track table\n",
    "SELECT composer\n",
    "FROM TRACK"
   ]
  },
  {
   "cell_type": "markdown",
   "id": "567b5ccb",
   "metadata": {},
   "source": [
    "### Get all the unique composers represented in the Track table."
   ]
  },
  {
   "cell_type": "raw",
   "id": "2a3c21ca",
   "metadata": {},
   "source": [
    "-- Select the unique composers from the track table\n",
    "SELECT DISTINCT(composer)\n",
    "FROM Track"
   ]
  },
  {
   "cell_type": "markdown",
   "id": "b9423953",
   "metadata": {},
   "source": [
    "## Working with strings\n",
    "* Let's combine some information from multiple columns into a single output column. This time, you want to find out where the eSymphony employees are living.\n",
    "* In order to present your results in an organized way, you will use the concatenation operator, literal character strings, and the alternative quote operator that were introduced in the video."
   ]
  },
  {
   "cell_type": "markdown",
   "id": "e6747547",
   "metadata": {},
   "source": [
    "### Select the FirstName and Country from the Employee table."
   ]
  },
  {
   "cell_type": "raw",
   "id": "abd5f889",
   "metadata": {},
   "source": [
    "-- Select the first name and country from the employee table\n",
    "SELECT firstname, country\n",
    "FROM EMPLOYEE"
   ]
  },
  {
   "cell_type": "markdown",
   "id": "335dc50e",
   "metadata": {},
   "source": [
    "### Create a message similar to this one: Jack lives in Australia."
   ]
  },
  {
   "cell_type": "raw",
   "id": "20660cfd",
   "metadata": {},
   "source": [
    "-- Create a custom message \n",
    "SELECT firstname || ' lives in ' || Country\n",
    "FROM Employee"
   ]
  },
  {
   "cell_type": "markdown",
   "id": "908ee4b8",
   "metadata": {},
   "source": [
    "### Create a message similar to this one: Jack's home country is Australia."
   ]
  },
  {
   "cell_type": "raw",
   "id": "e9fd8512",
   "metadata": {},
   "source": [
    "-- Create a custom message\n",
    "SELECT FirstName || q'['s home country is ]' || Country\n",
    "FROM Employee"
   ]
  },
  {
   "cell_type": "markdown",
   "id": "a3c21514",
   "metadata": {},
   "source": [
    "## Arithmetic expressions\n",
    "* You just heard that there is a 50 cent transaction fee for people buying music on eSymphony. Let's create a new column that holds the final amount a customer has paid. The information you need is in the Total column of the Invoice table.\n",
    "* Remember that in the SELECT statement you can use the following arithmetic operators: +, -, *, and /."
   ]
  },
  {
   "cell_type": "markdown",
   "id": "24c51476",
   "metadata": {},
   "source": [
    "### Add 0.50 to the total amount listed on the invoice."
   ]
  },
  {
   "cell_type": "raw",
   "id": "577d1eb5",
   "metadata": {},
   "source": [
    "-- Add 50 cents to the total amount\n",
    "SELECT  total + 0.50 \n",
    "FROM INVOICE"
   ]
  },
  {
   "cell_type": "markdown",
   "id": "bd893cf1",
   "metadata": {},
   "source": [
    "## Ordering\n",
    "* In this exercise, you'll practice ordering the eSymphony data. You want to present the employee data in an organized manner using these columns:\n",
    "   * Title: The job title of the employee.\n",
    "   * BirthDate: The birth date of the employee.\n",
    "* Doing this will make it easy to spot the oldest and youngest employees in each position."
   ]
  },
  {
   "cell_type": "markdown",
   "id": "ef429804",
   "metadata": {},
   "source": [
    "### Select the last name, job title, and birth date from the Employee table."
   ]
  },
  {
   "cell_type": "raw",
   "id": "78cd480e",
   "metadata": {},
   "source": [
    "-- Select the relevant fields from the employee table\n",
    "SELECT lastname, title, birthdate\n",
    "FROM EMPLOYEE"
   ]
  },
  {
   "cell_type": "markdown",
   "id": "a9e57096",
   "metadata": {},
   "source": [
    "### Order the result by job title."
   ]
  },
  {
   "cell_type": "raw",
   "id": "38d1a15f",
   "metadata": {},
   "source": [
    "-- Select the relevant fields from the employee table\n",
    "SELECT LastName, Title, BirthDate\n",
    "FROM Employee\n",
    "-- Order by job title\n",
    "ORDER BY Title"
   ]
  },
  {
   "cell_type": "markdown",
   "id": "54eeb0cb",
   "metadata": {},
   "source": [
    "### Order the result by job title and birth date, where the oldest employee is displayed first."
   ]
  },
  {
   "cell_type": "raw",
   "id": "6c65cd27",
   "metadata": {},
   "source": [
    "-- Select the relevant fields from the employee table\n",
    "SELECT LastName, Title, BirthDate \n",
    "FROM Employee\n",
    "-- Order by job title and descending birth date\n",
    "ORDER BY Title DESC, BirthDate DESC"
   ]
  },
  {
   "cell_type": "markdown",
   "id": "1eeae478",
   "metadata": {},
   "source": [
    "## Comparison operators\n",
    "* You won't always want to retrieve every row in your database. Sometimes it's easier to display specific information needed to answer a specific question.\n",
    "* Let's look have a look at the invoice data. You are asked to retrieve only a selection of the invoices based on the invoice amount.\n",
    "* Remember that you can use the following operators to compare values: <, <=, >, >=, = and <>."
   ]
  },
  {
   "cell_type": "markdown",
   "id": "8d48005c",
   "metadata": {},
   "source": [
    "### Select the InvoiceId and Total amount from the Invoice table and display rows where the total amount is equal to 3.98."
   ]
  },
  {
   "cell_type": "raw",
   "id": "0d9bf56e",
   "metadata": {},
   "source": [
    "-- Select the relevant columns and filter based on the condition\n",
    "SELECT invoiceid, total\n",
    "FROM INVOICE\n",
    "WHERE total = 3.98"
   ]
  },
  {
   "cell_type": "markdown",
   "id": "1d7da609",
   "metadata": {},
   "source": [
    "### Adapt your query to only include rows where the total amount is greater than 3.98."
   ]
  },
  {
   "cell_type": "raw",
   "id": "e0915943",
   "metadata": {},
   "source": [
    "-- Select the relevant columns and filter based on the condition\n",
    "SELECT InvoiceId, Total\n",
    "FROM Invoice\n",
    "WHERE Total > 3.98"
   ]
  },
  {
   "cell_type": "markdown",
   "id": "0524b407",
   "metadata": {},
   "source": [
    "### Adapt your query to only include rows where the total amount is smaller than or equal to 3.98.### Adapt your query to only include rows where the total amount is smaller than or equal to 3.98."
   ]
  },
  {
   "cell_type": "raw",
   "id": "70f88a91",
   "metadata": {},
   "source": [
    "-- Select the relevant columns and filter based on the condition\n",
    "SELECT InvoiceId, Total\n",
    "FROM Invoice\n",
    "WHERE Total <= 3.98"
   ]
  },
  {
   "cell_type": "markdown",
   "id": "2823287a",
   "metadata": {},
   "source": [
    "### Adapt your query to only include rows where the total amount is not equal to 3.98."
   ]
  },
  {
   "cell_type": "raw",
   "id": "4cdb6ec2",
   "metadata": {},
   "source": [
    "-- Select the relevant columns and filter based on the condition\n",
    "SELECT InvoiceId, Total\n",
    "FROM Invoice\n",
    "WHERE Total <> 3.98"
   ]
  },
  {
   "cell_type": "markdown",
   "id": "3afbd18a",
   "metadata": {},
   "source": [
    "## Logical operators\n",
    "* You are interested in listing songs performed by Queen. Note that these songs can be composed by either the entire band or an individual band member. In your query you decide to retrieve songs where the composer is Queen or their lead singer, Freddie Mercury.\n",
    "* Remember that there are three logical operators, AND, OR, and NOT that can be used to apply more than one WHERE condition to your query."
   ]
  },
  {
   "cell_type": "markdown",
   "id": "756280ce",
   "metadata": {},
   "source": [
    "### Select the song name and composer from the Track table.\n",
    "### Filter on tracks that are composed by 'Queen' or by 'Mercury- Freddie'."
   ]
  },
  {
   "cell_type": "raw",
   "id": "b7e84e1b",
   "metadata": {},
   "source": [
    "-- Select the song name and composer from the track table\n",
    "SELECT name, composer\n",
    "FROM TRACK\n",
    "-- Filter on composer\n",
    "WHERE Composer = 'Queen' \n",
    "      OR Composer = 'Mercury- Freddie'"
   ]
  },
  {
   "cell_type": "markdown",
   "id": "3ea3c104",
   "metadata": {},
   "source": [
    "## Comparison keywords\n",
    "* In this exercise, you will do some more advanced filtering. The sales support department received a call from a customer asking for some more information about the Queen repertoire. Steve, the sales support agent, let the customer know he would call them back after looking into this. The problem is he forgot to write down the customer's name. All he can remember is that it starts with a B and they are living in a non-English speaking country. Let's look for this customer."
   ]
  },
  {
   "cell_type": "markdown",
   "id": "67d540ef",
   "metadata": {},
   "source": [
    "### Filter on customers with a last name that starts with the letter B."
   ]
  },
  {
   "cell_type": "raw",
   "id": "3eb6e50c",
   "metadata": {},
   "source": [
    "SELECT LastName, Country\n",
    "FROM Customer\n",
    "-- Filter on the customer last name\n",
    "WHERE LastName LIKE 'B%'"
   ]
  },
  {
   "cell_type": "markdown",
   "id": "942d34af",
   "metadata": {},
   "source": [
    "### Add another filter to the query to only select customers living in the USA, Canada, or the United Kingdom."
   ]
  },
  {
   "cell_type": "raw",
   "id": "788876d7",
   "metadata": {},
   "source": [
    "SELECT LastName, Country\n",
    "FROM Customer\n",
    "-- Filter on the customer last name\n",
    "WHERE LastName LIKE 'B%' \n",
    "\t  -- Filter on English speaking countries\n",
    "      AND Country IN ('USA', 'Canada', 'United Kingdom')"
   ]
  },
  {
   "cell_type": "markdown",
   "id": "b542f22f",
   "metadata": {},
   "source": [
    "### Adapt the last condition to only include customers living anywhere but in the USA, Canada, or the United Kingdom."
   ]
  },
  {
   "cell_type": "raw",
   "id": "ca636704",
   "metadata": {},
   "source": [
    "SELECT LastName, Country\n",
    "FROM Customer\n",
    "-- Filter on the customer last name\n",
    "WHERE LastName LIKE 'B%'\n",
    "      -- Filter on non-English speaking countries\n",
    "      AND Country NOT IN ('USA', 'Canada', 'United Kingdom')"
   ]
  }
 ],
 "metadata": {
  "kernelspec": {
   "display_name": "Python 3 (ipykernel)",
   "language": "python",
   "name": "python3"
  },
  "language_info": {
   "codemirror_mode": {
    "name": "ipython",
    "version": 3
   },
   "file_extension": ".py",
   "mimetype": "text/x-python",
   "name": "python",
   "nbconvert_exporter": "python",
   "pygments_lexer": "ipython3",
   "version": "3.9.12"
  }
 },
 "nbformat": 4,
 "nbformat_minor": 5
}
