{
 "cells": [
  {
   "cell_type": "markdown",
   "id": "1c5f9283",
   "metadata": {},
   "source": [
    "## Getting started with group functions\n",
    "* The accounting department of eSymphony needs a report with the lowest, highest, sum, and average invoice amounts. The columns need to be labeled MINIMUM, MAXIMUM, SUM, and AVERAGE, respectively.\n",
    "* MINIMUM\tMAXIMUM\tSUM\tAVERAGE\n",
    "  0.99\t25.86\t2328.6\t5.651942\n",
    "Let's help them out."
   ]
  },
  {
   "cell_type": "markdown",
   "id": "db9e7526",
   "metadata": {},
   "source": [
    "### Calculate the minimum, maximum, sum, and average of the Total invoice amount.\n",
    "### Retrieve the data from the Invoice table."
   ]
  },
  {
   "cell_type": "raw",
   "id": "d7ddce7a",
   "metadata": {},
   "source": [
    "-- Calculate the required values from the Invoice table\n",
    "SELECT MIN(total), \n",
    "       MAX(total), \n",
    "       SUM(total), \n",
    "       AVG(total)\n",
    "FROM INVOICE"
   ]
  },
  {
   "cell_type": "markdown",
   "id": "d1312855",
   "metadata": {},
   "source": [
    "### Label the columns MINIMUM, MAXIMUM, SUM, and AVERAGE."
   ]
  },
  {
   "cell_type": "raw",
   "id": "28624a69",
   "metadata": {},
   "source": [
    "-- Add column aliases\n",
    "SELECT MIN(Total) AS MINIMUM, \n",
    "       MAX(Total) AS MAXIMUM, \n",
    "       SUM(Total) AS SUM, \n",
    "       AVG(Total) AS AVERAGE\n",
    "FROM Invoice"
   ]
  },
  {
   "cell_type": "markdown",
   "id": "80c36997",
   "metadata": {},
   "source": [
    "## Counting\n",
    "* You are interested in figuring out where the customers of eSymphony are ordering from. Specifically, you want to know from how many different U.S.A. orders are coming in.\n",
    "* To calculate this you will need to include a filter to your data before applying the correct group function. Let's start building this query!"
   ]
  },
  {
   "cell_type": "markdown",
   "id": "e316f9e0",
   "metadata": {},
   "source": [
    "### Count the number of (non-missing) billing cities in the Invoice table.\n",
    "### Filter on invoices where the billing country is the USA."
   ]
  },
  {
   "cell_type": "raw",
   "id": "8fc5fc36",
   "metadata": {},
   "source": [
    "-- Count the number of billing cities\n",
    "SELECT COUNT(billingcity)\n",
    "FROM INVOICE\n",
    "-- Filter on rows where the billing country is the USA\n",
    "WHERE billingcountry = 'USA'"
   ]
  },
  {
   "cell_type": "markdown",
   "id": "71d229db",
   "metadata": {},
   "source": [
    "### Count the number of unique billing cities in the Invoice table."
   ]
  },
  {
   "cell_type": "raw",
   "id": "e82c6da4",
   "metadata": {},
   "source": [
    "-- Count the number of unique billing cities in the Invoice table\n",
    "SELECT COUNT(DISTINCT billingcity)\n",
    "FROM Invoice\n",
    "-- Filter on rows where the billing country is the USA\n",
    "WHERE BillingCountry = 'USA'"
   ]
  },
  {
   "cell_type": "markdown",
   "id": "00de3b5c",
   "metadata": {},
   "source": [
    "### Alias the result as Number of US cities."
   ]
  },
  {
   "cell_type": "raw",
   "id": "15820622",
   "metadata": {},
   "source": [
    "-- Add the column alias\n",
    "SELECT COUNT(DISTINCT BillingCity) AS \"Number of US cities\"\n",
    "FROM Invoice\n",
    "-- Filter on rows where the billing country is the USA\n",
    "WHERE BillingCountry = 'USA'"
   ]
  },
  {
   "cell_type": "markdown",
   "id": "dad243be",
   "metadata": {},
   "source": [
    "## Grouping\n",
    "* People all over the world are buying tracks from eSymphony. You want to get an overview of how many customers live in each country. This means you will need to group your data."
   ]
  },
  {
   "cell_type": "markdown",
   "id": "a03951f1",
   "metadata": {},
   "source": [
    "### Select the Country and the total number of customers for each country.\n",
    "### Group the results by country."
   ]
  },
  {
   "cell_type": "raw",
   "id": "c4497ab9",
   "metadata": {},
   "source": [
    "-- Select the country and the total number of customers\n",
    "SELECT country, COUNT(*) AS Total\n",
    "FROM CUSTOMER\n",
    "-- Group the results by country\n",
    "GROUP BY country"
   ]
  },
  {
   "cell_type": "markdown",
   "id": "58fc0fe8",
   "metadata": {},
   "source": [
    "## Advanced grouping\n",
    "* You are interested in knowing how much money is coming in from cities in the USA and Canada. This information can be found in the Total column of the Invoice table.\n",
    "* To solve this problem, you will need to combine multiple statements that you've seen earlier in this chapter, such as aggregate functions, WHERE, GROUP BY, and ORDER BY."
   ]
  },
  {
   "cell_type": "markdown",
   "id": "579d38aa",
   "metadata": {},
   "source": [
    "### Select the billing country, billing city\n",
    "### Add a filter to only select rows with billing countries in 'Canada' or the 'USA'."
   ]
  },
  {
   "cell_type": "raw",
   "id": "c0dfcbd8",
   "metadata": {},
   "source": [
    "-- Select the BillingCountry, BillingCity\n",
    "SELECT billingcountry, billingcity\n",
    "FROM Invoice\n",
    "-- Filter on BillingCountry \n",
    "WHERE BillingCountry IN ('Canada', 'USA')"
   ]
  },
  {
   "cell_type": "markdown",
   "id": "1bc1719b",
   "metadata": {},
   "source": [
    "### Select the total invoice amount for each country and group the results by billing country and billing city."
   ]
  },
  {
   "cell_type": "raw",
   "id": "1e7621c0",
   "metadata": {},
   "source": [
    "-- Select the BillingCountry, BillingCity, and total amount\n",
    "SELECT BillingCountry, BillingCity, SUM(total) AS \"Total invoice amount\"\n",
    "FROM Invoice\n",
    "-- Filter on BillingCountry \n",
    "WHERE BillingCountry IN ('USA', 'Canada')\n",
    "-- Group by BillingCountry and BillingCity\n",
    "GROUP BY BillingCountry, BillingCity"
   ]
  },
  {
   "cell_type": "markdown",
   "id": "8f8713a1",
   "metadata": {},
   "source": [
    "### Sort the results in descending order of the total invoice amount."
   ]
  },
  {
   "cell_type": "raw",
   "id": "dd476091",
   "metadata": {},
   "source": [
    "-- Select the BillingCountry, BillingCity, and total amount\n",
    "SELECT BillingCountry, BillingCity, SUM(Total) AS \"Total invoice amount\"\n",
    "FROM Invoice\n",
    "-- Filter on BillingCountry \n",
    "WHERE BillingCountry IN ('USA', 'Canada')\n",
    "-- Group by BillingCountry and BillingCity\n",
    "GROUP BY BillingCountry, BillingCity\n",
    "-- Sort the results\n",
    "ORDER BY SUM(Total) DESC"
   ]
  },
  {
   "cell_type": "markdown",
   "id": "d4122cde",
   "metadata": {},
   "source": [
    "## Restricting groups\n",
    "* Earlier you created an overview of how many eSymphony customers live in each country. The output was a long list. Now, you want to restrict your results and only display countries with more than four customers. Since you grouped your output by country, you will now need to exclude values on a group-level rather than a row-level."
   ]
  },
  {
   "cell_type": "markdown",
   "id": "db12bada",
   "metadata": {},
   "source": [
    "### Run the query. Note that it throws an error.\n",
    "### Adapt the query to show countries with more than four customers."
   ]
  },
  {
   "cell_type": "raw",
   "id": "246bccc0",
   "metadata": {},
   "source": [
    "-- Adapt the query below to show the correct results\n",
    "SELECT Country, COUNT(*) AS Customers\n",
    "FROM Customer\n",
    "GROUP BY Country\n",
    "HAVING COUNT(*) > 4"
   ]
  },
  {
   "cell_type": "markdown",
   "id": "87aea9b5",
   "metadata": {},
   "source": [
    "## More restricting\n",
    "* There are multiple positions possible for eSymphony employees:\n",
    " * Title:\n",
    " * General Manager \n",
    " * IT Manager\n",
    " * IT Staff\n",
    " * Sales Manager\n",
    " * Sales Support Agent\n",
    " \n",
    "* You are interested in setting up a mentoring program. In positions where there are multiple employees, more senior members will coach more recent hires of the team. To do this you decide to generate a list with the title and hire date of the most recent addition to the team, and this for each position."
   ]
  },
  {
   "cell_type": "markdown",
   "id": "0a3df82b",
   "metadata": {},
   "source": [
    "### Select the employee Title and the hire date of the most recent hire from the Employee table.\n",
    "### Group the results by title."
   ]
  },
  {
   "cell_type": "raw",
   "id": "d737c393",
   "metadata": {},
   "source": [
    "-- Select the title and the date of the most recent hire\n",
    "SELECT title, MAX(hiredate) AS \"Most recent hire date\"\n",
    "-- The data comes from the Employee table \n",
    "FROM EMPLOYEE\n",
    "-- Group by title\n",
    "GROUP BY title"
   ]
  },
  {
   "cell_type": "markdown",
   "id": "9b40fd58",
   "metadata": {},
   "source": [
    "### Exclude groups with more than one employee sharing the same title. This ensures that there are multiple members in a team, so that more recently hired employees can actually have a mentor."
   ]
  },
  {
   "cell_type": "raw",
   "id": "af4adeaf",
   "metadata": {},
   "source": [
    "-- Select the title and the date of the most recent hire\n",
    "SELECT Title, MAX(HireDate) AS \"Most recent hire date\"\n",
    "-- The data comes from the Employee table \n",
    "FROM Employee\n",
    "-- Group by title\n",
    "GROUP BY Title\n",
    "-- Exclude teams with only one member\n",
    "HAVING COUNT(title) > 1"
   ]
  },
  {
   "cell_type": "markdown",
   "id": "488e9c71",
   "metadata": {},
   "source": [
    "**Note that the aggregates in the SELECT and HAVING statements don't have to match.**"
   ]
  },
  {
   "cell_type": "markdown",
   "id": "d4de4e83",
   "metadata": {},
   "source": [
    "## Combining WHERE and HAVING\n",
    "* You are interested in knowing which countries are bringing in the most revenue for eSymphony. More specifically, you want to list the countries with a total invoice amount of over $100. You have been informed that the data registered in Paris might be incorrect, so you decide to exclude Parisian invoices from your analysis.\n",
    "\n",
    "* To answer this question, you will need to use both WHERE and HAVING to filter the data."
   ]
  },
  {
   "cell_type": "markdown",
   "id": "4cf0c921",
   "metadata": {},
   "source": [
    "### Select the BillingCountry and the total invoice amount for each country.\n",
    "### Group the results by country.\n",
    "### Restrict to groups with a Total invoice amount of more than 100."
   ]
  },
  {
   "cell_type": "raw",
   "id": "b2574ced",
   "metadata": {},
   "source": [
    "-- Select the BillingCountry and the total billing amount\n",
    "SELECT BillingCountry, SUM(total)\n",
    "FROM Invoice\n",
    "-- Group by billing country\n",
    "GROUP BY BillingCountry\n",
    "-- Exclude groups with an invoice amount of more than 100\n",
    "HAVING SUM(total) > 100"
   ]
  },
  {
   "cell_type": "markdown",
   "id": "c5abefe5",
   "metadata": {},
   "source": [
    "### Filter out rows where the billing city is 'Paris'."
   ]
  },
  {
   "cell_type": "raw",
   "id": "76a0383e",
   "metadata": {},
   "source": [
    "-- Select the BillingCountry and the total billing amount\n",
    "SELECT BillingCountry, SUM(Total)\n",
    "FROM Invoice\n",
    "-- Filter out invoices from Paris\n",
    "WHERE BillingCity <> 'Paris'\n",
    "-- Group by billing country\n",
    "GROUP BY BillingCountry\n",
    "-- Exclude groups with an invoice amount of more than 100\n",
    "HAVING SUM(Total) > 100"
   ]
  },
  {
   "cell_type": "markdown",
   "id": "d581b28b",
   "metadata": {},
   "source": [
    "**Note that it was important to use WHERE to filter out the relevant rows before using HAVING to exclude the appropriate groups.**"
   ]
  }
 ],
 "metadata": {
  "kernelspec": {
   "display_name": "Python 3 (ipykernel)",
   "language": "python",
   "name": "python3"
  },
  "language_info": {
   "codemirror_mode": {
    "name": "ipython",
    "version": 3
   },
   "file_extension": ".py",
   "mimetype": "text/x-python",
   "name": "python",
   "nbconvert_exporter": "python",
   "pygments_lexer": "ipython3",
   "version": "3.9.12"
  }
 },
 "nbformat": 4,
 "nbformat_minor": 5
}
