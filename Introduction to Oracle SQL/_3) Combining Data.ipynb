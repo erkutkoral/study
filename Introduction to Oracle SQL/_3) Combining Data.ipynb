{
 "cells": [
  {
   "cell_type": "markdown",
   "id": "e329bbf3",
   "metadata": {},
   "source": [
    "## Inner joins"
   ]
  },
  {
   "cell_type": "markdown",
   "id": "ab16ab63",
   "metadata": {},
   "source": [
    "* Let's start combining data from multiple tables! The sales support department received a call from a customer asking to speak to the employee that helped her with her purchase. You decide to get them the necessary information. You know that the customer's name is Mark Philips.\n",
    "\n",
    "To get the name of the employee, you will need to use data from both the Customer and the Employee tables. Let's make sure this customer gets in touch with the right employee."
   ]
  },
  {
   "cell_type": "markdown",
   "id": "d6727e8f",
   "metadata": {},
   "source": [
    "### Select the first and last names from the Customer and the Employee tables.\n",
    "### Inner join the Customer table to the Employee table.\n",
    "### You should match the tables on the SupportRepId field in Customer and the EmployeeId field in Employee."
   ]
  },
  {
   "cell_type": "raw",
   "id": "f2f2a28c",
   "metadata": {},
   "source": [
    "-- Select the customer's and employee's first and last names\n",
    "SELECT c.FirstName, c.LastName, e.FirstName, e.LastName\n",
    "-- Join the Customer and the Employee tables\n",
    "FROM Customer c\n",
    "INNER JOIN Employee e\n",
    "\t-- Complete the common joining column\n",
    "\tON c.SupportRepId = e.EmployeeId;"
   ]
  },
  {
   "cell_type": "markdown",
   "id": "853922eb",
   "metadata": {},
   "source": [
    "### Filter on the customer with first name 'Mark' and last name 'Philips'."
   ]
  },
  {
   "cell_type": "raw",
   "id": "cb0c68d0",
   "metadata": {},
   "source": [
    "-- Select the customer's and employee's first and last names\n",
    "SELECT c.FirstName, c.LastName, e.FirstName, e.LastName\n",
    "-- Join the Customer and the Employee tables\n",
    "FROM Customer c INNER JOIN Employee e\n",
    "\t-- Complete the common joining column\n",
    "\tON c.SupportRepId = e.EmployeeId\n",
    "-- Filter on the customer's first and last name\n",
    "WHERE c.FirstName = 'Mark' AND c.LastName = 'Philips'"
   ]
  },
  {
   "cell_type": "markdown",
   "id": "1402a872",
   "metadata": {},
   "source": [
    "## Using USING\n",
    "* eSymphony wants to thank their most loyal customer by sending them a gift card. You are tasked with identifying the customer that has spent the most money at the company.\n",
    "\n",
    "You are not sure what convention the person that will be running your query prefers, so you decide to show your SQL skills by using the USING clause as well as ON in your join."
   ]
  },
  {
   "cell_type": "markdown",
   "id": "0fdaaf73",
   "metadata": {},
   "source": [
    "### Select the first and last name from the Customer table and the Total amount spent from the Invoice table.\n",
    "### Perform an inner join between Customer and Invoice using the CustomerId column."
   ]
  },
  {
   "cell_type": "raw",
   "id": "f1b4b13b",
   "metadata": {},
   "source": [
    "-- Select the customer first and last name, and the total amount\n",
    "SELECT c.FirstName, c.LastName, i.total\n",
    "-- Join the Customer and the Invoice tables\n",
    "FROM Customer c INNER JOIN Invoice i\n",
    "\t-- Complete the common joining column\n",
    "\tON c.customerid = i.customerid"
   ]
  },
  {
   "cell_type": "markdown",
   "id": "79973a21",
   "metadata": {},
   "source": [
    "### Select the aggregated total amount for every customer and group the results by customer first and last name.\n",
    "### Order the result by the total amount in descending order."
   ]
  },
  {
   "cell_type": "raw",
   "id": "f6a393a2",
   "metadata": {},
   "source": [
    "-- Select the customer first and last name, and the total amount\n",
    "SELECT c.FirstName, c.LastName, SUM(i.Total) AS TotalAmount\n",
    "-- Join the Customer and the Invoice tables\n",
    "FROM Customer c INNER JOIN Invoice i\n",
    "\t-- Complete the common joining column\n",
    "\tON c.CustomerId = i.CustomerId\n",
    "-- Group the result by customer name\n",
    "GROUP BY c.FirstName, c.LastName\n",
    "-- Order by the total amount in descending order\n",
    "ORDER BY TotalAmount DESC"
   ]
  },
  {
   "cell_type": "markdown",
   "id": "a32f29e9",
   "metadata": {},
   "source": [
    "### Adapt your query to use the USING clause instead of ON"
   ]
  },
  {
   "cell_type": "raw",
   "id": "75907608",
   "metadata": {},
   "source": [
    "-- Select the customer first and last name, and the total amount\n",
    "SELECT c.FirstName, c.LastName, SUM(i.Total) AS TotalAmount\n",
    "-- Join the Customer and the Invoice tables\n",
    "FROM Customer c INNER JOIN Invoice i\n",
    "\t-- Complete the common joining column\n",
    "\tUSING(CustomerId)\n",
    "-- Group the data by customer name\n",
    "GROUP BY c.FirstName, c.LastName\n",
    "-- Order by the total amount in descending order\n",
    "ORDER BY TotalAmount DESC"
   ]
  },
  {
   "cell_type": "markdown",
   "id": "26dde7db",
   "metadata": {},
   "source": [
    "## Joining multiple tables\n",
    "* This time around eSymphony wants to know what tracks were bought the most in the USA. With this information they can help understand the demographics in this country and set up a marketing campaign."
   ]
  },
  {
   "cell_type": "markdown",
   "id": "b4cec26e",
   "metadata": {},
   "source": [
    "### Select the track name and billing country.\n",
    "### Complete the join clauses to join Track with InvoiceLine, and InvoiceLine with Invoice."
   ]
  },
  {
   "cell_type": "raw",
   "id": "b212ba35",
   "metadata": {},
   "source": [
    "-- Select the track name and billing country\n",
    "SELECT t.name, i.billingcountry\n",
    "-- Join the data in the Track, InvoiceLine, and Invoice tables\n",
    "FROM Track t INNER JOIN InvoiceLine il \n",
    "    ON t.TrackId = il.TrackId\n",
    "    INNER JOIN Invoice i \n",
    "   \tON il.InvoiceId = i.InvoiceId"
   ]
  },
  {
   "cell_type": "markdown",
   "id": "c53cc173",
   "metadata": {},
   "source": [
    "### Count the number of times a track appears in the table and group by track name.\n",
    "### Order by count in descending order."
   ]
  },
  {
   "cell_type": "raw",
   "id": "c88a8798",
   "metadata": {},
   "source": [
    "-- Select the track name and count\n",
    "SELECT t.Name, COUNT(*)\n",
    "-- Join the data in the Track, InvoiceLine, and Invoice tables\n",
    "FROM Track t INNER JOIN InvoiceLine il \n",
    "    ON t.TrackId = il.TrackId\n",
    "    INNER JOIN Invoice i \n",
    "    ON il.InvoiceId = i.InvoiceId\n",
    "-- Filter on the USA \n",
    "WHERE i.BillingCountry = 'USA'\n",
    "-- Group by track name\n",
    "GROUP BY t.name\n",
    "-- Order by count in descending order\n",
    "ORDER BY Count(*) DESC"
   ]
  },
  {
   "cell_type": "markdown",
   "id": "cc0ea4a2",
   "metadata": {},
   "source": [
    "## Left outer join\n",
    "* eSymphony's marketing department has noticed that songs in playlists get purchased more often. Since there's a Led Zeppelin anniversary coming up, they want to know how many songs composed by Jimmy Page, the founder of the band, are not in a playlist yet.\n",
    " You decide to use a left outer join to solve this problem. By doing this, you are sure all tracks, even the ones that aren't included in a playlist, are shown."
   ]
  },
  {
   "cell_type": "markdown",
   "id": "ee960a5f",
   "metadata": {},
   "source": [
    "### Perform a left outer join between the relevant tables.\n",
    "### Match the tables on the TrackId field."
   ]
  },
  {
   "cell_type": "raw",
   "id": "9fb7601b",
   "metadata": {},
   "source": [
    "SELECT t.TrackId, t.Composer, t.Name, p.PlaylistId\n",
    "-- Perform a left outer join\n",
    "FROM Track t LEFT OUTER JOIN PlaylistTrack p\n",
    "\t-- Match on track id\n",
    "\tON t.TrackId = p.TrackId\n",
    "-- Filter on composer\n",
    "WHERE t.composer = 'Jimmy Page'"
   ]
  },
  {
   "cell_type": "markdown",
   "id": "0938a48c",
   "metadata": {},
   "source": [
    "## Right outer join\n",
    "* This time you want to figure out which tracks have never been sold. With this information eSymphony can limit the songs on offer and do some more targeted sales. They want you to focus on Miles Davis specifically because they noticed that jazz is not selling particularly well.\n",
    "* The company has asked you to do this by using a right outer join. Feels like they are being weirdly specific in their request but you decide to go along with it."
   ]
  },
  {
   "cell_type": "markdown",
   "id": "4f833b40",
   "metadata": {},
   "source": [
    "### Perform a right outer join between the relevant tables.\n",
    "### Match the tables on the TrackId field."
   ]
  },
  {
   "cell_type": "raw",
   "id": "848b75d5",
   "metadata": {},
   "source": [
    "SELECT t.TrackId, t.Name, i.InvoiceId, i.Quantity\n",
    "-- Perform a right outer join\n",
    "FROM InvoiceLine i RIGHT OUTER JOIN Track t\n",
    "\t-- Match on track id\n",
    "\tON i.TrackId = t.TrackId"
   ]
  },
  {
   "cell_type": "markdown",
   "id": "c215508b",
   "metadata": {},
   "source": [
    "### Filter on tracks with 'Miles Davis' listed as the composer."
   ]
  },
  {
   "cell_type": "raw",
   "id": "0bf6e323",
   "metadata": {},
   "source": [
    "SELECT t.TrackId, t.Name, i.InvoiceId, i.Quantity\n",
    "-- Perform a left outer join\n",
    "FROM InvoiceLine i RIGHT OUTER JOIN Track t\n",
    "\t-- Match on track id\n",
    "\tON i.TrackId = t.TrackId\n",
    "-- Filter on composer\n",
    "Where Composer = 'Miles Davis'"
   ]
  },
  {
   "cell_type": "markdown",
   "id": "2fbf52e7",
   "metadata": {},
   "source": [
    "## Cross joins\n",
    "* For a business to be successful, it's important to treat your most loyal customers well. You'd like to make sure that the support team is aware of who these customers are, so that they can prioritize their requests. You'd like to create a table where each of the support agents gets matched to each customer that spent at least $45 with eSymphony."
   ]
  },
  {
   "cell_type": "markdown",
   "id": "1385f761",
   "metadata": {},
   "source": [
    "### Select the first name and the last name of the employees and customers, and cross join the customer table with the employee table, alias the customer table as c and the employee table as e."
   ]
  },
  {
   "cell_type": "raw",
   "id": "08f3535d",
   "metadata": {},
   "source": [
    "-- Select first and last names\n",
    "SELECT e.FirstName || ' ' || e.LastName AS \"Employee\",\n",
    "       c.FirstName || ' ' || c.LastName AS \"Customer\"\n",
    "-- Join Employee with Customer\n",
    "FROM EMPLOYEE e CROSS JOIN CUSTOMER c"
   ]
  },
  {
   "cell_type": "markdown",
   "id": "316c86e2",
   "metadata": {},
   "source": [
    "### Time to reduce the scope of the query! Only Sales Support Agent should investigate these customers, so let's filter on those."
   ]
  },
  {
   "cell_type": "raw",
   "id": "0bcde36d",
   "metadata": {},
   "source": [
    "-- Select first and last names\n",
    "SELECT e.FirstName || ' ' || e.LastName AS \"Employee\",\n",
    "       c.FirstName || ' ' || c.LastName AS \"Customer\"\n",
    "-- Join employee with customer\n",
    "FROM Employee e CROSS JOIN Customer c\n",
    "-- Filter for sales support agents only\n",
    "WHERE e.title = 'Sales Support Agent'"
   ]
  },
  {
   "cell_type": "markdown",
   "id": "79731a58",
   "metadata": {},
   "source": [
    "### Now let's get the total amount customers have spent with eSymphony. Join the Invoice table, and select the sum of the \"Total\" column. The GROUP BY clause has been added for you."
   ]
  },
  {
   "cell_type": "raw",
   "id": "7d4495e5",
   "metadata": {},
   "source": [
    "-- Select first and last names\n",
    "SELECT e.FirstName || ' ' || e.LastName AS \"Employee\",\n",
    "       c.FirstName || ' ' || c.LastName AS \"Customer\",\n",
    "\t   SUM(i.Total) AS \"Total\"\n",
    "-- Join Employee with Customer\n",
    "FROM Employee e CROSS JOIN Customer c \n",
    "-- Join with Invoice\n",
    "\tINNER JOIN INVOICE i ON c.CustomerId = i.CustomerId\n",
    "-- Filter for support agents only\n",
    "WHERE e.Title = 'Sales Support Agent'\n",
    "GROUP BY e.FirstName, e.LastName, c.FirstName, c.LastName"
   ]
  },
  {
   "cell_type": "markdown",
   "id": "66de01f4",
   "metadata": {},
   "source": [
    "### Filter for customers that spent $45 or more."
   ]
  },
  {
   "cell_type": "raw",
   "id": "c246f2fe",
   "metadata": {},
   "source": [
    "-- Select first and last names\n",
    "SELECT e.FirstName || ' ' || e.LastName AS \"Employee\",\n",
    "       c.FirstName || ' ' || c.LastName AS \"Customer\",\n",
    "\t   SUM(i.total) AS \"Total\"\n",
    "-- Join Employee with Customer\n",
    "FROM Employee e CROSS JOIN Customer c\n",
    "-- Join with Invoice\n",
    "\t INNER JOIN Invoice i ON c.CustomerId = i.CustomerId\n",
    "-- Filter for support agents only     \n",
    "WHERE e.Title = 'Sales Support Agent'\n",
    "GROUP BY e.FirstName, e.LastName, c.FirstName, c.LastName\n",
    "-- Filter for customers that spent $45 or more\n",
    "HAVING SUM(i.Total) >= 45"
   ]
  },
  {
   "cell_type": "markdown",
   "id": "293cd995",
   "metadata": {},
   "source": [
    "**CROSS JOINs are pretty rare. There were easier ways to get the answer we were looking for here. However, they are still part of the Oracle certification, and sometimes you need them, so it's good to know they exist, and how to use them. On to SELF JOINs!**"
   ]
  },
  {
   "cell_type": "markdown",
   "id": "f94eb2e4",
   "metadata": {},
   "source": [
    "## Self joins\n",
    "* People who love music also love to discuss it or discover new artists. eSymphony is thinking about organizing a meetup to gather customers from a same city. That's not all: they would like to organize a speed meeting session, so that all customers get to speak with each other and exchange at least one artist.\n",
    "* They tasked you with coming up with a list of customer matches per city."
   ]
  },
  {
   "cell_type": "markdown",
   "id": "52d55ad2",
   "metadata": {},
   "source": [
    "### Select the city in a first column, as well as the customer's first and last name grouped in a second column called \"customer_1\". Alias the customer table as c1."
   ]
  },
  {
   "cell_type": "raw",
   "id": "6cf96096",
   "metadata": {},
   "source": [
    "-- Select city in one column, first and last name in another\n",
    "SELECT c1.City,\n",
    "       c1.FirstName || ' ' || c1.LastName customer_1\n",
    "-- Alias Customer table as c1\n",
    "FROM Customer c1"
   ]
  },
  {
   "cell_type": "markdown",
   "id": "4a44609d",
   "metadata": {},
   "source": [
    "### Use a self join to select the city and the customer's first and last name grouped in one column called \"customer_2\". Alias the second customer table as c2. The ON c1.CustomerId > c2.CustomerId ensures you don't get duplicate matches."
   ]
  },
  {
   "cell_type": "raw",
   "id": "3aea3ff0",
   "metadata": {},
   "source": [
    "-- Select city first and last name in one column\n",
    "SELECT\n",
    "    c1.City,\n",
    "    c1.FirstName || ' ' || c1.LastName customer_1,\n",
    "    -- Select customer first name and last name in one column\n",
    "    c2.FirstName || ' ' || c2.LastName customer_2\n",
    "-- Alias customer table as c1\n",
    "FROM Customer c1\n",
    "-- Join customer table on itself\n",
    "JOIN Customer c2 ON c1.CustomerId > c2.CustomerId"
   ]
  },
  {
   "cell_type": "markdown",
   "id": "b06dd167",
   "metadata": {},
   "source": [
    "### Right now, you're just matching all customers with each other. Make sure that you match customers only if they live in the same city.\n"
   ]
  },
  {
   "cell_type": "raw",
   "id": "f89ea479",
   "metadata": {},
   "source": [
    "-- Select city first and last name in one column\n",
    "SELECT\n",
    "    c1.City,\n",
    "    c1.FirstName || ' ' || c1.LastName customer_1,\n",
    "    c2.FirstName || ' ' || c2.LastName customer_2\n",
    "-- Alias customer table as c1\n",
    "FROM Customer c1\n",
    "-- Join customer table on itself\n",
    "JOIN Customer c2 ON c1.CustomerId > c2.CustomerId\n",
    "\t-- Match customers only if they live in the same city\n",
    "\tAND c1.City = c2.City"
   ]
  },
  {
   "cell_type": "markdown",
   "id": "9e0cf2b2",
   "metadata": {},
   "source": [
    "## SET OPERATORS"
   ]
  },
  {
   "cell_type": "markdown",
   "id": "a817e0dd",
   "metadata": {},
   "source": [
    "### I want it all\n",
    "* Are there some eSymphony employees that are also customers of the company? Let's find out!"
   ]
  },
  {
   "cell_type": "markdown",
   "id": "ee45e7a8",
   "metadata": {},
   "source": [
    "#### Write a query to get the first name and last name of all employees and customers."
   ]
  },
  {
   "cell_type": "raw",
   "id": "71ef5162",
   "metadata": {},
   "source": [
    "-- Get employees first and last names\n",
    "SELECT FirstName, LastName\n",
    "FROM Employee\n",
    "-- Get customers first and last names\n",
    "UNION ALL\n",
    "SELECT FirstName, LastName\n",
    "From Customer"
   ]
  },
  {
   "cell_type": "markdown",
   "id": "c822977a",
   "metadata": {},
   "source": [
    "#### Our query result contains 67 rows. Some employees may also be customers: modify your query to remove duplicates."
   ]
  },
  {
   "cell_type": "raw",
   "id": "dc85b8f4",
   "metadata": {},
   "source": [
    "SELECT FirstName, LastName\n",
    "FROM Employee\n",
    "-- Modify your clause to remove duplicates\n",
    "UNION\n",
    "SELECT FirstName, LastName\n",
    "FROM Customer"
   ]
  },
  {
   "cell_type": "markdown",
   "id": "7930497c",
   "metadata": {},
   "source": [
    "## Under pressure\n",
    "* Are there some tracks that have never been bought? Let's find out.\n",
    "\n",
    "* For the moment, let's find out which tracks have been bought at least once."
   ]
  },
  {
   "cell_type": "markdown",
   "id": "337bbd06",
   "metadata": {},
   "source": [
    "### Find the tracks that appear in the Track table, that also appear in the InvoiceLine one."
   ]
  },
  {
   "cell_type": "raw",
   "id": "c18e559d",
   "metadata": {},
   "source": [
    "-- Get track IDs that appear in InvoiceLine\n",
    "SELECT TrackId\n",
    "FROM Track\n",
    "INTERSECT\n",
    "SELECT TrackId\n",
    "FROM InvoiceLine"
   ]
  },
  {
   "cell_type": "markdown",
   "id": "e7a26761",
   "metadata": {},
   "source": [
    "### Another one bites the dust\n",
    "* Following up on our track purchase analysis, let's get the tracks that have never been bought."
   ]
  },
  {
   "cell_type": "markdown",
   "id": "c87e01d0",
   "metadata": {},
   "source": [
    "### Find the tracks that appear in the Track table, that don't appear in the InvoiceLine one."
   ]
  },
  {
   "cell_type": "raw",
   "id": "0430845d",
   "metadata": {},
   "source": [
    "-- Get track IDs that don't appear in invoiceline\n",
    "SELECT  TrackId\n",
    "FROM Track\n",
    "MINUS\n",
    "SELECT TrackId\n",
    "FROM InvoiceLine"
   ]
  }
 ],
 "metadata": {
  "kernelspec": {
   "display_name": "Python 3 (ipykernel)",
   "language": "python",
   "name": "python3"
  },
  "language_info": {
   "codemirror_mode": {
    "name": "ipython",
    "version": 3
   },
   "file_extension": ".py",
   "mimetype": "text/x-python",
   "name": "python",
   "nbconvert_exporter": "python",
   "pygments_lexer": "ipython3",
   "version": "3.9.12"
  }
 },
 "nbformat": 4,
 "nbformat_minor": 5
}
