{
 "cells": [
  {
   "cell_type": "markdown",
   "id": "cea45e7f",
   "metadata": {},
   "source": [
    "### Basic CASE statements\n",
    "#### Select the team's long name and API id from the teams_germany table.\n",
    "#### Filter the query for FC Schalke 04 and FC Bayern Munich using IN, giving you the team_api_IDs needed for the next step."
   ]
  },
  {
   "cell_type": "raw",
   "id": "bce11d77",
   "metadata": {},
   "source": [
    "SELECT\n",
    "\t-- Select the team long name and team API id\n",
    "\tteam_long_name,\n",
    "\tteam_api_id\n",
    "FROM teams_germany\n",
    "-- Only include FC Schalke 04 and FC Bayern Munich\n",
    "WHERE team_long_name IN ('FC Schalke 04', 'FC Bayern Munich');"
   ]
  },
  {
   "cell_type": "markdown",
   "id": "4d8247be",
   "metadata": {},
   "source": [
    "#### Create a CASE statement that identifies whether a match in Germany included FC Bayern Munich, FC Schalke 04, or neither as the home team.\n",
    "#### Group the query by the CASE statement alias, home_team."
   ]
  },
  {
   "cell_type": "raw",
   "id": "92e0b1c0",
   "metadata": {},
   "source": [
    "-- Identify the home team as Bayern Munich, Schalke 04, or neither\n",
    "SELECT \n",
    "\tCASE WHEN hometeam_id = 10189 THEN 'FC Schalke 04'\n",
    "        WHEN hometeam_id = 9823 THEN 'FC Bayern Munich'\n",
    "         ELSE 'Other' END AS home_team,\n",
    "\tCOUNT(id) AS total_matches\n",
    "FROM matches_germany\n",
    "-- Group by the CASE statement alias\n",
    "GROUP BY home_team;"
   ]
  },
  {
   "cell_type": "markdown",
   "id": "5cfa4ff1",
   "metadata": {},
   "source": [
    "### CASE statements comparing column values\n",
    "#### Select the date of the match and create a CASE statement to identify matches as home wins, home losses, or ties."
   ]
  },
  {
   "cell_type": "raw",
   "id": "30fd51ea",
   "metadata": {},
   "source": [
    "SELECT \n",
    "\t-- Select the date of the match\n",
    "\tdate,\n",
    "\t-- Identify home wins, losses, or ties\n",
    "\tCASE WHEN home_goal > away_goal THEN 'Home win!'\n",
    "        WHEN home_goal < away_goal THEN 'Home loss :(' \n",
    "        ELSE 'Tie' END AS outcome\n",
    "FROM matches_spain;"
   ]
  },
  {
   "cell_type": "markdown",
   "id": "ea651049",
   "metadata": {},
   "source": [
    "#### Left join the teams_spain table team_api_id column to the matches_spain table awayteam_id. This allows us to retrieve the away team's identity.\n",
    "#### Select team_long_name from teams_spain as opponent and complete the CASE statement from Step 1."
   ]
  },
  {
   "cell_type": "raw",
   "id": "8d320d9c",
   "metadata": {},
   "source": [
    "SELECT \n",
    "\tm.date,\n",
    "\t--Select the team long name column and call it 'opponent'\n",
    "\tt.team_long_name AS opponent, \n",
    "\t-- Complete the CASE statement with an alias\n",
    "\tCASE WHEN m.home_goal > m.away_goal THEN 'Home win!'\n",
    "        WHEN m.home_goal < m.away_goal THEN 'Home loss :('\n",
    "        ELSE 'Tie' END AS outcome\n",
    "FROM matches_spain AS m\n",
    "-- Left join teams_spain onto matches_spain\n",
    "LEFT JOIN teams_spain AS t\n",
    "ON m.awayteam_id = t.team_api_id;"
   ]
  },
  {
   "cell_type": "markdown",
   "id": "c3e47e19",
   "metadata": {},
   "source": [
    "#### Complete the same CASE statement as the previous steps.\n",
    "#### Filter for matches where the home team is FC Barcelona (id = 8634)."
   ]
  },
  {
   "cell_type": "raw",
   "id": "7c7271d1",
   "metadata": {},
   "source": [
    "SELECT \n",
    "\tm.date,\n",
    "\tt.team_long_name AS opponent,\n",
    "    -- Complete the CASE statement with an alias\n",
    "\tCASE WHEN m.home_goal > m.away_goal THEN 'Barcelona win!'\n",
    "        WHEN m.home_goal < m.away_goal THEN 'Barcelona loss :(' \n",
    "        ELSE 'Tie' END AS outcome \n",
    "FROM matches_spain AS m\n",
    "LEFT JOIN teams_spain AS t \n",
    "ON m.awayteam_id = t.team_api_id\n",
    "-- Filter for Barcelona as the home team\n",
    "WHERE m.hometeam_id = 8634; "
   ]
  },
  {
   "cell_type": "markdown",
   "id": "ce944814",
   "metadata": {},
   "source": [
    "### CASE statements comparing two column values part 2\n",
    "#### Complete the CASE statement to identify Barcelona's away team games (id = 8634) as wins, losses, or ties.\n",
    "#### Left join the teams_spain table team_api_id column on the matches_spain table hometeam_id column. This retrieves the identity of the home team opponent.\n",
    "#### Filter the query to only include matches where Barcelona was the away team."
   ]
  },
  {
   "cell_type": "raw",
   "id": "92039f2a",
   "metadata": {},
   "source": [
    "-- Select matches where Barcelona was the away team\n",
    "SELECT  \n",
    "\tm.date,\n",
    "\tt.team_long_name AS opponent,\n",
    "\tCASE WHEN m.home_goal < m.away_goal THEN 'Barcelona win!'\n",
    "        WHEN m.home_goal > m.away_goal THEN 'Barcelona loss :(' \n",
    "        ELSE 'Tie' END AS outcome\n",
    "FROM matches_spain AS m\n",
    "-- Join teams_spain to matches_spain\n",
    "LEFT JOIN teams_spain AS t \n",
    "ON m.hometeam_id = t.team_api_id\n",
    "WHERE m.awayteam_id = 8634;"
   ]
  },
  {
   "cell_type": "markdown",
   "id": "49c02088",
   "metadata": {},
   "source": [
    "### In CASE of rivalry\n",
    "#### Complete the first CASE statement, identifying Barcelona or Real Madrid as the home team using the hometeam_id column.\n",
    "#### omplete the second CASE statement in the same way, using awayteam_id."
   ]
  },
  {
   "cell_type": "raw",
   "id": "f8b98e92",
   "metadata": {},
   "source": [
    "SELECT \n",
    "\tdate,\n",
    "\t-- Identify the home team as Barcelona or Real Madrid\n",
    "\tCASE WHEN hometeam_id = 8634 THEN 'FC Barcelona' \n",
    "        ELSE 'Real Madrid CF' END AS home,\n",
    "    -- Identify the away team as Barcelona or Real Madrid\n",
    "        CASE WHEN awayteam_id = 8634 THEN 'FC Barcelona' \n",
    "        ELSE 'Real Madrid CF' END AS away\n",
    "FROM matches_spain\n",
    "WHERE (awayteam_id = 8634 OR hometeam_id = 8634)\n",
    "      AND (awayteam_id = 8633 OR hometeam_id = 8633);"
   ]
  },
  {
   "cell_type": "markdown",
   "id": "e9e89767",
   "metadata": {},
   "source": [
    "#### Construct the final CASE statement identifying who won each match. Note there are 3 possible outcomes, but 5 conditions that you need to identify.\n",
    "#### Fill in the logical operators to identify Barcelona or Real Madrid as the winner."
   ]
  },
  {
   "cell_type": "raw",
   "id": "dd0b293f",
   "metadata": {},
   "source": [
    "SELECT \n",
    "\tdate,\n",
    "\tCASE WHEN hometeam_id = 8634 THEN 'FC Barcelona' \n",
    "         ELSE 'Real Madrid CF' END as home,\n",
    "\tCASE WHEN awayteam_id = 8634 THEN 'FC Barcelona' \n",
    "         ELSE 'Real Madrid CF' END as away,\n",
    "\t-- Identify all possible match outcomes\n",
    "\tCASE WHEN home_goal > away_goal AND hometeam_id = 8634 THEN 'Barcelona win!'\n",
    "        WHEN home_goal > away_goal AND hometeam_id = 8633 THEN 'Real Madrid win!'\n",
    "        WHEN home_goal < away_goal AND awayteam_id = 8634 THEN 'Barcelona win!'\n",
    "        WHEN home_goal < away_goal AND awayteam_id = 8633 THEN 'Real Madrid win!'\n",
    "        ELSE 'Tie!' END AS outcome\n",
    "FROM matches_spain\n",
    "WHERE (awayteam_id = 8634 OR hometeam_id = 8634)\n",
    "    AND (awayteam_id = 8633 OR hometeam_id = 8633);"
   ]
  },
  {
   "cell_type": "markdown",
   "id": "ad94cd70",
   "metadata": {},
   "source": [
    "### Filtering your CASE statement\n",
    "* CASE statements allow you to categorize data that you're interested in -- and exclude data you're not interested in. In order to do this, you can use a CASE statement as a filter in the WHERE statement to remove output you don't want to see.\n",
    "* In essence, you can use the CASE statement as a filtering column like any other column in your database. The only difference is that you don't alias the statement in WHERE."
   ]
  },
  {
   "cell_type": "markdown",
   "id": "e07582ad",
   "metadata": {},
   "source": [
    "#### Identify Bologna's team ID listed in the teams_italy table by selecting the team_long_name and team_api_id."
   ]
  },
  {
   "cell_type": "raw",
   "id": "75911381",
   "metadata": {},
   "source": [
    "-- Select team_long_name and team_api_id from team\n",
    "SELECT\n",
    "\tteam_api_id,\n",
    "\tteam_long_name\n",
    "FROM teams_italy\n",
    "-- Filter for team long name\n",
    "WHERE team_long_name = 'Bologna';"
   ]
  },
  {
   "cell_type": "markdown",
   "id": "27b90215",
   "metadata": {},
   "source": [
    "#### Select the season and date that a match was played.\n",
    "#### Complete the CASE statement so that only Bologna's home and away wins are identified."
   ]
  },
  {
   "cell_type": "raw",
   "id": "cf1ab16b",
   "metadata": {},
   "source": [
    "-- Select the season and date columns\n",
    "SELECT \n",
    "\tseason,\n",
    "\tdate,\n",
    "    -- Identify when Bologna won a match\n",
    "\tCASE WHEN hometeam_id = 9857 \n",
    "        AND home_goal > away_goal \n",
    "        THEN 'Bologna Win'\n",
    "\t\tWHEN awayteam_id = 9857 \n",
    "        AND away_goal > home_goal \n",
    "        THEN 'Bologna Win' \n",
    "\t\tEND AS outcome\n",
    "FROM matches_italy;"
   ]
  },
  {
   "cell_type": "markdown",
   "id": "f2b53df9",
   "metadata": {},
   "source": [
    "#### Select the home_goal and away_goal for each match.\n",
    "#### Use the CASE statement in the WHERE clause to filter all NULL values generated by the statement in the previous step."
   ]
  },
  {
   "cell_type": "raw",
   "id": "13a35997",
   "metadata": {},
   "source": [
    "-- Select the season, date, home_goal, and away_goal columns\n",
    "SELECT \n",
    "\tseason,\n",
    "    date,\n",
    "\thome_goal,\n",
    "\taway_goal\n",
    "FROM matches_italy\n",
    "WHERE \n",
    "-- Exclude games not won by Bologna\n",
    "\tCASE WHEN hometeam_id = 9857 AND home_goal > away_goal THEN 'Bologna Win'\n",
    "\t\tWHEN awayteam_id = 9857 AND away_goal > home_goal THEN 'Bologna Win' \n",
    "\t\tEND IS NOT NULL;"
   ]
  },
  {
   "cell_type": "markdown",
   "id": "0b546b7d",
   "metadata": {},
   "source": [
    "### COUNT using CASE WHEN\n",
    "#### Create a CASE statement that identifies the id of matches played in the 2012/2013 season. Specify that you want ELSE values to be NULL.\n",
    "#### Wrap the CASE statement in a COUNT function and group the query by the country alias."
   ]
  },
  {
   "cell_type": "raw",
   "id": "41198068",
   "metadata": {},
   "source": [
    "SELECT \n",
    "\tc.name AS country,\n",
    "    -- Count games from the 2012/2013 season\n",
    "\tCOUNT(CASE WHEN m.season = '2012/2013' \n",
    "        \tTHEN m.id ELSE NULL END) AS matches_2012_2013\n",
    "FROM country AS c\n",
    "LEFT JOIN match AS m\n",
    "ON c.id = m.country_id\n",
    "-- Group by country name alias\n",
    "GROUP BY country;"
   ]
  },
  {
   "cell_type": "markdown",
   "id": "7084d974",
   "metadata": {},
   "source": [
    "#### Create 3 CASE WHEN statements counting the matches played in each country across the 3 seasons.\n",
    "#### END your CASE statement without an ELSE clause."
   ]
  },
  {
   "cell_type": "raw",
   "id": "ad71ffb6",
   "metadata": {},
   "source": [
    "SELECT \n",
    "\tc.name AS country,\n",
    "    -- Count matches in each of the 3 seasons\n",
    "\tCOUNT(CASE WHEN m.season = '2012/2013' THEN m.id END) AS matches_2012_2013,\n",
    "\tCOUNT(CASE WHEN m.season = '2013/2014' THEN m.id END) AS matches_2013_2014,\n",
    "\tCOUNT(CASE WHEN m.season = '2014/2015' THEN m.id END) AS matches_2014_2015\n",
    "FROM country AS c\n",
    "LEFT JOIN match AS m\n",
    "ON c.id = m.country_id\n",
    "-- Group by country name alias\n",
    "GROUP BY country;"
   ]
  },
  {
   "cell_type": "markdown",
   "id": "9ac7784d",
   "metadata": {},
   "source": [
    "### COUNT and CASE WHEN with multiple conditions\n",
    "* In R or Python, you have the ability to calculate a SUM of logical values (i.e., TRUE/FALSE) directly. In SQL, you have to convert these values into 1 and 0 before calculating a sum. This can be done using a CASE statement.\n",
    "* There's one key difference when using SUM to aggregate logical values compared to using COUNT in the previous exercise --"
   ]
  },
  {
   "cell_type": "markdown",
   "id": "cfeb8d0a",
   "metadata": {},
   "source": [
    "#### Create 3 CASE statements to \"count\" matches in the '2012/2013', '2013/2014', and '2014/2015' seasons, respectively.\n",
    "#### Have each CASE statement return a 1 for every match you want to include, and a 0 for every match to exclude.\n",
    "#### Wrap the CASE statement in a SUM to return the total matches played in each season.\n",
    "#### Group the query by the country name alias."
   ]
  },
  {
   "cell_type": "raw",
   "id": "7adc4d17",
   "metadata": {},
   "source": [
    "SELECT \n",
    "\tc.name AS country,\n",
    "    -- Sum the total records in each season where the home team won\n",
    "\tSUM(CASE WHEN m.season = '2012/2013' AND m.home_goal > m.away_goal \n",
    "        THEN 1 ELSE 0 END) AS matches_2012_2013,\n",
    " \tSUM(CASE WHEN m.season = '2013/2014' AND m.home_goal > m.away_goal \n",
    "        THEN 1 ELSE 0 END) AS matches_2013_2014,\n",
    "\tSUM(CASE WHEN m.season = '2014/2015' AND m.home_goal > m.away_goal\n",
    "        THEN 1 ELSE 0 END) AS matches_2014_2015\n",
    "FROM country AS c\n",
    "LEFT JOIN match AS m\n",
    "ON c.id = m.country_id\n",
    "-- Group by country name alias\n",
    "GROUP BY country;"
   ]
  },
  {
   "cell_type": "markdown",
   "id": "a9148963",
   "metadata": {},
   "source": [
    "### Calculating percent with CASE and AVG\n",
    "* CASE statements will return any value you specify in your THEN clause. This is an incredibly powerful tool for robust calculations and data manipulation when used in conjunction with an aggregate statement. One key task you can perform is using CASE inside an AVG function to calculate a percentage of information in your database."
   ]
  },
  {
   "cell_type": "markdown",
   "id": "a604c035",
   "metadata": {},
   "source": [
    "#### Create 3 CASE statements to COUNT the total number of home team wins, away team wins, and ties, which will allow you to examine the total number of records."
   ]
  },
  {
   "cell_type": "raw",
   "id": "3e09c3be",
   "metadata": {},
   "source": [
    "SELECT \n",
    "    c.name AS country,\n",
    "    -- Count the home wins, away wins, and ties in each country\n",
    "\tCOUNT(CASE WHEN m.home_goal > m.away_goal THEN m.id \n",
    "        END) AS home_wins,\n",
    "\tCOUNT(CASE WHEN m.home_goal < m.away_goal THEN m.id \n",
    "        END) AS away_wins,\n",
    "\tCOUNT(CASE WHEN m.home_goal = m.away_goal THEN m.id \n",
    "        END) AS ties\n",
    "FROM country AS c\n",
    "LEFT JOIN matches AS m\n",
    "ON c.id = m.country_id\n",
    "GROUP BY country;"
   ]
  },
  {
   "cell_type": "markdown",
   "id": "cb362a11",
   "metadata": {},
   "source": [
    "#### Calculate the percentage of matches tied using a CASE statement inside AVG.\n",
    "#### Fill in the logical operators for each statement. Alias your columns as ties_2013_2014 and ties_2014_2015, respectively."
   ]
  },
  {
   "cell_type": "raw",
   "id": "7fdc1e9d",
   "metadata": {},
   "source": [
    "SELECT \n",
    "\tc.name AS country,\n",
    "    -- Calculate the percentage of tied games in each season\n",
    "\tAVG(CASE WHEN m.season= '2013/2014' AND m.home_goal = m.away_goal THEN 1\n",
    "\t\t\t WHEN m.season= '2013/2014' AND m.home_goal != m.away_goal THEN 0\n",
    "\t\t\t END) AS ties_2013_2014,\n",
    "\tAVG(CASE WHEN m.season= '2014/2015' AND m.home_goal = m.away_goal THEN 1\n",
    "\t\t\t WHEN m.season= '2014/2015' AND m.home_goal != m.away_goal THEN 0\n",
    "\t\t\t END) AS ties_2014_2015\n",
    "FROM country AS c\n",
    "LEFT JOIN matches AS m\n",
    "ON c.id = m.country_id\n",
    "GROUP BY country;"
   ]
  },
  {
   "cell_type": "markdown",
   "id": "e7c3ca14",
   "metadata": {},
   "source": [
    "#### The previous \"ties\" columns returned values with 14 decimal points, which is not easy to interpret. Use the ROUND function to round to 2 decimal points."
   ]
  },
  {
   "cell_type": "raw",
   "id": "59553c3b",
   "metadata": {},
   "source": [
    "SELECT \n",
    "\tc.name AS country,\n",
    "    -- Round the percentage of tied games to 2 decimal points\n",
    "\tROUND(AVG(CASE WHEN m.season='2013/2014' AND m.home_goal = m.away_goal THEN 1\n",
    "\t\t\t WHEN m.season='2013/2014' AND m.home_goal != m.away_goal THEN 0\n",
    "\t\t\t END), 2) AS pct_ties_2013_2014,\n",
    "\tROUND(AVG(CASE WHEN m.season='2014/2015' AND m.home_goal = m.away_goal THEN 1\n",
    "\t\t\t WHEN m.season='2014/2015' AND m.home_goal != m.away_goal THEN 0\n",
    "\t\t\t END),2) AS pct_ties_2014_2015\n",
    "FROM country AS c\n",
    "LEFT JOIN matches AS m\n",
    "ON c.id = m.country_id\n",
    "GROUP BY country;"
   ]
  }
 ],
 "metadata": {
  "kernelspec": {
   "display_name": "Python 3 (ipykernel)",
   "language": "python",
   "name": "python3"
  },
  "language_info": {
   "codemirror_mode": {
    "name": "ipython",
    "version": 3
   },
   "file_extension": ".py",
   "mimetype": "text/x-python",
   "name": "python",
   "nbconvert_exporter": "python",
   "pygments_lexer": "ipython3",
   "version": "3.9.12"
  }
 },
 "nbformat": 4,
 "nbformat_minor": 5
}
