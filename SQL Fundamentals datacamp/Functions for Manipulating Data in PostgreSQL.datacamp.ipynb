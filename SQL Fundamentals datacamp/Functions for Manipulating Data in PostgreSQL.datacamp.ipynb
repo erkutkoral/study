{
 "cells": [
  {
   "cell_type": "markdown",
   "id": "4e0792b3",
   "metadata": {},
   "source": [
    "## Overview of Common Data Types"
   ]
  },
  {
   "cell_type": "markdown",
   "id": "9a0c7325",
   "metadata": {},
   "source": [
    "### Getting information about your database\n",
    "* As we saw in the video, PostgreSQL has a system database called INFORMATION_SCHEMA that allows us to extract information about objects, including tables, in our database.\n",
    "* In this exercise we will look at how to query the tables table of the INFORMATION_SCHEMA database to discover information about tables in the DVD Rentals database including the name, type, schema, and catalog of all tables and views and then how to use the results to get additional information about columns in our tables."
   ]
  },
  {
   "cell_type": "markdown",
   "id": "76827041",
   "metadata": {},
   "source": [
    "#### Select all columns from the INFORMATION_SCHEMA.TABLES system database. Limit results that have a public table_schema."
   ]
  },
  {
   "cell_type": "raw",
   "id": "5d50443a",
   "metadata": {},
   "source": [
    " -- Select all columns from the TABLES system database\n",
    " SELECT * \n",
    " FROM INFORMATION_SCHEMA.TABLES\n",
    " -- Filter by schema\n",
    " WHERE table_schema = 'public';"
   ]
  },
  {
   "cell_type": "markdown",
   "id": "5c823601",
   "metadata": {},
   "source": [
    "#### Select all columns from the INFORMATION_SCHEMA.COLUMNS system database. Limit by table_name to actor"
   ]
  },
  {
   "cell_type": "raw",
   "id": "2102e979",
   "metadata": {},
   "source": [
    " -- Select all columns from the COLUMNS system database\n",
    " SELECT * \n",
    " FROM INFORMATION_SCHEMA.COLUMNS \n",
    " WHERE table_name = 'actor';"
   ]
  },
  {
   "cell_type": "markdown",
   "id": "c92a1284",
   "metadata": {},
   "source": [
    "## Determining data types\n",
    "* The columns table of the INFORMATION_SCHEMA database also allows us to extract information about the data types of columns in a table. We can extract information like the character or string length of a CHAR or VARCHAR column or the precision of a DECIMAL or NUMERIC floating point type.\n",
    "* Using the techniques you learned in the lesson, let's explore the customer table of our DVD Rental database."
   ]
  },
  {
   "cell_type": "raw",
   "id": "f201ec40",
   "metadata": {},
   "source": [
    "-- Get the column name and data type\n",
    "SELECT\n",
    " \tcolumn_name, \n",
    "    data_type\n",
    "-- From the system database information schema\n",
    "FROM INFORMATION_SCHEMA.COLUMNS \n",
    "-- For the customer table\n",
    "WHERE table_name = 'customer';"
   ]
  },
  {
   "cell_type": "markdown",
   "id": "f706e06b",
   "metadata": {},
   "source": [
    "## Interval data types\n",
    "* INTERVAL data types provide you with a very useful tool for performing arithmetic on date and time data types. For example, let's say our rental policy requires a DVD to be returned within 3 days. We can calculate the expected_return_date for a given DVD rental by adding an INTERVAL of 3 days to the rental_date from the rental table. We can then compare this result to the actual return_date to determine if the DVD was returned late."
   ]
  },
  {
   "cell_type": "markdown",
   "id": "8c99404b",
   "metadata": {},
   "source": [
    "#### Select the rental date and return date from the rental table.\n",
    "#### Add an INTERVAL of 3 days to the rental_date to calculate the expected return date`."
   ]
  },
  {
   "cell_type": "raw",
   "id": "70d8a093",
   "metadata": {},
   "source": [
    "SELECT\n",
    " \t-- Select the rental and return dates\n",
    "\trental_date,\n",
    "\treturn_date,\n",
    " \t-- Calculate the expected_return_date\n",
    "\trental_date + INTERVAL '3 days' AS expected_return_date\n",
    "FROM rental;"
   ]
  },
  {
   "cell_type": "markdown",
   "id": "01c151ab",
   "metadata": {},
   "source": [
    "## Accessing data in an ARRAY\n",
    "* In our DVD Rentals database, the film table contains an ARRAY for special_features which has a type of TEXT[]. Much like any ARRAY data type in PostgreSQL, a TEXT[] array can store an array of TEXT values. This comes in handy when you want to store things like phone numbers or email addresses as we saw in the lesson."
   ]
  },
  {
   "cell_type": "markdown",
   "id": "1ebe2c7b",
   "metadata": {},
   "source": [
    "#### Select the title and special features from the film table and compare the results between the two columns."
   ]
  },
  {
   "cell_type": "raw",
   "id": "620deb6f",
   "metadata": {},
   "source": [
    "-- Select the title and special features column \n",
    "SELECT \n",
    "  title, \n",
    "  special_features \n",
    "FROM film;"
   ]
  },
  {
   "cell_type": "markdown",
   "id": "fefb1de0",
   "metadata": {},
   "source": [
    "#### Select all films that have a special feature Trailers by filtering on the first index of the special_features ARRAY."
   ]
  },
  {
   "cell_type": "raw",
   "id": "87c54f54",
   "metadata": {},
   "source": [
    "-- Select the title and special features column \n",
    "SELECT \n",
    "  title, \n",
    "  special_features \n",
    "FROM film\n",
    "-- Use the array index of the special_features column\n",
    "WHERE special_features[1] = 'Trailers';"
   ]
  },
  {
   "cell_type": "markdown",
   "id": "9fac954e",
   "metadata": {},
   "source": [
    "#### Now let's select all films that have Deleted Scenes in the second index of the special_features ARRAY."
   ]
  },
  {
   "cell_type": "raw",
   "id": "2872ece2",
   "metadata": {},
   "source": [
    "-- Select the title and special features column \n",
    "SELECT \n",
    "  title, \n",
    "  special_features \n",
    "FROM film\n",
    "-- Use the array index of the special_features column\n",
    "WHERE special_features[2] = 'Deleted Scenes';"
   ]
  },
  {
   "cell_type": "markdown",
   "id": "7e2fd90d",
   "metadata": {},
   "source": [
    "## Searching an ARRAY with ANY\n",
    "* As we saw in the video, PostgreSQL also provides the ability to filter results by searching for values in an ARRAY. The ANY function allows you to search for a value in any index position of an ARRAY. Here's an example.\n",
    "\n",
    "**WHERE 'search text' = ANY(array_name)**\n",
    "* When using the ANY function, the value you are filtering on appears on the left side of the equation with the name of the ARRAY column as the parameter in the ANY function."
   ]
  },
  {
   "cell_type": "markdown",
   "id": "491a7bf5",
   "metadata": {},
   "source": [
    "#### Match 'Trailers' in any index of the special_features ARRAY regardless of position."
   ]
  },
  {
   "cell_type": "raw",
   "id": "829b1b07",
   "metadata": {},
   "source": [
    "SELECT\n",
    "  title, \n",
    "  special_features \n",
    "FROM film \n",
    "-- Modify the query to use the ANY function \n",
    "WHERE 'Trailers' = ANY(special_features);"
   ]
  },
  {
   "cell_type": "markdown",
   "id": "9c63fad1",
   "metadata": {},
   "source": [
    "## Searching an ARRAY with @>\n",
    "* The contains operator @> operator is alternative syntax to the ANY function and matches data in an ARRAY using the following syntax.\n",
    " **WHERE array_name @> ARRAY['search text'] :: type[]**"
   ]
  },
  {
   "cell_type": "markdown",
   "id": "0dd36ad0",
   "metadata": {},
   "source": [
    "#### Use the contains operator to match the text Deleted Scenes in the special_features column."
   ]
  },
  {
   "cell_type": "raw",
   "id": "c3b18522",
   "metadata": {},
   "source": [
    "SELECT \n",
    "  title, \n",
    "  special_features \n",
    "FROM film \n",
    "-- Filter where special_features contains 'Deleted Scenes'\n",
    "WHERE special_features @> ARRAY['Deleted Scenes'];"
   ]
  },
  {
   "cell_type": "markdown",
   "id": "905040b5",
   "metadata": {},
   "source": [
    "## Adding and subtracting date and time values\n",
    "* In this exercise, you will calculate the actual number of days rented as well as the true expected_return_date by using the rental_duration column from the film table along with the familiar rental_date from the rental table.\n",
    "* This will require that you dust off the skills you learned from prior courses on how to join two or more tables together. To select columns from both the film and rental tables in a single query, we'll need to use the inventory table to join these two tables together since there is no explicit relationship between them. Let's give it a try!"
   ]
  },
  {
   "cell_type": "markdown",
   "id": "9e1e7def",
   "metadata": {},
   "source": [
    "#### Subtract the rental_date from the return_date to calculate the number of days_rented."
   ]
  },
  {
   "cell_type": "raw",
   "id": "8a355e27",
   "metadata": {},
   "source": [
    "SELECT f.title, f.rental_duration,\n",
    "    -- Calculate the number of days rented\n",
    "    r.return_date - r.rental_date AS days_rented\n",
    "FROM film AS f\n",
    "     INNER JOIN inventory AS i ON f.film_id = i.film_id\n",
    "     INNER JOIN rental AS r ON i.inventory_id = r.inventory_id\n",
    "ORDER BY f.title;"
   ]
  },
  {
   "cell_type": "markdown",
   "id": "69e2ac0c",
   "metadata": {},
   "source": [
    "#### Now use the AGE() function to calculate the days_rented."
   ]
  },
  {
   "cell_type": "raw",
   "id": "2c898b9f",
   "metadata": {},
   "source": [
    "SELECT f.title, f.rental_duration,\n",
    "    -- Calculate the number of days rented\n",
    "\tAGE(r.return_date, r.rental_date) AS days_rented\n",
    "FROM film AS f\n",
    "\tINNER JOIN inventory AS i ON f.film_id = i.film_id\n",
    "\tINNER JOIN rental AS r ON i.inventory_id = r.inventory_id\n",
    "ORDER BY f.title;"
   ]
  },
  {
   "cell_type": "markdown",
   "id": "ac415f45",
   "metadata": {},
   "source": [
    "## INTERVAL arithmetic\n",
    "* If you were running a real DVD Rental store, there would be times when you would need to determine what film titles were currently out for rental with customers. In the previous exercise, we saw that some of the records in the results had a NULL value for the return_date. This is because the rental was still outstanding.\n",
    "* Each rental in the film table has an associated rental_duration column which represents the number of days that a DVD can be rented by a customer before it is considered late. In this example, you will exclude films that have a NULL value for the return_date and also convert the rental_duration to an INTERVAL type. Here's a reminder of one method for performing this conversion.\n",
    "\n",
    "**SELECT INTERVAL '1' day * timestamp '2019-04-10 12:34:56'**"
   ]
  },
  {
   "cell_type": "markdown",
   "id": "2d885bac",
   "metadata": {},
   "source": [
    "#### Convert rental_duration by multiplying it with a 1 day INTERVAL\n",
    "#### Subtract the rental_date from the return_date to calculate the number of days_rented."
   ]
  },
  {
   "cell_type": "raw",
   "id": "63a8928d",
   "metadata": {},
   "source": [
    "SELECT\n",
    "\tf.title,\n",
    " \t-- Convert the rental_duration to an interval\n",
    "    INTERVAL '1 day' * f.rental_duration,\n",
    " \t-- Calculate the days rented as we did previously\n",
    "    r.return_date - r.rental_date AS days_rented\n",
    "FROM film AS f\n",
    "    INNER JOIN inventory AS i ON f.film_id = i.film_id\n",
    "    INNER JOIN rental AS r ON i.inventory_id = r.inventory_id\n",
    "-- Filter the query to exclude outstanding rentals\n",
    "WHERE r.return_date IS NOT NULL\n",
    "ORDER BY f.title;"
   ]
  },
  {
   "cell_type": "markdown",
   "id": "eaf2ce32",
   "metadata": {},
   "source": [
    "## Calculating the expected return date\n",
    "* So now that you've practiced how to add and subtract timestamps and perform relative calculations using intervals, let's use those new skills to calculate the actual expected return date of a specific rental. As you've seen in previous exercises, the rental_duration is the number of days allowed for a rental before it's considered late. To calculate the expected_return_date you will want to use the rental_duration and add it to the rental_date."
   ]
  },
  {
   "cell_type": "markdown",
   "id": "b8dabe7b",
   "metadata": {},
   "source": [
    "#### Convert rental_duration by multiplying it with a 1-day INTERVAL.\n",
    "#### Add it to the rental date."
   ]
  },
  {
   "cell_type": "raw",
   "id": "32725e09",
   "metadata": {},
   "source": [
    "SELECT\n",
    "    f.title,\n",
    "\tr.rental_date,\n",
    "    f.rental_duration,\n",
    "    -- Add the rental duration to the rental date\n",
    "    INTERVAL '1' day * f.rental_duration + r.rental_date AS expected_return_date,\n",
    "    r.return_date\n",
    "FROM film AS f\n",
    "    INNER JOIN inventory AS i ON f.film_id = i.film_id\n",
    "    INNER JOIN rental AS r ON i.inventory_id = r.inventory_id\n",
    "ORDER BY f.title;"
   ]
  },
  {
   "cell_type": "markdown",
   "id": "b5948041",
   "metadata": {},
   "source": [
    "## Working with the current date and time\n",
    "* Because the Sakila database is a bit dated and most of the date and time values are from 2005 or 2006, you are going to practice using the current date and time in our queries without using Sakila. You'll get back into working with this database in the next video and throughout the remainder of the course. For now, let's practice the techniques you learned about so far in this chapter to work with the current date and time.\n",
    "* As you learned in the video, NOW() and CURRENT_TIMESTAMP can be used interchangeably."
   ]
  },
  {
   "cell_type": "markdown",
   "id": "e035ecc7",
   "metadata": {},
   "source": [
    "#### Use NOW() to select the current timestamp with timezone."
   ]
  },
  {
   "cell_type": "raw",
   "id": "7f405fe8",
   "metadata": {},
   "source": [
    "SELECT NOW();"
   ]
  },
  {
   "cell_type": "markdown",
   "id": "4fe17199",
   "metadata": {},
   "source": [
    "#### Select the current date without any time value."
   ]
  },
  {
   "cell_type": "raw",
   "id": "80a6f2c9",
   "metadata": {},
   "source": [
    "-- Select the current date\n",
    "SELECT CURRENT_DATE;"
   ]
  },
  {
   "cell_type": "markdown",
   "id": "0e3d8a1a",
   "metadata": {},
   "source": [
    "#### Now, let's use the CAST() function to eliminate the timezone from the current timestamp."
   ]
  },
  {
   "cell_type": "raw",
   "id": "b5e7d706",
   "metadata": {},
   "source": [
    "--Select the current timestamp without a timezone\n",
    "SELECT CAST( NOW() AS timestamp )"
   ]
  },
  {
   "cell_type": "markdown",
   "id": "d59e755a",
   "metadata": {},
   "source": [
    "#### Finally, let's select the current date.\n",
    "#### Use CAST() to retrieve the same result from the NOW() function."
   ]
  },
  {
   "cell_type": "raw",
   "id": "64902be0",
   "metadata": {},
   "source": [
    "SELECT \n",
    "\t-- Select the current date\n",
    "\tCURRENT_DATE,\n",
    "    -- CAST the result of the NOW() function to a date\n",
    "    CAST( NOW() AS date )"
   ]
  },
  {
   "cell_type": "markdown",
   "id": "f6c4b2b3",
   "metadata": {},
   "source": [
    "## Manipulating the current date and time\n",
    "* Most of the time when you work with the current date and time, you will want to transform, manipulate, or perform operations on the value in your queries. In this exercise, you will practice adding an INTERVAL to the current timestamp as well as perform some more advanced calculations.\n",
    "* Let's practice retrieving the current timestamp. For this exercise, please use CURRENT_TIMESTAMP instead of the NOW() function and if you need to convert a date or time value to a timestamp data type, please use the PostgreSQL specific casting rather than the CAST() function."
   ]
  },
  {
   "cell_type": "markdown",
   "id": "165a99e1",
   "metadata": {},
   "source": [
    "#### Select the current timestamp without timezone and alias it as right_now."
   ]
  },
  {
   "cell_type": "raw",
   "id": "dc7a91e1",
   "metadata": {},
   "source": [
    "--Select the current timestamp without timezone\n",
    "SELECT CURRENT_TIMESTAMP::timestamp AS right_now;"
   ]
  },
  {
   "cell_type": "markdown",
   "id": "5c6868f9",
   "metadata": {},
   "source": [
    "#### Now select a timestamp five days from now and alias it as five_days_from_now."
   ]
  },
  {
   "cell_type": "raw",
   "id": "3d4b2a9a",
   "metadata": {},
   "source": [
    "SELECT\n",
    "\tCURRENT_TIMESTAMP::timestamp AS right_now,\n",
    "    INTERVAL '5 days' + CURRENT_TIMESTAMP AS five_days_from_now;"
   ]
  },
  {
   "cell_type": "markdown",
   "id": "1b38bb69",
   "metadata": {},
   "source": [
    "#### Finally, let's use a second-level precision with no fractional digits for both the right_now and five_days_from_now fields."
   ]
  },
  {
   "cell_type": "raw",
   "id": "e84be5d8",
   "metadata": {},
   "source": [
    "SELECT\n",
    "\tCURRENT_TIMESTAMP(0)::timestamp AS right_now,\n",
    "    interval '5 days' + CURRENT_TIMESTAMP(0) AS five_days_from_now;"
   ]
  },
  {
   "cell_type": "markdown",
   "id": "58b320e2",
   "metadata": {},
   "source": [
    "## Using EXTRACT\n",
    "* You can use EXTRACT() and DATE_PART() to easily create new fields in your queries by extracting sub-fields from a source timestamp field.\n",
    "* Now suppose you want to produce a predictive model that will help forecast DVD rental activity by day of the week. You could use the EXTRACT() function with the dow field identifier in our query to create a new field called dayofweek as a sub-field of the rental_date column from the rental table.\n",
    "* You can COUNT() the number of records in the rental table for a given date range and aggregate by the newly created dayofweek column."
   ]
  },
  {
   "cell_type": "markdown",
   "id": "934e3627",
   "metadata": {},
   "source": [
    "#### Get the day of the week from the rental_date column."
   ]
  },
  {
   "cell_type": "raw",
   "id": "ba1880e0",
   "metadata": {},
   "source": [
    "SELECT \n",
    "  -- Extract day of week from rental_date\n",
    "  EXTRACT('dow' FROM rental_date) AS dayofweek \n",
    "FROM rental \n",
    "LIMIT 100;"
   ]
  },
  {
   "cell_type": "markdown",
   "id": "a54bcf87",
   "metadata": {},
   "source": [
    "#### Count the total number of rentals by day of the week."
   ]
  },
  {
   "cell_type": "raw",
   "id": "271ed95f",
   "metadata": {},
   "source": [
    "-- Extract day of week from rental_date\n",
    "SELECT \n",
    "  EXTRACT(dow FROM rental_date) AS dayofweek, \n",
    "  -- Count the number of rentals\n",
    "  COUNT(*) as rentals \n",
    "FROM rental \n",
    "GROUP BY 1;"
   ]
  },
  {
   "cell_type": "markdown",
   "id": "d5dda0e3",
   "metadata": {},
   "source": [
    "**Using the EXTRACT() function can help determine hidden insights in your data like what days of the week are the busiest for DVD rentals.**"
   ]
  },
  {
   "cell_type": "markdown",
   "id": "ba4b4cc8",
   "metadata": {},
   "source": [
    "## Using DATE_TRUNC\n",
    "* The DATE_TRUNC() function will truncate timestamp or interval data types to return a timestamp or interval at a specified precision. The precision values are a subset of the field identifiers that can be used with the EXTRACT() and DATE_PART() functions. DATE_TRUNC() will return an interval or timestamp rather than a number. For example\n",
    " **SELECT DATE_TRUNC('month', TIMESTAMP '2005-05-21 15:30:30');**\n",
    " **Result: 2005-05-01 00;00:00**\n",
    "* Now, let's experiment with different precisions and ultimately modify the queries from the previous exercises to aggregate rental activity."
   ]
  },
  {
   "cell_type": "markdown",
   "id": "47489491",
   "metadata": {},
   "source": [
    "#### Truncate the rental_date field by year."
   ]
  },
  {
   "cell_type": "raw",
   "id": "e3c3802c",
   "metadata": {},
   "source": [
    "-- Truncate rental_date by year\n",
    "SELECT DATE_TRUNC('year', rental_date) AS rental_year\n",
    "FROM rental;"
   ]
  },
  {
   "cell_type": "markdown",
   "id": "41d62525",
   "metadata": {},
   "source": [
    "#### Now modify the previous query to truncate the rental_date by month.#### Now modify the previous query to truncate the rental_date by month."
   ]
  },
  {
   "cell_type": "raw",
   "id": "b688f9aa",
   "metadata": {},
   "source": [
    "-- Truncate rental_date by month\n",
    "SELECT DATE_TRUNC('month', rental_date) AS rental_month\n",
    "FROM rental;"
   ]
  },
  {
   "cell_type": "markdown",
   "id": "22e1e509",
   "metadata": {},
   "source": [
    "#### Let's see what happens when we truncate by day of the month."
   ]
  },
  {
   "cell_type": "raw",
   "id": "bf6be529",
   "metadata": {},
   "source": [
    "-- Truncate rental_date by day of the month \n",
    "SELECT DATE_TRUNC('day', rental_date) AS rental_day \n",
    "FROM rental;"
   ]
  },
  {
   "cell_type": "markdown",
   "id": "ff2f8c10",
   "metadata": {},
   "source": [
    "#### Finally, count the total number of rentals by rental_day and alias it as rentals."
   ]
  },
  {
   "cell_type": "raw",
   "id": "b112d652",
   "metadata": {},
   "source": [
    "SELECT \n",
    "  DATE_TRUNC('day', rental_date) AS rental_day,\n",
    "  -- Count total number of rentals \n",
    "  COUNT(*) AS rentals \n",
    "FROM rental\n",
    "GROUP BY 1;"
   ]
  },
  {
   "cell_type": "markdown",
   "id": "1c259df0",
   "metadata": {},
   "source": [
    "## Putting it all together\n",
    "* Many of the techniques you've learned in this course will be useful when building queries to extract data for model training. Now let's use some date/time functions to extract and manipulate some DVD rentals data from our fictional DVD rental store.\n",
    "* In this exercise, you are going to extract a list of customers and their rental history over 90 days. You will be using the EXTRACT(), DATE_TRUNC(), and AGE() functions that you learned about during this chapter along with some general SQL skills from the prerequisites to extract a data set that could be used to determine what day of the week customers are most likely to rent a DVD and the likelihood that they will return the DVD late."
   ]
  },
  {
   "cell_type": "markdown",
   "id": "ee98dacc",
   "metadata": {},
   "source": [
    "#### Extract the day of the week from the rental_date column using the alias dayofweek.\n",
    "#### Use an INTERVAL in the WHERE clause to select records for the 90 day period starting on 5/1/2005."
   ]
  },
  {
   "cell_type": "raw",
   "id": "c7515b21",
   "metadata": {},
   "source": [
    "SELECT \n",
    "  -- Extract the day of week date part from the rental_date\n",
    "  EXTRACT('dow' FROM rental_date) AS dayofweek,\n",
    "  AGE(return_date, rental_date) AS rental_days\n",
    "FROM rental AS r \n",
    "WHERE \n",
    "  -- Use an INTERVAL for the upper bound of the rental_date \n",
    "  rental_date BETWEEN CAST('2005-05-01' AS date)\n",
    "   AND CAST('2005-05-01' AS date) + INTERVAL '90 day';"
   ]
  },
  {
   "cell_type": "markdown",
   "id": "4d82b5a9",
   "metadata": {},
   "source": [
    "#### Finally, use a CASE statement and DATE_TRUNC() to create a new column called past_due which will be TRUE if the rental_days is greater than the rental_duration otherwise, it will be FALSE."
   ]
  },
  {
   "cell_type": "raw",
   "id": "9507c747",
   "metadata": {},
   "source": [
    "SELECT \n",
    "  c.first_name || ' ' || c.last_name AS customer_name,\n",
    "  f.title,\n",
    "  r.rental_date,\n",
    "  -- Extract the day of week date part from the rental_date\n",
    "  EXTRACT(dow FROM r.rental_date) AS dayofweek,\n",
    "  AGE(r.return_date, r.rental_date) AS rental_days,\n",
    "  -- Use DATE_TRUNC to get days from the AGE function\n",
    "  CASE WHEN DATE_TRUNC('day', AGE(r.return_date, r.rental_date)) > \n",
    "  -- Calculate number of d\n",
    "    f.rental_duration * INTERVAL '1' day \n",
    "  THEN TRUE \n",
    "  ELSE FALSE END AS past_due \n",
    "FROM \n",
    "  film AS f \n",
    "  INNER JOIN inventory AS i \n",
    "  \tON f.film_id = i.film_id \n",
    "  INNER JOIN rental AS r \n",
    "  \tON i.inventory_id = r.inventory_id \n",
    "  INNER JOIN customer AS c \n",
    "  \tON c.customer_id = r.customer_id \n",
    "WHERE \n",
    "  -- Use an INTERVAL for the upper bound of the rental_date \n",
    "  r.rental_date BETWEEN CAST('2005-05-01' AS DATE) \n",
    "  AND CAST('2005-05-01' AS DATE) + INTERVAL '90 day';"
   ]
  },
  {
   "cell_type": "markdown",
   "id": "bf5ffee9",
   "metadata": {},
   "source": [
    "## Concatenating strings\n",
    "* In this exercise and the ones that follow, we are going to derive new fields from columns within the customer and film tables of the DVD rental database.\n",
    "* We'll start with the customer table and create a query to return the customers name and email address formatted such that we could use it as a \"To\" field in an email script or program. This format will look like the following:\n",
    " **Brian Piccolo <bpiccolo@datacamp.com>**\n",
    "* In the first step of the exercise, use the || operator to do the string concatenation and in the second step, use the CONCAT() functions."
   ]
  },
  {
   "cell_type": "markdown",
   "id": "ab84c308",
   "metadata": {},
   "source": [
    "### Concatenate the first_name and last_name columns separated by a single space followed by email surrounded by < and >."
   ]
  },
  {
   "cell_type": "raw",
   "id": "e0605fa3",
   "metadata": {},
   "source": [
    "-- Concatenate the first_name and last_name and email \n",
    "SELECT first_name ||' '|| last_name ||' <'||  email ||'>' AS full_email \n",
    "FROM customer"
   ]
  },
  {
   "cell_type": "markdown",
   "id": "5451b65e",
   "metadata": {},
   "source": [
    "### Now use the CONCAT() function to do the same operation as the previous step."
   ]
  },
  {
   "cell_type": "raw",
   "id": "4112ed4e",
   "metadata": {},
   "source": [
    "-- Concatenate the first_name and last_name and email\n",
    "SELECT CONCAT(first_name, ' ', last_name,  ' <', email, '>') AS full_email \n",
    "FROM customer"
   ]
  },
  {
   "cell_type": "markdown",
   "id": "8ea27229",
   "metadata": {},
   "source": [
    "## Changing the case of string data\n",
    "* Now you are going to use the film and category tables to create a new field called film_category by concatenating the category name with the film's title. You will also format the result using functions you learned about in the video to transform the case of the fields you are selecting in the query; for example, the INITCAP() function which converts a string to title case"
   ]
  },
  {
   "cell_type": "markdown",
   "id": "1bdf40a7",
   "metadata": {},
   "source": [
    "### Convert the film category name to uppercase.\n",
    "### Convert the first letter of each word in the film's title to upper case.\n",
    "### Concatenate the converted category name and film title separated by a colon.\n",
    "### Convert the description column to lowercase."
   ]
  },
  {
   "cell_type": "raw",
   "id": "600e66e3",
   "metadata": {},
   "source": [
    "SELECT \n",
    "  -- Concatenate the category name to coverted to uppercase\n",
    "  -- to the film title converted to title case\n",
    "  UPPER(c.name)  || ': ' || INITCAP(f.title) AS film_category, \n",
    "  -- Convert the description column to lowercase\n",
    "  LOWER(f.description) AS description\n",
    "FROM \n",
    "  film AS f \n",
    "  INNER JOIN film_category AS fc \n",
    "  \tON f.film_id = fc.film_id \n",
    "  INNER JOIN category AS c \n",
    "  \tON fc.category_id = c.category_id;"
   ]
  },
  {
   "cell_type": "markdown",
   "id": "a8ed8a50",
   "metadata": {},
   "source": [
    "## Replacing string data\n",
    "* Sometimes you will need to make sure that the data you are extracting does not contain any whitespace. There are many different approaches you can take to cleanse and prepare your data for these situations. A common technique is to replace any whitespace with an underscore.\n",
    "* In this example, we are going to practice finding and replacing whitespace characters in the title column of the film table using the REPLACE() function."
   ]
  },
  {
   "cell_type": "markdown",
   "id": "93c7cccb",
   "metadata": {},
   "source": [
    "### Replace all whitespace with an underscore."
   ]
  },
  {
   "cell_type": "raw",
   "id": "b9c1437e",
   "metadata": {},
   "source": [
    "SELECT \n",
    "  --Replace whitespace in the film title with an underscore\n",
    "  REPLACE(title, ' ', '_') AS title\n",
    "FROM film; "
   ]
  },
  {
   "cell_type": "markdown",
   "id": "d2945118",
   "metadata": {},
   "source": [
    "## Determining the length of strings\n",
    "* Determining the number of characters in a string is something that you will use frequently when working with data in a SQL database. Many situations will require you to find the length of a string stored in your database. For example, you may need to limit the number of characters that are displayed in an application or you may need to ensure that a column in your dataset contains values that are all the same length. In this example, we are going to determine the length of the description column in the film table of the DVD Rental database."
   ]
  },
  {
   "cell_type": "markdown",
   "id": "de46c79c",
   "metadata": {},
   "source": [
    "#### Select the title and description columns from the film table.\n",
    "#### Find the number of characters in the description column with the alias desc_len."
   ]
  },
  {
   "cell_type": "raw",
   "id": "7237f403",
   "metadata": {},
   "source": [
    "SELECT \n",
    "  -- Select the title and description columns\n",
    "  title,\n",
    "  description,\n",
    "  -- Determine the length of the description column\n",
    "  LENGTH(description) AS desc_len\n",
    "FROM film;"
   ]
  },
  {
   "cell_type": "markdown",
   "id": "2e52c104",
   "metadata": {},
   "source": [
    "## Truncating strings\n",
    "* In the previous exercise, you calculated the length of the description column and noticed that the number of characters varied but most of the results were over 75 characters. There will be many times when you need to truncate a text column to a certain length to meet specific criteria for an application. In this exercise, we will practice getting the first 50 characters of the description column."
   ]
  },
  {
   "cell_type": "markdown",
   "id": "d9c50b55",
   "metadata": {},
   "source": [
    "#### Select the first 50 characters of the description column with the alias short_desc"
   ]
  },
  {
   "cell_type": "raw",
   "id": "240daad3",
   "metadata": {},
   "source": [
    "SELECT \n",
    "  -- Select the first 50 characters of description\n",
    "  LEFT(description, 50) AS short_desc \n",
    "FROM \n",
    "  film AS f; "
   ]
  },
  {
   "cell_type": "markdown",
   "id": "3e57ef57",
   "metadata": {},
   "source": [
    "## Extracting substrings from text data\n",
    "* In this exercise, you are going to practice how to extract substrings from text columns. The Sakila database contains the address table which stores the street address for all the rental store locations. You need a list of all the street names where the stores are located but the address column also contains the street number. You'll use several functions that you've learned about in the video to manipulate the address column and return only the street address."
   ]
  },
  {
   "cell_type": "markdown",
   "id": "60334f69",
   "metadata": {},
   "source": [
    "### Extract only the street address without the street number from the address column.\n",
    "### Use functions to determine the starting and ending position parameters."
   ]
  },
  {
   "cell_type": "raw",
   "id": "aea7a6fd",
   "metadata": {},
   "source": [
    "SELECT \n",
    "  -- Select only the street name from the address table\n",
    "  SUBSTRING(address FROM POSITION(' ' IN address)+1 FOR LENGTH(address))\n",
    "FROM \n",
    "  address;"
   ]
  },
  {
   "cell_type": "markdown",
   "id": "00bcbf82",
   "metadata": {},
   "source": [
    "## Combining functions for string manipulation\n",
    "* In the next example, we are going to break apart the email column from the customer table into three new derived fields. Parsing a single column into multiple columns can be useful when you need to work with certain subsets of data. Email addresses have embedded information stored in them that can be parsed out to derive additional information about our data. For example, we can use the techniques we learned about in the video to determine how many of our customers use an email from a specific domain."
   ]
  },
  {
   "cell_type": "markdown",
   "id": "afd3aa09",
   "metadata": {},
   "source": [
    "#### Extract the characters to the left of the @ of the email column in the customer table and alias it as username.\n",
    "#### Now use SUBSTRING to extract the characters after the @ of the email column and alias the new derived field as domain."
   ]
  },
  {
   "cell_type": "raw",
   "id": "d710723a",
   "metadata": {},
   "source": [
    "SELECT\n",
    "  -- Extract the characters to the left of the '@'\n",
    "  LEFT(email, POSITION('@' IN email)-1) AS username,\n",
    "  -- Extract the characters to the right of the '@'\n",
    "  SUBSTRING(email FROM POSITION('@' IN email)+1 FOR LENGTH(email)) AS domain\n",
    "FROM customer;"
   ]
  },
  {
   "cell_type": "markdown",
   "id": "b0365e9b",
   "metadata": {},
   "source": [
    "## Padding\n",
    "* Padding strings is useful in many real-world situations. Earlier in this course, we learned about string concatenation and how to combine the customer's first and last name separated by a single blank space and also combined the customer's full name with their email address.\n",
    "* The padding functions that we learned about in the video are an alternative approach to do this task. To use this approach, you will need to combine and nest functions to determine the length of a string to produce the desired result. Remember when calculating the length of a string you often need to adjust the integer returned to get the proper length or position of a string.\n",
    "* Let's revisit the string concatenation exercise but use padding functions."
   ]
  },
  {
   "cell_type": "markdown",
   "id": "7e2f7cd3",
   "metadata": {},
   "source": [
    "### Add a single space to the end or right of the first_name column using a padding function.\n",
    "### Use the || operator to concatenate the padded first_name to the last_name column."
   ]
  },
  {
   "cell_type": "raw",
   "id": "b989805c",
   "metadata": {},
   "source": [
    "-- Concatenate the padded first_name and last_name \n",
    "SELECT \n",
    "\tRPAD(first_name, LENGTH(first_name)+1) || last_name AS full_name\n",
    "FROM customer;"
   ]
  },
  {
   "cell_type": "markdown",
   "id": "b1622f3f",
   "metadata": {},
   "source": [
    "#### Now add a single space to the left or beginning of the last_name column using a different padding function than the first step.\n",
    "#### Use the || operator to concatenate the first_name column to the padded last_name."
   ]
  },
  {
   "cell_type": "raw",
   "id": "4bc70a05",
   "metadata": {},
   "source": [
    "-- Concatenate the first_name and last_name \n",
    "SELECT \n",
    "\tfirst_name || LPAD(last_name, LENGTH(last_name)+1) AS full_name\n",
    "FROM customer; "
   ]
  },
  {
   "cell_type": "markdown",
   "id": "5d21a509",
   "metadata": {},
   "source": [
    "#### Add a single space to the right or end of the first_name column.\n",
    "#### Add the characters < to the right or end of last_name column.\n",
    "#### Finally, add the characters > to the right or end of the email column."
   ]
  },
  {
   "cell_type": "raw",
   "id": "b4c1c97f",
   "metadata": {},
   "source": [
    "-- Concatenate the first_name and last_name \n",
    "SELECT \n",
    "\tRPAD(first_name, LENGTH(first_name)+1) \n",
    "    || RPAD(last_name, LENGTH(last_name)+2, ' <') \n",
    "    || RPAD(email, LENGTH(email)+1, '>') AS full_email\n",
    "FROM customer; "
   ]
  },
  {
   "cell_type": "markdown",
   "id": "7121624d",
   "metadata": {},
   "source": [
    "## The TRIM function\n",
    "* In this exercise, we are going to revisit and combine a couple of exercises from earlier in this chapter. If you recall, you used the LEFT() function to truncate the description column to 50 characters but saw that some words were cut off and/or had trailing whitespace. We can use trimming functions to eliminate the whitespace at the end of the string after it's been truncated."
   ]
  },
  {
   "cell_type": "markdown",
   "id": "b215a806",
   "metadata": {},
   "source": [
    "#### Convert the film category name to uppercase and use the CONCAT() concatenate it with the title.\n",
    "#### Truncate the description to the first 50 characters and make sure there is no leading or trailing whitespace after truncating."
   ]
  },
  {
   "cell_type": "raw",
   "id": "2b6d525f",
   "metadata": {},
   "source": [
    "-- Concatenate the uppercase category name and film title\n",
    "SELECT \n",
    "  CONCAT(UPPER(c.name), ': ', f.title) AS film_category, \n",
    "  -- Truncate the description remove trailing whitespace\n",
    "  TRIM(LEFT(description, 50)) AS film_desc\n",
    "FROM \n",
    "  film AS f \n",
    "  INNER JOIN film_category AS fc \n",
    "  \tON f.film_id = fc.film_id \n",
    "  INNER JOIN category AS c \n",
    "  \tON fc.category_id = c.category_id;"
   ]
  },
  {
   "cell_type": "markdown",
   "id": "017c3ac7",
   "metadata": {},
   "source": [
    "## Putting it all together\n",
    "* In this exercise, we are going to use the film and category tables to create a new field called film_category by concatenating the category name with the film's title. You will also practice how to truncate text fields like the film table's description column without cutting off a word.\n",
    "* To accomplish this we will use the REVERSE() function to help determine the position of the last whitespace character in the description before we reach 50 characters. This technique can be used to determine the position of the last character that you want to truncate and ensure that it is less than or equal to 50 characters AND does not cut off a word.\n",
    "\n",
    "* This is an advanced technique but I know you can do it! Let's dive in."
   ]
  },
  {
   "cell_type": "markdown",
   "id": "c8d2356a",
   "metadata": {},
   "source": [
    "### Get the first 50 characters of the description column\n",
    "### Determine the position of the last whitespace character of the truncated description column and subtract it from the number 50 as the second parameter in the first function above."
   ]
  },
  {
   "cell_type": "raw",
   "id": "35abea6f",
   "metadata": {},
   "source": [
    "SELECT \n",
    "  UPPER(c.name) || ': ' || f.title AS film_category, \n",
    "  -- Truncate the description without cutting off a word\n",
    "  LEFT(description, 50 - \n",
    "    -- Subtract the position of the first whitespace character\n",
    "    POSITION(\n",
    "      ' ' IN REVERSE(LEFT(description, 50))\n",
    "    )\n",
    "  ) \n",
    "FROM \n",
    "  film AS f \n",
    "  INNER JOIN film_category AS fc \n",
    "  \tON f.film_id = fc.film_id \n",
    "  INNER JOIN category AS c \n",
    "  \tON fc.category_id = c.category_id;"
   ]
  },
  {
   "cell_type": "markdown",
   "id": "da774caa",
   "metadata": {},
   "source": [
    "## A review of the LIKE operator\n",
    "* The LIKE operator allows us to filter our queries by matching one or more characters in text data. By using the % wildcard we can match one or more characters in a string. This is useful when you want to return a result set that matches certain characteristics and can also be very helpful during exploratory data analysis or data cleansing tasks.\n",
    "* Let's explore how different usage of the % wildcard will return different results by looking at the film table of the Sakila DVD Rental database."
   ]
  },
  {
   "cell_type": "markdown",
   "id": "b66444b7",
   "metadata": {},
   "source": [
    "#### Select all columns for all records that begin with the word GOLD."
   ]
  },
  {
   "cell_type": "raw",
   "id": "6fbad498",
   "metadata": {},
   "source": [
    "-- Select all columns\n",
    "SELECT *\n",
    "FROM film\n",
    "-- Select only records that begin with the word 'GOLD'\n",
    "WHERE title LIKE 'GOLD%';"
   ]
  },
  {
   "cell_type": "markdown",
   "id": "a45df655",
   "metadata": {},
   "source": [
    "#### Now select all records that end with the word GOLD."
   ]
  },
  {
   "cell_type": "raw",
   "id": "0da790f3",
   "metadata": {},
   "source": [
    "SELECT *\n",
    "FROM film\n",
    "-- Select only records that end with the word 'GOLD'\n",
    "WHERE title LIKE '%GOLD';"
   ]
  },
  {
   "cell_type": "markdown",
   "id": "d185d12e",
   "metadata": {},
   "source": [
    "#### Finally, select all records that contain the word 'GOLD'."
   ]
  },
  {
   "cell_type": "raw",
   "id": "6b27dd3b",
   "metadata": {},
   "source": [
    "SELECT *\n",
    "FROM film\n",
    "-- Select only records that contain the word 'GOLD'\n",
    "WHERE title LIKE '%GOLD%';"
   ]
  },
  {
   "cell_type": "markdown",
   "id": "5a076d73",
   "metadata": {},
   "source": [
    "## What is a tsvector?\n",
    "* You saw how to convert strings to tsvector and tsquery in the video and, in this exercise, we are going to dive deeper into what these functions actually return after converting a string to a tsvector. In this example, you will convert a text column from the film table to a tsvector and inspect the results. Understanding how full-text search works is the first step in more advanced machine learning and data science concepts like natural language processing."
   ]
  },
  {
   "cell_type": "markdown",
   "id": "c95930a1",
   "metadata": {},
   "source": [
    "#### Select the film description and convert it to a tsvector data type."
   ]
  },
  {
   "cell_type": "raw",
   "id": "0da16622",
   "metadata": {},
   "source": [
    "-- Select the film description as a tsvector\n",
    "SELECT to_tsvector(description)\n",
    "FROM film;"
   ]
  },
  {
   "cell_type": "markdown",
   "id": "fd558243",
   "metadata": {},
   "source": [
    "## Basic full-text search\n",
    "* Searching text will become something you do repeatedly when building applications or exploring data sets for data science. Full-text search is helpful when performing exploratory data analysis for a natural language processing model or building a search feature into your application.\n",
    "* In this exercise, you will practice searching a text column and match it against a string. The search will return the same result as a query that uses the LIKE operator with the % wildcard at the beginning and end of the string, but will perform much better and provide you with a foundation for more advanced full-text search queries. Let's dive in."
   ]
  },
  {
   "cell_type": "markdown",
   "id": "3c0d852c",
   "metadata": {},
   "source": [
    "#### Select the title and description columns from the film table.\n",
    "#### Perform a full-text search on the title column for the word elf."
   ]
  },
  {
   "cell_type": "raw",
   "id": "ce8bdbcd",
   "metadata": {},
   "source": [
    "-- Select the title and description\n",
    "SELECT title, description\n",
    "FROM film\n",
    "-- Convert the title to a tsvector and match it against the tsquery \n",
    "WHERE to_tsvector(title) @@ to_tsquery('elf');"
   ]
  },
  {
   "cell_type": "markdown",
   "id": "91930c31",
   "metadata": {},
   "source": [
    "## User-defined data types,\n",
    "* ENUM or enumerated data types are great options to use in your database when you have a column where you want to store a fixed list of values that rarely change. Examples of when it would be appropriate to use an ENUM include days of the week and states or provinces in a country.\n",
    "* Another example can be the directions on a compass (i.e., north, south, east and west.) In this exercise, you are going to create a new ENUM data type called compass_position"
   ]
  },
  {
   "cell_type": "markdown",
   "id": "0c188eb8",
   "metadata": {},
   "source": [
    "#### Create a new enumerated data type called compass_position.\n",
    "#### Use the four positions of a compass as the values."
   ]
  },
  {
   "cell_type": "raw",
   "id": "cbc151af",
   "metadata": {},
   "source": [
    "-- Create an enumerated data type, compass_position\n",
    "CREATE TYPE compass_position  AS ENUM (\n",
    "  \t-- Use the four cardinal directions\n",
    "  \t'north', \n",
    "  \t'south',\n",
    "  \t'east', \n",
    "  \t'west'\n",
    ");"
   ]
  },
  {
   "cell_type": "markdown",
   "id": "3c001ed5",
   "metadata": {},
   "source": [
    "#### Verify that the new data type has been created by looking in the pg_type system table."
   ]
  },
  {
   "cell_type": "raw",
   "id": "f14aedbf",
   "metadata": {},
   "source": [
    "-- Create an enumerated data type, compass_position\n",
    "CREATE TYPE compass_position AS ENUM (\n",
    "  \t-- Use the four cardinal directions\n",
    "  \t'North', \n",
    "  \t'South',\n",
    "  \t'East', \n",
    "  \t'West'\n",
    ");\n",
    "-- Confirm the new data type is in the pg_type system table\n",
    "SELECT typname\n",
    "FROM pg_type\n",
    "WHERE typname='compass_position';"
   ]
  },
  {
   "cell_type": "markdown",
   "id": "89922528",
   "metadata": {},
   "source": [
    "## Getting info about user-defined data types\n",
    "* The Sakila database has a user-defined enum data type called mpaa_rating. The rating column in the film table is an mpaa_rating type and contains the familiar rating for that film like PG or R. This is a great example of when an enumerated data type comes in handy. Film ratings have a limited number of standard values that rarely change.\n",
    "* When you want to learn about a column or data type in your database the best place to start is the INFORMATION_SCHEMA. You can find information about the rating column that can help you learn about the type of data you can expect to find. For enum data types, you can also find the specific values that are valid for a particular enum by looking in the pg_enum system table. Let's dive into the exercises and learn more."
   ]
  },
  {
   "cell_type": "markdown",
   "id": "a58c0049",
   "metadata": {},
   "source": [
    "### Select the column_name, data_type, udt_name.\n",
    "### Filter for the rating column in the film table."
   ]
  },
  {
   "cell_type": "raw",
   "id": "e2ad31fd",
   "metadata": {},
   "source": [
    "- Select the column name, data type and udt name columns\n",
    "SELECT column_name, data_type, udt_name\n",
    "FROM INFORMATION_SCHEMA.COLUMNS \n",
    "-- Filter by the rating column in the film table\n",
    "WHERE table_name ='film' AND column_name='rating';"
   ]
  },
  {
   "cell_type": "markdown",
   "id": "f4d8c97e",
   "metadata": {},
   "source": [
    "### Select all columns from the pg_type table where the type name is equal to mpaa_rating."
   ]
  },
  {
   "cell_type": "raw",
   "id": "aab39325",
   "metadata": {},
   "source": [
    "SELECT *\n",
    "FROM pg_type \n",
    "WHERE typname='mpaa_rating'"
   ]
  },
  {
   "cell_type": "markdown",
   "id": "ae540ab5",
   "metadata": {},
   "source": [
    "## User-defined functions in Sakila\n",
    "* If you were running a real-life DVD Rental store, there are many questions that you may need to answer repeatedly like whether a film is in stock at a particular store or the outstanding balance for a particular customer. These types of scenarios are where user-defined functions will come in very handy. The Sakila database has several user-defined functions pre-defined. These functions are available out-of-the-box and can be used in your queries like many of the built-in functions we've learned about in this course.\n",
    "* In this exercise, you will build a query step-by-step that can be used to produce a report to determine which film title is currently held by which customer using the inventory_held_by_customer() function."
   ]
  },
  {
   "cell_type": "markdown",
   "id": "5bebc65b",
   "metadata": {},
   "source": [
    "### Select the title and inventory_id columns from the film and inventory tables in the database."
   ]
  },
  {
   "cell_type": "raw",
   "id": "471515df",
   "metadata": {},
   "source": [
    "-- Select the film title and inventory ids\n",
    "SELECT \n",
    "\tf.title, \n",
    "    i.inventory_id\n",
    "FROM film AS f \n",
    "\t-- Join the film table to the inventory table\n",
    "\tINNER JOIN inventory AS i ON f.film_id=i.film_id "
   ]
  },
  {
   "cell_type": "markdown",
   "id": "ae8c2909",
   "metadata": {},
   "source": [
    "### inventory_id is currently held by a customer and alias the column as held_by_cust"
   ]
  },
  {
   "cell_type": "raw",
   "id": "931d014d",
   "metadata": {},
   "source": [
    "-- Select the film title and inventory ids\n",
    "SELECT \n",
    "\tf.title, \n",
    "    i.inventory_id,\n",
    "    -- Determine whether the inventory is held by a customer\n",
    "    inventory_held_by_customer(i.inventory_id) AS held_by_cust\n",
    "FROM film as f \n",
    "\tINNER JOIN inventory AS i ON f.film_id=i.film_id "
   ]
  },
  {
   "cell_type": "markdown",
   "id": "6e418174",
   "metadata": {},
   "source": [
    "### Now filter your query to only return records where the inventory_held_by_customer() function returns a non-null value."
   ]
  },
  {
   "cell_type": "raw",
   "id": "31d85c3f",
   "metadata": {},
   "source": [
    "-- Select the film title and inventory ids\n",
    "SELECT \n",
    "\tf.title, \n",
    "    i.inventory_id,\n",
    "    -- Determine whether the inventory is held by a customer\n",
    "    inventory_held_by_customer(i.inventory_id) as held_by_cust\n",
    "FROM film as f \n",
    "\tINNER JOIN inventory AS i ON f.film_id=i.film_id \n",
    "WHERE\n",
    "\t-- Only include results where the held_by_cust is not null\n",
    "    inventory_held_by_customer(i.inventory_id) IS NOT NULL"
   ]
  },
  {
   "cell_type": "markdown",
   "id": "cdfa9856",
   "metadata": {},
   "source": [
    "## Enabling extensions\n",
    "* Before you can use the capabilities of an extension it must be enabled. As you have previously learned, most PostgreSQL distributions come pre-bundled with many useful extensions to help extend the native features of your database. You will be working with fuzzystrmatch and pg_trgm in upcoming exercises but before you can practice using the capabilities of these extensions you will need to first make sure they are enabled in our database. In this exercise you will enable the pg_trgm extension and confirm that the fuzzystrmatch extension, which was enabled in the video, is still enabled by querying the pg_extension system table."
   ]
  },
  {
   "cell_type": "markdown",
   "id": "cc8b9330",
   "metadata": {},
   "source": [
    "### Enable the pg_trgm extension"
   ]
  },
  {
   "cell_type": "raw",
   "id": "1f7a64d5",
   "metadata": {},
   "source": [
    "-- Enable the pg_trgm extension\n",
    "CREATE EXTENSION IF NOT EXISTS pg_trgm;"
   ]
  },
  {
   "cell_type": "markdown",
   "id": "20f2a9b2",
   "metadata": {},
   "source": [
    "### Now confirm that both fuzzystrmatch and pg_trgm are enabled by selecting all rows from the appropriate system table."
   ]
  },
  {
   "cell_type": "raw",
   "id": "3dd09a48",
   "metadata": {},
   "source": [
    "-- Select all rows extensions\n",
    "SELECT * \n",
    "FROM pg_extension;"
   ]
  },
  {
   "cell_type": "markdown",
   "id": "2344a4d4",
   "metadata": {},
   "source": [
    "## Measuring similarity between two strings\n",
    "* Now that you have enabled the fuzzystrmatch and pg_trgm extensions you can begin to explore their capabilities. First, we will measure the similarity between the title and description from the film table of the Sakila database."
   ]
  },
  {
   "cell_type": "markdown",
   "id": "6a044352",
   "metadata": {},
   "source": [
    "#### Select the film title and description.\n",
    "#### Calculate the similarity between the title and description."
   ]
  },
  {
   "cell_type": "raw",
   "id": "31b87c0d",
   "metadata": {},
   "source": [
    "-- Select the title and description columns\n",
    "SELECT \n",
    "  title, \n",
    "  description, \n",
    "  -- Calculate the similarity\n",
    "  similarity(title, description)\n",
    "FROM \n",
    "  film"
   ]
  },
  {
   "cell_type": "markdown",
   "id": "9ee4aba3",
   "metadata": {},
   "source": [
    "**Looking at the similarity() column indicates that the title and description columns are not very similar based on the low number returned for most of the results. Now let's take a closer at how we can use the levenshtein function to account for grammatical errors in the search text.**"
   ]
  },
  {
   "cell_type": "markdown",
   "id": "ae53439d",
   "metadata": {},
   "source": [
    "## Levenshtein distance examples\n",
    "* Now let's take a closer look at how we can use the levenshtein function to match strings against text data. If you recall, the levenshtein distance represents the number of edits required to convert one string to another string being compared.\n",
    "* In a search application or when performing data analysis on any data that contains manual user input, you will always want to account for typos or incorrect spellings. The levenshtein function provides a great method for performing this task. In this exercise, we will perform a query against the film table using a search string with a misspelling and use the results from levenshtein to determine a match. Let's check it out."
   ]
  },
  {
   "cell_type": "markdown",
   "id": "84ad35f0",
   "metadata": {},
   "source": [
    "#### Select the film title and film description.\n",
    "#### Calculate the levenshtein distance for the film title with the string JET NEIGHBOR."
   ]
  },
  {
   "cell_type": "raw",
   "id": "bc06e3bf",
   "metadata": {},
   "source": [
    "-- Select the title and description columns\n",
    "SELECT  \n",
    "  title, \n",
    "  description, \n",
    "  -- Calculate the levenshtein distance\n",
    "  levenshtein(title, 'JET NEIGHBOR') AS distance\n",
    "FROM \n",
    "  film\n",
    "ORDER BY 3"
   ]
  },
  {
   "cell_type": "markdown",
   "id": "14136839",
   "metadata": {},
   "source": [
    "## Putting it all together\n",
    "* In this exercise, we are going to use many of the techniques and concepts we learned throughout the course to generate a data set that we could use to predict whether the words and phrases used to describe a film have an impact on the number of rentals.\n",
    "* First, you need to create a tsvector from the description column in the film table. You will match against a tsquery to determine if the phrase \"Astounding Drama\" leads to more rentals per month. Next, create a new column using the similarity function to rank the film descriptions based on this phrase."
   ]
  },
  {
   "cell_type": "markdown",
   "id": "72c1f31a",
   "metadata": {},
   "source": [
    "#### Select the title and description for all DVDs from the film table.\n",
    "#### Perform a full-text search by converting the description to a tsvector and match it to the phrase 'Astounding & Drama' using a tsquery in the WHERE clause."
   ]
  },
  {
   "cell_type": "raw",
   "id": "4d0df859",
   "metadata": {},
   "source": [
    "-- Select the title and description columns\n",
    "SELECT  \n",
    "  title, \n",
    "  description \n",
    "FROM \n",
    "  film\n",
    "WHERE \n",
    "  -- Match \"Astounding Drama\" in the description\n",
    "  to_tsvector(description) @@ \n",
    "  to_tsquery('Astounding & Drama');"
   ]
  },
  {
   "cell_type": "markdown",
   "id": "3fb884a6",
   "metadata": {},
   "source": [
    "#### Add a new column that calculates the similarity of the description with the phrase 'Astounding Drama'.\n",
    "#### Sort the results by the new similarity column in descending order."
   ]
  },
  {
   "cell_type": "raw",
   "id": "3e3a8e0c",
   "metadata": {},
   "source": [
    "SELECT \n",
    "  title, \n",
    "  description, \n",
    "  -- Calculate the similarity\n",
    "  similarity(description, 'Astounding Drama.')\n",
    "FROM \n",
    "  film \n",
    "WHERE \n",
    "  to_tsvector(description) @@ \n",
    "  to_tsquery('Astounding & Drama') \n",
    "ORDER BY \n",
    "\tsimilarity(description, 'Astounding Drama.') DESC;"
   ]
  }
 ],
 "metadata": {
  "kernelspec": {
   "display_name": "Python 3 (ipykernel)",
   "language": "python",
   "name": "python3"
  },
  "language_info": {
   "codemirror_mode": {
    "name": "ipython",
    "version": 3
   },
   "file_extension": ".py",
   "mimetype": "text/x-python",
   "name": "python",
   "nbconvert_exporter": "python",
   "pygments_lexer": "ipython3",
   "version": "3.9.12"
  }
 },
 "nbformat": 4,
 "nbformat_minor": 5
}
