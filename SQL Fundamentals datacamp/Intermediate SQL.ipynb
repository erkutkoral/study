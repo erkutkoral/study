{
 "cells": [
  {
   "cell_type": "markdown",
   "id": "b63efa0b",
   "metadata": {},
   "source": [
    "# Learning to COUNT()"
   ]
  },
  {
   "cell_type": "markdown",
   "id": "49589f12",
   "metadata": {},
   "source": [
    "### The number of records containing a film_id."
   ]
  },
  {
   "cell_type": "raw",
   "id": "349af48f",
   "metadata": {},
   "source": [
    "SELECT COUNT(film_id) AS count_film_id\n",
    "FROM reviews;"
   ]
  },
  {
   "cell_type": "markdown",
   "id": "53d36d4f",
   "metadata": {},
   "source": [
    "* As you've seen, COUNT(*) tells you how many records are in a table. However, if you want to count the number of non-missing values in a particular field, you can call COUNT() on just that field."
   ]
  },
  {
   "cell_type": "markdown",
   "id": "c7c02aec",
   "metadata": {},
   "source": [
    "## Count the number of records in the people table, aliasing the result as count_records."
   ]
  },
  {
   "cell_type": "raw",
   "id": "eccdf69d",
   "metadata": {},
   "source": [
    "SELECT COUNT (*) AS count_records\n",
    "FROM people;"
   ]
  },
  {
   "cell_type": "markdown",
   "id": "14663c7e",
   "metadata": {},
   "source": [
    "## Count the number of records with a birthdate in the people table, aliasing the result as count_birthdate."
   ]
  },
  {
   "cell_type": "raw",
   "id": "2cb102d6",
   "metadata": {},
   "source": [
    "SELECT COUNT(birthdate) AS count_birthdate\n",
    "FROM people;"
   ]
  },
  {
   "cell_type": "markdown",
   "id": "b131e941",
   "metadata": {},
   "source": [
    "## Count the languages and countries in the films table; alias as count_languages and count_countries."
   ]
  },
  {
   "cell_type": "raw",
   "id": "badc3514",
   "metadata": {},
   "source": [
    "SELECT COUNT(language) AS count_languages, COUNT(country) AS count_countries\n",
    "FROM films; "
   ]
  },
  {
   "cell_type": "markdown",
   "id": "a272b98d",
   "metadata": {},
   "source": [
    "# SELECT DISTINCT"
   ]
  },
  {
   "cell_type": "markdown",
   "id": "fcbc1f48",
   "metadata": {},
   "source": [
    "* Often query results will include many duplicate values. You can use the DISTINCT keyword to select the unique values from a field.\n",
    "\n",
    "* This might be useful if, for example, you're interested in knowing which languages are represented in the films table."
   ]
  },
  {
   "cell_type": "markdown",
   "id": "8492235e",
   "metadata": {},
   "source": [
    "## Return the unique countries represented in the films table using DISTINCT."
   ]
  },
  {
   "cell_type": "raw",
   "id": "41afc25e",
   "metadata": {},
   "source": [
    "SELECT DISTINCT(country)\n",
    "FROM films;"
   ]
  },
  {
   "cell_type": "markdown",
   "id": "87913aa4",
   "metadata": {},
   "source": [
    "## Return the number of unique countries represented in the films table, aliased as count_distinct_countries."
   ]
  },
  {
   "cell_type": "raw",
   "id": "bc7d8729",
   "metadata": {},
   "source": [
    "SELECT COUNT(DISTINCT(country)) AS count_distinct_countries\n",
    "FROM films;"
   ]
  },
  {
   "cell_type": "markdown",
   "id": "df16c767",
   "metadata": {},
   "source": []
  },
  {
   "cell_type": "markdown",
   "id": "72350e55",
   "metadata": {},
   "source": [
    "# Using WHERE with numbers\n",
    "* Filtering with WHERE allows you to analyze your data better. You may have a dataset that includes a range of different movies, and you need to do a case study on the most notable films with the biggest budgets. In this case, you'll want to filter your data to a specific budget range."
   ]
  },
  {
   "cell_type": "markdown",
   "id": "53eb8a80",
   "metadata": {},
   "source": [
    "## Select the film_id and imdb_score from the reviews table and filter on scores higher than 7.0."
   ]
  },
  {
   "cell_type": "raw",
   "id": "ee75591f",
   "metadata": {},
   "source": [
    "SELECT film_id, imdb_score\n",
    "FROM reviews\n",
    "WHERE imdb_score > 7.0;"
   ]
  },
  {
   "cell_type": "markdown",
   "id": "5aaef474",
   "metadata": {},
   "source": [
    "## Select the film_id and facebook_likes of the first ten records with less than 1000 likes from the reviews table."
   ]
  },
  {
   "cell_type": "raw",
   "id": "b46b3122",
   "metadata": {},
   "source": [
    "SELECT film_id, facebook_likes\n",
    "FROM reviews\n",
    "WHERE facebook_likes < 1000\n",
    "LIMIT 10;"
   ]
  },
  {
   "cell_type": "markdown",
   "id": "e40cd6e0",
   "metadata": {},
   "source": [
    "## Count how many records have a num_votes of at least 100,000; use the alias films_over_100K_votes."
   ]
  },
  {
   "cell_type": "raw",
   "id": "6015ddd3",
   "metadata": {},
   "source": [
    "SELECT COUNT(num_votes) AS films_over_100K_votes\n",
    "FROM reviews\n",
    "WHERE num_votes >= 100000;"
   ]
  },
  {
   "cell_type": "markdown",
   "id": "8ddc03d7",
   "metadata": {},
   "source": [
    "# Using WHERE with text\n",
    "* WHERE can also filter string values.\n",
    "\n",
    "* Imagine you are part of an organization that gives cinematography awards, and you have several international categories. Before you confirm an award for every language listed in your dataset, it may be worth seeing if there are enough films of a specific language to make it a fair competition. If there is only one movie or a significant skew, it may be worth considering a different way of giving international awards."
   ]
  },
  {
   "cell_type": "markdown",
   "id": "43bd34ff",
   "metadata": {},
   "source": [
    "## Select and count the language field using the alias count_spanish.\n",
    "## Apply a filter to select only Spanish from the language field"
   ]
  },
  {
   "cell_type": "raw",
   "id": "acb21546",
   "metadata": {},
   "source": [
    "SELECT COUNT(language) AS count_spanish\n",
    "FROM films\n",
    "WHERE language = 'Spanish';"
   ]
  },
  {
   "cell_type": "markdown",
   "id": "f0e8646c",
   "metadata": {},
   "source": [
    "# Using AND\n",
    "* The following exercises combine AND and OR with the WHERE clause. Using these operators together strengthens your queries and analyses of data.\n",
    "\n",
    "* You will apply these new skills now on the films database."
   ]
  },
  {
   "cell_type": "markdown",
   "id": "544f74d5",
   "metadata": {},
   "source": [
    "## Select the title and release_year for all German-language films released before 2000."
   ]
  },
  {
   "cell_type": "raw",
   "id": "2c2b4bdb",
   "metadata": {},
   "source": [
    "SELECT title, release_year\n",
    "FROM films\n",
    "WHERE language = 'German' AND release_year < 2000;"
   ]
  },
  {
   "cell_type": "markdown",
   "id": "f090eeef",
   "metadata": {},
   "source": [
    "## Update the query from the previous step to show German-language films released after 2000 rather than before."
   ]
  },
  {
   "cell_type": "raw",
   "id": "6f96a428",
   "metadata": {},
   "source": [
    "SELECT title, release_year\n",
    "FROM films\n",
    "WHERE release_year > 2000\n",
    "\tAND language = 'German';"
   ]
  },
  {
   "cell_type": "markdown",
   "id": "c3851aa9",
   "metadata": {},
   "source": [
    "## Select all details for German-language films released after 2000 but before 2010 using only WHERE and AND."
   ]
  },
  {
   "cell_type": "raw",
   "id": "afed014a",
   "metadata": {},
   "source": [
    "SELECT *\n",
    "FROM films\n",
    "WHERE language = 'German'\n",
    "    AND release_year > 2000\n",
    "    AND release_year < 2010;"
   ]
  },
  {
   "cell_type": "markdown",
   "id": "20cc825e",
   "metadata": {},
   "source": [
    "# Using OR\n",
    "* This time you'll write a query to get the title and release_year of films released in 1990 or 1999, which were in English or Spanish and took in more than $2,000,000 gross."
   ]
  },
  {
   "cell_type": "markdown",
   "id": "ff49a7ef",
   "metadata": {},
   "source": [
    "## Select the title and release_year for films released in 1990 or 1999 using only WHERE and OR."
   ]
  },
  {
   "cell_type": "raw",
   "id": "c78da72b",
   "metadata": {},
   "source": [
    "SELECT title, release_year\n",
    "FROM films\n",
    "WHERE (release_year = 1990 OR release_year = 1999)"
   ]
  },
  {
   "cell_type": "markdown",
   "id": "3707d7bf",
   "metadata": {},
   "source": [
    "## Filter the records to only include English or Spanish-language films."
   ]
  },
  {
   "cell_type": "raw",
   "id": "a125c1d7",
   "metadata": {},
   "source": [
    "SELECT title, release_year\n",
    "FROM films\n",
    "WHERE (release_year = 1990 OR release_year = 1999)\n",
    "-- Add a filter to see only English or Spanish-language films\n",
    "\tAND (language = 'English' OR language = 'Spanish');"
   ]
  },
  {
   "cell_type": "markdown",
   "id": "09ed2492",
   "metadata": {},
   "source": [
    "## Finally, restrict the query to only return films worth more than $2,000,000 gross."
   ]
  },
  {
   "cell_type": "raw",
   "id": "cf1fa7ac",
   "metadata": {},
   "source": [
    "SELECT title, release_year\n",
    "FROM films\n",
    "WHERE (release_year = 1990 OR release_year = 1999)\n",
    "\tAND (language = 'English' OR language = 'Spanish')\n",
    "-- Filter films with more than $2,000,000 gross\n",
    "\tAND (gross > 2000000);"
   ]
  },
  {
   "cell_type": "markdown",
   "id": "8646657e",
   "metadata": {},
   "source": [
    "# Using BETWEEN\n",
    "* Let's use BETWEEN with AND on the films database to get the title and release_year of all Spanish-language films released between 1990 and 2000 (inclusive) with budgets over $100 million."
   ]
  },
  {
   "cell_type": "markdown",
   "id": "ee298d06",
   "metadata": {},
   "source": [
    "## Select the title and release_year of all films released between 1990 and 2000 (inclusive) using BETWEEN."
   ]
  },
  {
   "cell_type": "raw",
   "id": "7ac3a371",
   "metadata": {},
   "source": [
    "SELECT title, release_year\n",
    "FROM films\n",
    "WHERE release_year BETWEEN 1990 AND 2000;"
   ]
  },
  {
   "cell_type": "markdown",
   "id": "18f0621d",
   "metadata": {},
   "source": [
    "## Build on your previous query to select only films with a budget over $100 million."
   ]
  },
  {
   "cell_type": "raw",
   "id": "23412a03",
   "metadata": {},
   "source": [
    "SELECT title, release_year\n",
    "FROM films\n",
    "WHERE release_year BETWEEN 1990 AND 2000\n",
    "-- Narrow down your query to films with budgets > $100 million\n",
    "\tAND budget > 100000000;"
   ]
  },
  {
   "cell_type": "markdown",
   "id": "9dd111d3",
   "metadata": {},
   "source": [
    "## Now, restrict the query to only return Spanish-language films."
   ]
  },
  {
   "cell_type": "raw",
   "id": "bc48a955",
   "metadata": {},
   "source": [
    "SELECT title, release_year\n",
    "FROM films\n",
    "WHERE release_year BETWEEN 1990 AND 2000\n",
    "\tAND budget > 100000000\n",
    "-- Restrict the query to only Spanish-language films\n",
    "\tAND language = 'Spanish';"
   ]
  },
  {
   "cell_type": "markdown",
   "id": "c1201114",
   "metadata": {},
   "source": [
    "## Finally, amend the query to include all Spanish-language or French-language films with the same criteria."
   ]
  },
  {
   "cell_type": "raw",
   "id": "7d9a0e18",
   "metadata": {},
   "source": [
    "SELECT title, release_year\n",
    "FROM films\n",
    "WHERE (release_year BETWEEN 1990 AND 2000)\n",
    "\tAND budget > 100000000\n",
    "-- Amend the query to include Spanish or French-language films\n",
    "\tAND (language = 'Spanish' OR language = 'French');"
   ]
  },
  {
   "cell_type": "markdown",
   "id": "44a067d2",
   "metadata": {},
   "source": [
    "# LIKE and NOT LIKE\n",
    "* The LIKE and NOT LIKE operators can be used to find records that either match or do not match a specified pattern, respectively. They can be coupled with the wildcards % and _. The % will match zero or many characters, and _ will match a single character."
   ]
  },
  {
   "cell_type": "markdown",
   "id": "cb28919f",
   "metadata": {},
   "source": [
    "## Select the names of all people whose names begin with 'B'."
   ]
  },
  {
   "cell_type": "raw",
   "id": "c24a7397",
   "metadata": {},
   "source": [
    "SELECT name\n",
    "FROM people\n",
    "WHERE name LIKE 'B%';"
   ]
  },
  {
   "cell_type": "markdown",
   "id": "7983af72",
   "metadata": {},
   "source": [
    "# Select the names of people whose names have 'r' as the second letter."
   ]
  },
  {
   "cell_type": "raw",
   "id": "88238302",
   "metadata": {},
   "source": [
    "SELECT name\n",
    "FROM people\n",
    "-- Select the names that have r as the second letter\n",
    "WHERE name LIKE '_r%';"
   ]
  },
  {
   "cell_type": "markdown",
   "id": "14f39672",
   "metadata": {},
   "source": [
    "# Select the names of people whose names don't start with 'A'."
   ]
  },
  {
   "cell_type": "raw",
   "id": "bba1ed42",
   "metadata": {},
   "source": [
    "SELECT name\n",
    "FROM people\n",
    "-- Select names that don't start with A\n",
    "WHERE name NOT LIKE 'A%';"
   ]
  },
  {
   "cell_type": "markdown",
   "id": "8299be4d",
   "metadata": {},
   "source": [
    "# WHERE IN\n",
    "* You now know you can query multiple conditions using the IN operator and a set of parentheses. It is a valuable piece of code that helps us keep our queries clean and concise."
   ]
  },
  {
   "cell_type": "markdown",
   "id": "48001430",
   "metadata": {},
   "source": [
    "## Select the title and release_year of all films released in 1990 or 2000 that were longer than two hours."
   ]
  },
  {
   "cell_type": "raw",
   "id": "1dd8137a",
   "metadata": {},
   "source": [
    "SELECT title, release_year\n",
    "FROM films\n",
    "WHERE release_year IN (1990, 2000)\n",
    "    AND duration > 120;"
   ]
  },
  {
   "cell_type": "markdown",
   "id": "7b36aec3",
   "metadata": {},
   "source": [
    "## Select the title and language of all films in English, Spanish, or French using IN."
   ]
  },
  {
   "cell_type": "raw",
   "id": "7a97bc6a",
   "metadata": {},
   "source": [
    "SELECT title, language\n",
    "FROM films\n",
    "WHERE language IN ('English', 'Spanish', 'French');"
   ]
  },
  {
   "cell_type": "markdown",
   "id": "65c0cfd0",
   "metadata": {},
   "source": [
    "## Select the title, certification and language of all films certified NC-17 or R that are in English, Italian, or Greek."
   ]
  },
  {
   "cell_type": "raw",
   "id": "dd9d1c39",
   "metadata": {},
   "source": [
    "SELECT title, certification, language\n",
    "FROM films\n",
    "WHERE certification IN ('NC-17', 'R')\n",
    "    AND language IN ('English', 'Italian', 'Greek');"
   ]
  },
  {
   "cell_type": "markdown",
   "id": "8e47aa5f",
   "metadata": {},
   "source": [
    "# Combining filtering and selecting"
   ]
  },
  {
   "cell_type": "markdown",
   "id": "dfe45d06",
   "metadata": {},
   "source": [
    "* Time for a little challenge. So far, your SQL vocabulary from this course includes COUNT(), DISTINCT, LIMIT, WHERE, OR, AND, BETWEEN, LIKE, NOT LIKE, and IN. In this exercise, you will try to use some of these together. Writing more complex queries will be standard for you as you become a qualified SQL programmer.\n",
    "\n",
    "* As this query will be a little more complicated than what you've seen so far, we've included a bit of code to get you started. You will be using DISTINCT here too because, surprise, there are two movies named 'Hamlet' in this dataset!"
   ]
  },
  {
   "cell_type": "raw",
   "id": "92a4d590",
   "metadata": {},
   "source": [
    "-- Count the unique titles\n",
    "SELECT COUNT(DISTINCT(title)) AS nineties_english_films_for_teens\n",
    "FROM films\n",
    "-- Filter to release_years to between 1990 and 1999\n",
    "WHERE release_year BETWEEN 1990 AND 1999\n",
    "-- Filter to English-language films\n",
    "\tAND language = 'English'\n",
    "-- Narrow it down to G, PG, and PG-13 certifications\n",
    "\tAND certification IN ('G', 'PG', 'PG-13');"
   ]
  },
  {
   "cell_type": "markdown",
   "id": "b5d64db3",
   "metadata": {},
   "source": [
    "# Practice with NULLs"
   ]
  },
  {
   "cell_type": "markdown",
   "id": "f0166a99",
   "metadata": {},
   "source": [
    "## Select the title of every film that doesn't have a budget associated with it and use the alias no_budget_info."
   ]
  },
  {
   "cell_type": "raw",
   "id": "6ed1b291",
   "metadata": {},
   "source": [
    "SELECT title AS no_budget_info\n",
    "FROM films\n",
    "WHERE budget IS NULL;"
   ]
  },
  {
   "cell_type": "markdown",
   "id": "75392c6b",
   "metadata": {},
   "source": [
    "## Count the number of films with a language associated with them and use the alias count_language_known."
   ]
  },
  {
   "cell_type": "raw",
   "id": "351db999",
   "metadata": {},
   "source": [
    "SELECT COUNT(language) AS count_language_known\n",
    "FROM films\n",
    "WHERE language IS NOT NULL;"
   ]
  },
  {
   "cell_type": "markdown",
   "id": "272a7bd3",
   "metadata": {},
   "source": [
    "### Aggregate functions and data types\n",
    "Aggregate functions are another valuable tool for the SQL programmer. They are used extensively across businesses to calculate important metrics, such as the average cost of making a film.\n",
    "\n",
    "You know five different aggregate functions:\n",
    "\n",
    "-AVG()\n",
    "\n",
    "-SUM()\n",
    "\n",
    "-MIN()\n",
    "\n",
    "-MAX()\n",
    "\n",
    "-COUNT()"
   ]
  },
  {
   "cell_type": "markdown",
   "id": "ee25ae41",
   "metadata": {},
   "source": [
    "## Use the SUM() function to calculate the total duration of all films and alias with total_duration."
   ]
  },
  {
   "cell_type": "raw",
   "id": "c175ca4c",
   "metadata": {},
   "source": [
    "SELECT SUM(duration) AS total_duration\n",
    "FROM films;"
   ]
  },
  {
   "cell_type": "markdown",
   "id": "23b2be4a",
   "metadata": {},
   "source": [
    "## Calculate the average duration of all films and alias with average_duration."
   ]
  },
  {
   "cell_type": "raw",
   "id": "02912f96",
   "metadata": {},
   "source": [
    "SELECT AVG(duration) AS average_duration\n",
    "FROM films;"
   ]
  },
  {
   "cell_type": "markdown",
   "id": "66f4c671",
   "metadata": {},
   "source": [
    "## Find the most recent release_year in the films table, aliasing as latest_year."
   ]
  },
  {
   "cell_type": "raw",
   "id": "bfbea3f4",
   "metadata": {},
   "source": [
    "SELECT MAX(release_year) AS latest_year\n",
    "FROM films;"
   ]
  },
  {
   "cell_type": "markdown",
   "id": "86dfe290",
   "metadata": {},
   "source": [
    "## Find the duration of the shortest film and use the alias shortest_film."
   ]
  },
  {
   "cell_type": "raw",
   "id": "30d85925",
   "metadata": {},
   "source": [
    "SELECT MIN(duration) AS shortest_film\n",
    "FROM films;"
   ]
  },
  {
   "cell_type": "markdown",
   "id": "211e5d3a",
   "metadata": {},
   "source": [
    "# Combining aggregate functions with WHERE\n",
    "* When combining aggregate functions with WHERE, you get a powerful tool that allows you to get more granular with your insights, for example, to get the total budget of movies made from the year 2010 onwards.\n",
    "\n",
    "* This combination is useful when you only want to summarize a subset of your data. In your film-industry role, as an example, you may like to summarize each certification category to compare how they each perform or if one certification has a higher average budget than another."
   ]
  },
  {
   "cell_type": "raw",
   "id": "c733e990",
   "metadata": {},
   "source": [
    "SELECT SUM(gross) AS total_gross\n",
    "FROM films\n",
    "WHERE release_year >= 2000;"
   ]
  },
  {
   "cell_type": "markdown",
   "id": "a802fc6c",
   "metadata": {},
   "source": [
    "## Calculate the average amount grossed by all films whose titles start with the letter 'A' and alias with avg_gross_A."
   ]
  },
  {
   "cell_type": "raw",
   "id": "8033973e",
   "metadata": {},
   "source": [
    "SELECT AVG(gross) AS avg_gross_A\n",
    "FROM films\n",
    "WHERE title LIKE 'A%';"
   ]
  },
  {
   "cell_type": "markdown",
   "id": "27782d6d",
   "metadata": {},
   "source": [
    "## Calculate the lowest gross film in 1994 and use the alias lowest_gross."
   ]
  },
  {
   "cell_type": "raw",
   "id": "c1d5552e",
   "metadata": {},
   "source": [
    "SELECT MIN(gross) AS lowest_gross\n",
    "FROM films\n",
    "WHERE release_year = 1994;"
   ]
  },
  {
   "cell_type": "markdown",
   "id": "59125145",
   "metadata": {},
   "source": [
    "## Calculate the highest gross film between 2000 and 2012, inclusive, and use the alias highest_gross."
   ]
  },
  {
   "cell_type": "raw",
   "id": "babcbfb6",
   "metadata": {},
   "source": [
    "SELECT MAX(gross) AS highest_gross\n",
    "FROM films\n",
    "WHERE release_year BETWEEN 2000 AND 2012;"
   ]
  },
  {
   "cell_type": "markdown",
   "id": "903c1952",
   "metadata": {},
   "source": [
    "# Using ROUND()\n",
    "* Aggregate functions work great with numerical values; however, these results can sometimes get unwieldy when dealing with long decimal values. Luckily, SQL provides you with the ROUND() function to tame these long decimals."
   ]
  },
  {
   "cell_type": "markdown",
   "id": "4ea773af",
   "metadata": {},
   "source": [
    "## Calculate the average facebook_likes to one decimal place and assign to the alias, avg_facebook_likes."
   ]
  },
  {
   "cell_type": "raw",
   "id": "56d857f1",
   "metadata": {},
   "source": [
    "SELECT ROUND(AVG(facebook_likes), 1) AS avg_facebook_likes\n",
    "FROM reviews"
   ]
  },
  {
   "cell_type": "markdown",
   "id": "949c5763",
   "metadata": {},
   "source": [
    "# ROUND() with a negative parameter\n",
    "* A useful thing you can do with ROUND() is have a negative number as the decimal place parameter. This can come in handy if your manager only needs to know the average number of facebook_likes to the hundreds since granularity below one hundred likes won't impact decision making."
   ]
  },
  {
   "cell_type": "markdown",
   "id": "2246f5fe",
   "metadata": {},
   "source": [
    "## Calculate the average budget from the films table, aliased as avg_budget_thousands, and round to the nearest thousand."
   ]
  },
  {
   "cell_type": "raw",
   "id": "d5e785c4",
   "metadata": {},
   "source": [
    "SELECT ROUND(AVG(budget), -3) AS avg_budget_thousands\n",
    "FROM films;"
   ]
  },
  {
   "cell_type": "markdown",
   "id": "3a19a5e2",
   "metadata": {},
   "source": [
    "# Aliasing with functions\n",
    "* Aliasing can be a lifesaver, especially as we start to do more complex SQL queries with multiple criteria. Aliases help you keep your code clean and readable. For example, if you want to find the MAX() value of several fields without aliasing, you'll end up with the result with several columns called max and no idea which is which. You can fix this with aliasing."
   ]
  },
  {
   "cell_type": "markdown",
   "id": "9c4cf4bc",
   "metadata": {},
   "source": [
    "## Select the title and duration in hours for all films and alias as duration_hours; since the current durations are in minutes, you'll need to divide duration by 60.0."
   ]
  },
  {
   "cell_type": "raw",
   "id": "001a2c4f",
   "metadata": {},
   "source": [
    "SELECT title, (duration/60.0) AS duration_hours\n",
    "FROM films;"
   ]
  },
  {
   "cell_type": "markdown",
   "id": "23f7f9d2",
   "metadata": {},
   "source": [
    "## Calculate the percentage of people who are no longer alive and alias the result as percentage_dead."
   ]
  },
  {
   "cell_type": "raw",
   "id": "38a5a724",
   "metadata": {},
   "source": [
    "SELECT COUNT(deathdate) * 100.0 / COUNT(*) AS percentage_dead\n",
    "FROM people;"
   ]
  },
  {
   "cell_type": "markdown",
   "id": "497ad851",
   "metadata": {},
   "source": [
    "## Find how many decades the films table covers by using MIN() and MAX() and alias as number_of_decades."
   ]
  },
  {
   "cell_type": "raw",
   "id": "f061da59",
   "metadata": {},
   "source": [
    "SELECT ((MAX(release_year)-MIN(release_year))/ 10.0) AS number_of_decades\n",
    "FROM films;"
   ]
  },
  {
   "cell_type": "markdown",
   "id": "6e6bb4b1",
   "metadata": {},
   "source": [
    "# Rounding results\n",
    "* You found some valuable insights in the previous exercise, but many of the results were inconveniently long. We forgot to round! We won't make you redo them all; however, you'll update the worst offender in this exercise."
   ]
  },
  {
   "cell_type": "markdown",
   "id": "1896c80d",
   "metadata": {},
   "source": [
    "## Update the query by adding ROUND() around the calculation and round to two decimal places."
   ]
  },
  {
   "cell_type": "raw",
   "id": "f0ff7b70",
   "metadata": {},
   "source": [
    "SELECT title, ROUND((duration / 60.0), 2) AS duration_hours\n",
    "FROM films;"
   ]
  },
  {
   "cell_type": "markdown",
   "id": "00fc33eb",
   "metadata": {},
   "source": [
    "# Sorting single fields\n",
    "* Now that you understand how ORDER BY works, you'll put it into practice. In this exercise, you'll work on sorting single fields only. This can be helpful to extract quick insights such as the top-grossing or top-scoring film."
   ]
  },
  {
   "cell_type": "markdown",
   "id": "0ed4dbce",
   "metadata": {},
   "source": [
    "## Select the name of each person in the people table, sorted alphabetically."
   ]
  },
  {
   "cell_type": "raw",
   "id": "745bf450",
   "metadata": {},
   "source": [
    "SELECT name\n",
    "FROM people\n",
    "ORDER BY name;"
   ]
  },
  {
   "cell_type": "markdown",
   "id": "1425c0be",
   "metadata": {},
   "source": [
    "## Select the title and duration for every film, from longest duration to shortest."
   ]
  },
  {
   "cell_type": "raw",
   "id": "00c20955",
   "metadata": {},
   "source": [
    "SELECT title, duration\n",
    "FROM films\n",
    "ORDER BY duration DESC;"
   ]
  },
  {
   "cell_type": "markdown",
   "id": "5ad0c7db",
   "metadata": {},
   "source": [
    "# Sorting multiple fields\n",
    "* ORDER BY can also be used to sort on multiple fields. It will sort by the first field specified, then sort by the next, and so on. As an example, you may want to sort the people data by age and keep the names in alphabetical order."
   ]
  },
  {
   "cell_type": "markdown",
   "id": "876f935c",
   "metadata": {},
   "source": [
    "## Select the release_year, duration, and title of films ordered by their release year and duration, in that order."
   ]
  },
  {
   "cell_type": "raw",
   "id": "d52ad84b",
   "metadata": {},
   "source": [
    "SELECT title, release_year, duration\n",
    "FROM films\n",
    "ORDER BY release_year, duration;"
   ]
  },
  {
   "cell_type": "markdown",
   "id": "908aca1a",
   "metadata": {},
   "source": [
    "## Select the certification, release_year, and title from films ordered first by certification (alphabetically) and second by release year, starting with the most recent year.## "
   ]
  },
  {
   "cell_type": "raw",
   "id": "e2f1b67d",
   "metadata": {},
   "source": [
    "SELECT title, release_year, certification\n",
    "FROM films\n",
    "ORDER BY certification, release_year DESC;"
   ]
  },
  {
   "cell_type": "markdown",
   "id": "32ed1538",
   "metadata": {},
   "source": [
    "# GROUP BY single fields\n",
    "* GROUP BY is a SQL keyword that allows you to group and summarize results with the additional use of aggregate functions. For example, films can be grouped by the certification and language before counting the film titles in each group. This allows you to see how many films had a particular certification and language grouping."
   ]
  },
  {
   "cell_type": "markdown",
   "id": "47eb460a",
   "metadata": {},
   "source": [
    "## Select the release_year and count of films released in each year aliased as film_count."
   ]
  },
  {
   "cell_type": "raw",
   "id": "de429be4",
   "metadata": {},
   "source": [
    "SELECT release_year, COUNT(title) as film_count\n",
    "FROM films\n",
    "GROUP BY release_year;"
   ]
  },
  {
   "cell_type": "markdown",
   "id": "7d6a2ee9",
   "metadata": {},
   "source": [
    "## Select the release_year and average duration aliased as avg_duration of all films, grouped by release_year."
   ]
  },
  {
   "cell_type": "raw",
   "id": "c14a4ce6",
   "metadata": {},
   "source": [
    "SELECT release_year, AVG(duration) AS avg_duration\n",
    "FROM films\n",
    "GROUP BY release_year;"
   ]
  },
  {
   "cell_type": "markdown",
   "id": "5226484c",
   "metadata": {},
   "source": [
    "## Select the release_year, country, and the maximum budget aliased as max_budget for each year and each country; sort your results by release_year and country."
   ]
  },
  {
   "cell_type": "raw",
   "id": "02f4bc06",
   "metadata": {},
   "source": [
    "SELECT release_year,\n",
    "    country,\n",
    "    MAX(budget) AS max_budget\n",
    "FROM films\n",
    "GROUP BY release_year, country;"
   ]
  },
  {
   "cell_type": "markdown",
   "id": "37c0962e",
   "metadata": {},
   "source": [
    "# Answering business questions\n",
    "* In the real world, every SQL query starts with a business question. Then it is up to you to decide how to write the query that answers the question. Let's try this out.\n",
    "* Which release_year had the most language diversity?\n",
    "* \"Most language diversity\" can be interpreted as COUNT(DISTINCT ___)."
   ]
  },
  {
   "cell_type": "code",
   "execution_count": null,
   "id": "8c7df2c4",
   "metadata": {},
   "outputs": [],
   "source": [
    "SELECT release_year,\n",
    "    COUNT(DISTINCT language) AS diversity\n",
    "FROM films\n",
    "GROUP BY release_year\n",
    "ORDER BY diversity DESC;"
   ]
  },
  {
   "cell_type": "markdown",
   "id": "48ae6cca",
   "metadata": {},
   "source": [
    "# Filter with HAVING\n",
    "*  It works similarly to WHERE in that it is a filtering clause, with the difference that HAVING filters grouped data.\n",
    "* Filtering grouped data can be especially handy when working with a large dataset. When working with thousands or even millions of rows, HAVING will allow you to filter for just the group of data you want, such as films over two hours in length!"
   ]
  },
  {
   "cell_type": "markdown",
   "id": "0dcb7d47",
   "metadata": {},
   "source": [
    "## Select country from the films table, and get the distinct count of certification aliased as certification_count."
   ]
  },
  {
   "cell_type": "raw",
   "id": "bff055a3",
   "metadata": {},
   "source": [
    "SELECT country, COUNT(DISTINCT certification) AS certification_count\n",
    "FROM films;"
   ]
  },
  {
   "cell_type": "markdown",
   "id": "66ebb656",
   "metadata": {},
   "source": [
    "## Group the results by country."
   ]
  },
  {
   "cell_type": "code",
   "execution_count": null,
   "id": "1b5a5a42",
   "metadata": {},
   "outputs": [],
   "source": [
    "SELECT country, COUNT(DISTINCT certification) AS certification_count\n",
    "FROM films\n",
    "GROUP BY country;"
   ]
  },
  {
   "cell_type": "markdown",
   "id": "4cf960b0",
   "metadata": {},
   "source": [
    "## Filter the unique count of certifications to only results greater than 10."
   ]
  },
  {
   "cell_type": "raw",
   "id": "d53be10c",
   "metadata": {},
   "source": [
    "SELECT country, COUNT(DISTINCT certification) AS certification_count\n",
    "FROM films\n",
    "GROUP BY country\n",
    "HAVING COUNT(DISTINCT certification) > 10;"
   ]
  },
  {
   "cell_type": "markdown",
   "id": "834e0b8a",
   "metadata": {},
   "source": [
    "# HAVING and sorting"
   ]
  },
  {
   "cell_type": "markdown",
   "id": "0e268e92",
   "metadata": {},
   "source": [
    "### Select the country and the average budget as average_budget, rounded to two decimal, from films.\n",
    "### Group the results by country.\n",
    "### Filter the results to countries with an average budget of more than one billion (1000000000).\n",
    "### Sort by descending order of the average_budget."
   ]
  },
  {
   "cell_type": "raw",
   "id": "d68af9d1",
   "metadata": {},
   "source": [
    "-- Select the country and average_budget from films\n",
    "SELECT country, AVG(budget) AS average_budget\n",
    "FROM films\n",
    "-- Group by country\n",
    "GROUP BY country\n",
    "-- Filter to countries with an average_budget of more than one billion\n",
    "HAVING AVG(budget) > 1000000000\n",
    "-- Order by descending order of the aggregated budget\n",
    "ORDER BY AVG(budget) DESC;"
   ]
  },
  {
   "cell_type": "markdown",
   "id": "3adf491f",
   "metadata": {},
   "source": [
    "# All together now\n",
    "## In this exercise, you'll write a query that returns the average budget and gross earnings for films each year after 1990 if the average budget is greater than 60 million."
   ]
  },
  {
   "cell_type": "raw",
   "id": "fea16638",
   "metadata": {},
   "source": [
    "SELECT release_year, \n",
    "    AVG(budget) AS avg_budget, \n",
    "    AVG(gross) AS avg_gross\n",
    "FROM films\n",
    "WHERE release_year > 1990\n",
    "GROUP BY release_year\n",
    "HAVING AVG(budget) > 60000000\n",
    "ORDER BY avg_gross DESC\n",
    "LIMIT 1;"
   ]
  }
 ],
 "metadata": {
  "kernelspec": {
   "display_name": "Python 3 (ipykernel)",
   "language": "python",
   "name": "python3"
  },
  "language_info": {
   "codemirror_mode": {
    "name": "ipython",
    "version": 3
   },
   "file_extension": ".py",
   "mimetype": "text/x-python",
   "name": "python",
   "nbconvert_exporter": "python",
   "pygments_lexer": "ipython3",
   "version": "3.9.12"
  }
 },
 "nbformat": 4,
 "nbformat_minor": 5
}
