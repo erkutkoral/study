{
 "cells": [
  {
   "cell_type": "markdown",
   "id": "84f962b1",
   "metadata": {},
   "source": [
    "### This is a LEFT JOIN, right?"
   ]
  },
  {
   "cell_type": "markdown",
   "id": "15ff7d3d",
   "metadata": {},
   "source": [
    "#### Perform an inner join with cities AS c1 on the left and countries as c2 on the right.\n",
    "#### Use code as the field to merge your tables on."
   ]
  },
  {
   "cell_type": "raw",
   "id": "3478a09e",
   "metadata": {},
   "source": [
    "SELECT \n",
    "    c1.name AS city,\n",
    "    code,\n",
    "    c2.name AS country,\n",
    "    region,\n",
    "    city_proper_pop\n",
    "FROM cities AS c1\n",
    "## Perform an inner join with cities as c1 and countries as c2 on country code\n",
    "INNER JOIN countries AS c2\n",
    "ON c1.country_code = c2.code\n",
    "ORDER BY code DESC;"
   ]
  },
  {
   "cell_type": "markdown",
   "id": "8c69da3c",
   "metadata": {},
   "source": [
    "#### Change the code to perform a LEFT JOIN instead of an INNER JOIN.\n",
    "#### After executing this query, have a look at how many records the query result contains."
   ]
  },
  {
   "cell_type": "raw",
   "id": "e3a7b2eb",
   "metadata": {},
   "source": [
    "SELECT \n",
    "\tc1.name AS city, \n",
    "    code, \n",
    "    c2.name AS country,\n",
    "    region, \n",
    "    city_proper_pop\n",
    "FROM cities AS c1\n",
    "-- Join right table (with alias)\n",
    "LEFT JOIN countries AS c2\n",
    "ON c1.country_code = c2.code\n",
    "ORDER BY code DESC;"
   ]
  },
  {
   "cell_type": "markdown",
   "id": "f0d1858b",
   "metadata": {},
   "source": [
    "### Building on your LEFT JOIN\n",
    "* You'll now revisit the use of the AVG() function introduced in a previous course.\n",
    "\n",
    "* Being able to build more than one SQL function into your query will enable you to write compact, supercharged queries.\n",
    "\n",
    "* You will use AVG() in combination with a LEFT JOIN to determine the average gross domestic product (GDP) per capita by region in 2010."
   ]
  },
  {
   "cell_type": "markdown",
   "id": "39f93b15",
   "metadata": {},
   "source": [
    "#### Complete the LEFT JOIN with the countries table on the left and the economies table on the right on the code field.\n",
    "#### Filter the records from the year 2010."
   ]
  },
  {
   "cell_type": "raw",
   "id": "dd04f7be",
   "metadata": {},
   "source": [
    "SELECT name, region, gdp_percapita\n",
    "FROM countries AS c\n",
    "LEFT JOIN economies AS e\n",
    "-- Match on code fields\n",
    "ON c.code = e.code\n",
    "-- Filter for the year 2010\n",
    "WHERE year = 2010;"
   ]
  },
  {
   "cell_type": "markdown",
   "id": "197d75e6",
   "metadata": {},
   "source": [
    "#### To calculate per capita GDP per region, begin by grouping by region.\n",
    "#### After your GROUP BY, choose region in your SELECT statement, followed by average GDP per capita using the AVG() function, with AS avg_gdp as your alias."
   ]
  },
  {
   "cell_type": "raw",
   "id": "d49dcd06",
   "metadata": {},
   "source": [
    "-- Select region, and average gdp_percapita as avg_gdp\n",
    "SELECT region,\n",
    "    AVG(gdp_percapita) AS avg_gdp\n",
    "FROM countries AS c\n",
    "LEFT JOIN economies AS e\n",
    "USING(code)\n",
    "WHERE year = 2010\n",
    "-- Group by region\n",
    "GROUP BY region;"
   ]
  },
  {
   "cell_type": "markdown",
   "id": "b0532ac3",
   "metadata": {},
   "source": [
    "#### Order the result set by the average GDP per capita from highest to lowest.\n",
    "#### Return only the first 10 records in your result."
   ]
  },
  {
   "cell_type": "raw",
   "id": "e7c8d83d",
   "metadata": {},
   "source": [
    "SELECT region, AVG(gdp_percapita) AS avg_gdp\n",
    "FROM countries AS c\n",
    "LEFT JOIN economies AS e\n",
    "USING(code)\n",
    "WHERE year = 2010\n",
    "GROUP BY region\n",
    "-- Order by descending avg_gdp\n",
    "ORDER BY AVG(gdp_percapita) DESC\n",
    "-- Return only first 10 records\n",
    "LIMIT 10;"
   ]
  },
  {
   "cell_type": "markdown",
   "id": "d94c58e6",
   "metadata": {},
   "source": [
    "## Is this RIGHT?\n",
    "* You learned that right joins are not used as commonly as left joins. A key reason for this is that right joins can always be re-written as left joins, and because joins are typically typed from left to right, joining from the left feels more intuitive when constructing queries."
   ]
  },
  {
   "cell_type": "markdown",
   "id": "e1c1b0c8",
   "metadata": {},
   "source": [
    "#### Write a new query using RIGHT JOIN that produces an identical result to the LEFT JOIN provided."
   ]
  },
  {
   "cell_type": "raw",
   "id": "437870b8",
   "metadata": {},
   "source": [
    "-- Modify this query to use RIGHT JOIN instead of LEFT JOIN\n",
    "SELECT countries.name AS country, languages.name AS language, percent\n",
    "FROM languages\n",
    "RIGHT JOIN countries\n",
    "USING(code)\n",
    "ORDER BY language;"
   ]
  },
  {
   "cell_type": "markdown",
   "id": "4484326b",
   "metadata": {},
   "source": [
    "* When converting a LEFT JOIN to a RIGHT JOIN, change both the type of join and the order of the tables to get equivalent results. You would get different results if you only changed the table order. The order of fields you are joining ON still does not matter."
   ]
  },
  {
   "cell_type": "markdown",
   "id": "12a36900",
   "metadata": {},
   "source": [
    "### Comparing joins"
   ]
  },
  {
   "cell_type": "markdown",
   "id": "d6ce8631",
   "metadata": {},
   "source": [
    "#### Perform a full join with countries (left) and currencies (right).\n",
    "#### Filter for the North America region or NULL country names."
   ]
  },
  {
   "cell_type": "raw",
   "id": "8959fcdd",
   "metadata": {},
   "source": [
    "SELECT name AS country, code, region, basic_unit\n",
    "FROM countries\n",
    "-- Join to currencies\n",
    "FULL JOIN currencies\n",
    "USING (code)\n",
    "-- Where region is North America or name is null\n",
    "WHERE region = 'North America' OR name IS null\n",
    "ORDER BY region;"
   ]
  },
  {
   "cell_type": "markdown",
   "id": "a413be26",
   "metadata": {},
   "source": [
    "#### Repeat the same query as before, turning your full join into a left join with the currencies table.\n",
    "#### Have a look at what has changed in the output by comparing it to the full join result."
   ]
  },
  {
   "cell_type": "raw",
   "id": "7c544728",
   "metadata": {},
   "source": [
    "SELECT name AS country, code, region, basic_unit\n",
    "FROM countries\n",
    "-- Join to currencies\n",
    "LEFT JOIN currencies\n",
    "USING (code)\n",
    "WHERE region = 'North America' \n",
    "\tOR name IS NULL\n",
    "ORDER BY region;"
   ]
  },
  {
   "cell_type": "markdown",
   "id": "9ab2cd23",
   "metadata": {},
   "source": [
    "#### Repeat the same query again, this time performing an inner join of countries with currencies.\n",
    "#### Have a look at what has changed in the output by comparing it to the full join and left join results!"
   ]
  },
  {
   "cell_type": "raw",
   "id": "eafd48a7",
   "metadata": {},
   "source": [
    "SELECT name AS country, code, region, basic_unit\n",
    "FROM countries\n",
    "-- Join to currencies\n",
    "INNER JOIN currencies \n",
    "USING (code)\n",
    "WHERE region = 'North America' \n",
    "\tOR name IS NULL\n",
    "ORDER BY region;"
   ]
  },
  {
   "cell_type": "markdown",
   "id": "3444afb5",
   "metadata": {},
   "source": [
    "### Chaining FULL JOINs\n",
    "* As you have seen in the previous chapter on INNER JOIN, it is possible to chain joins in SQL, such as when looking to connect data from more than two tables.\n",
    "* Suppose you are doing some research on Melanesia and Micronesia, and are interested in pulling information about languages and currencies into the data we see for these regions in the countries table. Since languages and currencies exist in separate tables, this will require two consecutive full joins involving the countries, languages and currencies tables."
   ]
  },
  {
   "cell_type": "markdown",
   "id": "a7108097",
   "metadata": {},
   "source": [
    "#### Complete the FULL JOIN with countries as c1 on the left and languages as l on the right, using code to perform this join.\n",
    "#### Next, chain this join with another FULL JOIN, placing currencies on the right, joining on code again."
   ]
  },
  {
   "cell_type": "raw",
   "id": "70d4e2a2",
   "metadata": {},
   "source": [
    "SELECT \n",
    "\tc1.name AS country, \n",
    "    region, \n",
    "    l.name AS language,\n",
    "\tbasic_unit, \n",
    "    frac_unit\n",
    "FROM countries as c1 \n",
    "-- Full join with languages (alias as l)\n",
    "FULL JOIN languages AS l\n",
    "USING(code)\n",
    "-- Full join with currencies (alias as c2)\n",
    "FULL JOIN currencies AS c2\n",
    "USING(code)\n",
    "WHERE region LIKE 'M%esia';"
   ]
  },
  {
   "cell_type": "markdown",
   "id": "3b214429",
   "metadata": {},
   "source": [
    "### Histories and languages"
   ]
  },
  {
   "cell_type": "markdown",
   "id": "16ac80db",
   "metadata": {},
   "source": [
    "* Well done getting to know all about CROSS JOIN! As you have learned, CROSS JOIN can be incredibly helpful when asking questions that involve looking at all possible combinations or pairings between two sets of data.\n",
    "* Imagine you are a researcher interested in the languages spoken in two countries: Pakistan and India. You are interested in asking:\n",
    "\n",
    "*  1) What are the languages presently spoken in the two countries?\n",
    "*  2) Given the shared history between the two countries, what languages could potentially have been spoken in either country over the course of their history?"
   ]
  },
  {
   "cell_type": "markdown",
   "id": "cc1731bc",
   "metadata": {},
   "source": [
    "#### Complete the code to perform an INNER JOIN of countries AS c with languages AS l using the code field to obtain the languages currently spoken in the two countries."
   ]
  },
  {
   "cell_type": "raw",
   "id": "43fe26ab",
   "metadata": {},
   "source": [
    "SELECT c.name AS country, l.name AS language\n",
    "-- Inner join countries as c with languages as l on code\n",
    "FROM countries AS c\n",
    "INNER JOIN languages AS l\n",
    "USING(code)\n",
    "WHERE c.code IN ('PAK','IND')\n",
    "\tAND l.code in ('PAK','IND');"
   ]
  },
  {
   "cell_type": "markdown",
   "id": "0faf5a83",
   "metadata": {},
   "source": [
    "#### Change your INNER JOIN to a different kind of join to look at possible combinations of languages that could have been spoken in the two countries given their history.\n",
    "#### Observe the differences in output for both joins."
   ]
  },
  {
   "cell_type": "raw",
   "id": "79513587",
   "metadata": {},
   "source": [
    "SELECT c.name AS country, l.name AS language\n",
    "FROM countries AS c        \n",
    "-- Perform a cross join to languages (alias as l)\n",
    "CROSS JOIN languages AS l\n",
    "WHERE c.code in ('PAK','IND')\n",
    "\tAND l.code in ('PAK','IND');"
   ]
  },
  {
   "cell_type": "markdown",
   "id": "d51314a5",
   "metadata": {},
   "source": [
    "### Choosing your join\n",
    "* You will determine the names of the five countries and their respective regions with the lowest life expectancy for the year 2010. Use your knowledge about joins, filtering, sorting and limiting to create this list!"
   ]
  },
  {
   "cell_type": "raw",
   "id": "99d414aa",
   "metadata": {},
   "source": [
    "SELECT \n",
    "\tc.name AS country,\n",
    "    region,\n",
    "    life_expectancy AS life_exp\n",
    "FROM countries AS c\n",
    "-- Join to populations (alias as p) using an appropriate join\n",
    "INNER JOIN populations AS p\n",
    "ON c.code = p.country_code\n",
    "-- Filter for only results in the year 2010\n",
    "WHERE year = 2010\n",
    "-- Sort by life_exp\n",
    "ORDER BY life_expectancy\n",
    "-- Limit to five records\n",
    "LIMIT 5;"
   ]
  },
  {
   "cell_type": "markdown",
   "id": "dbbedf90",
   "metadata": {},
   "source": [
    "### Comparing a country to itself\n",
    "* Self joins are very useful for comparing data from one part of a table with another part of the same table. Suppose you are interested in finding out how much the populations for each country changed from 2010 to 2015. You can visualize this change by performing a self join."
   ]
  },
  {
   "cell_type": "markdown",
   "id": "46383a42",
   "metadata": {},
   "source": [
    "#### Perform an inner join of populations with itself ON country_code, aliased p1 and p2 respectively.\n",
    "#### Select the country_code from p1 and the size field from both p1 and p2, aliasing p1.size as size2010 and p2.size as size2015 (in that order)."
   ]
  },
  {
   "cell_type": "raw",
   "id": "fbd494a5",
   "metadata": {},
   "source": [
    "-- Select aliased fields from populations as p1\n",
    "SELECT p1.country_code,\n",
    "    p1.size AS size2010,\n",
    "    p2.size AS size2015\n",
    "FROM populations AS p1\n",
    "-- Join populations as p1 to itself, alias as p2, on country code\n",
    "INNER JOIN populations AS p2\n",
    "ON p1.country_code = p2.country_code;"
   ]
  },
  {
   "cell_type": "markdown",
   "id": "da0b5265",
   "metadata": {},
   "source": [
    "#### Since you want to compare records from 2010 and 2015, eliminate unwanted records by extending the WHERE statement to include only records where the p1.year matches p2.year - 5."
   ]
  },
  {
   "cell_type": "raw",
   "id": "09b2a5d7",
   "metadata": {},
   "source": [
    "SELECT \n",
    "\tp1.country_code, \n",
    "    p1.size AS size2010, \n",
    "    p2.size AS size2015\n",
    "FROM populations AS p1\n",
    "INNER JOIN populations AS p2\n",
    "ON p1.country_code = p2.country_code\n",
    "WHERE p1.year = 2010\n",
    "-- Filter such that p1.year is always five years before p2.year\n",
    "    AND p1.year = (p2.year - 5);"
   ]
  }
 ],
 "metadata": {
  "kernelspec": {
   "display_name": "Python 3 (ipykernel)",
   "language": "python",
   "name": "python3"
  },
  "language_info": {
   "codemirror_mode": {
    "name": "ipython",
    "version": 3
   },
   "file_extension": ".py",
   "mimetype": "text/x-python",
   "name": "python",
   "nbconvert_exporter": "python",
   "pygments_lexer": "ipython3",
   "version": "3.9.12"
  }
 },
 "nbformat": 4,
 "nbformat_minor": 5
}
