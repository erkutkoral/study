{
 "cells": [
  {
   "cell_type": "markdown",
   "id": "29026f0d",
   "metadata": {},
   "source": [
    "### Numbering rows\n",
    "* The simplest application for window functions is numbering rows. Numbering rows allows you to easily fetch the nth row. For example, it would be very difficult to get the 35th row in any given table if you didn't have a column with each row's number."
   ]
  },
  {
   "cell_type": "markdown",
   "id": "3cab7fe5",
   "metadata": {},
   "source": [
    "#### Number each row in the dataset."
   ]
  },
  {
   "cell_type": "raw",
   "id": "bd6d4afa",
   "metadata": {},
   "source": [
    "SELECT\n",
    "  *,\n",
    "  -- Assign numbers to each row\n",
    "  ROW_NUMBER() OVER() AS Row_N\n",
    "FROM summer_medals\n",
    "ORDER BY Row_N ASC;"
   ]
  },
  {
   "cell_type": "markdown",
   "id": "3af73936",
   "metadata": {},
   "source": [
    "### Numbering Olympic games in ascending order\n",
    "* The Summer Olympics dataset contains the results of the games between 1896 and 2012. The first Summer Olympics were held in 1896, the second in 1900, and so on. What if you want to easily query the table to see in which year the 13th Summer Olympics were held? You'd need to number the rows for that."
   ]
  },
  {
   "cell_type": "markdown",
   "id": "1d0c0395",
   "metadata": {},
   "source": [
    "#### Assign a number to each year in which Summer Olympic games were held."
   ]
  },
  {
   "cell_type": "raw",
   "id": "8185a601",
   "metadata": {},
   "source": [
    "SELECT\n",
    "  Year,\n",
    "\n",
    "  -- Assign numbers to each year\n",
    "  ROW_NUMBER() OVER() AS Row_N\n",
    "FROM (\n",
    "  SELECT DISTINCT year\n",
    "  FROM summer_medals\n",
    "  ORDER BY year ASC\n",
    ") AS Years\n",
    "ORDER BY year ASC;"
   ]
  },
  {
   "cell_type": "markdown",
   "id": "e49657b3",
   "metadata": {},
   "source": [
    "### Numbering Olympic games in descending order\n",
    "* You've already numbered the rows in the Summer Medals dataset. What if you need to reverse the row numbers so that the most recent Olympic games' rows have a lower number?"
   ]
  },
  {
   "cell_type": "markdown",
   "id": "72007e31",
   "metadata": {},
   "source": [
    "#### Assign a number to each year in which Summer Olympic games were held so that rows with the most recent years have lower row numbers."
   ]
  },
  {
   "cell_type": "raw",
   "id": "eaddff60",
   "metadata": {},
   "source": [
    "SELECT\n",
    "  Year,\n",
    "  -- Assign the lowest numbers to the most recent years\n",
    "  ROW_NUMBER() OVER (ORDER BY year DESC) AS Row_N\n",
    "FROM (\n",
    "  SELECT DISTINCT Year\n",
    "  FROM Summer_Medals\n",
    ") AS Years\n",
    "ORDER BY Year;"
   ]
  },
  {
   "cell_type": "markdown",
   "id": "54f1e907",
   "metadata": {},
   "source": [
    "### Numbering Olympic athletes by medals earned\n",
    "* Row numbering can also be used for ranking. For example, numbering rows and ordering by the count of medals each athlete earned in the OVER clause will assign 1 to the highest-earning medalist, 2 to the second highest-earning medalist, and so on."
   ]
  },
  {
   "cell_type": "markdown",
   "id": "236fb6ab",
   "metadata": {},
   "source": [
    "#### For each athlete, count the number of medals he or she has earned."
   ]
  },
  {
   "cell_type": "raw",
   "id": "ea1fbe88",
   "metadata": {},
   "source": [
    "SELECT\n",
    "  -- Count the number of medals each athlete has earned\n",
    "  athlete,\n",
    "  COUNT(medal) AS Medals\n",
    "FROM Summer_Medals\n",
    "GROUP BY Athlete\n",
    "ORDER BY Medals DESC;"
   ]
  },
  {
   "cell_type": "markdown",
   "id": "e3227ef3",
   "metadata": {},
   "source": [
    "#### Having wrapped the previous query in the Athlete_Medals CTE, rank each athlete by the number of medals they've earned."
   ]
  },
  {
   "cell_type": "raw",
   "id": "f69dcbe5",
   "metadata": {},
   "source": [
    "WITH Athlete_Medals AS (\n",
    "  SELECT\n",
    "    -- Count the number of medals each athlete has earned\n",
    "    Athlete,\n",
    "    COUNT(*) AS Medals\n",
    "  FROM Summer_Medals\n",
    "  GROUP BY Athlete)\n",
    "\n",
    "SELECT\n",
    "  -- Number each athlete by how many medals they've earned\n",
    "  Athlete,\n",
    "  ROW_NUMBER() OVER (ORDER BY Medals DESC) AS Row_N\n",
    "FROM Athlete_Medals\n",
    "ORDER BY Medals DESC;"
   ]
  },
  {
   "cell_type": "markdown",
   "id": "a76570ae",
   "metadata": {},
   "source": [
    "### Reigning weightlifting champions\n",
    "* A reigning champion is a champion who's won both the previous and current years' competitions. To determine if a champion is reigning, the previous and current years' results need to be in the same row, in two different columns."
   ]
  },
  {
   "cell_type": "markdown",
   "id": "b76c6657",
   "metadata": {},
   "source": [
    "#### Return each year's gold medalists in the Men's 69KG weightlifting competition."
   ]
  },
  {
   "cell_type": "raw",
   "id": "22041466",
   "metadata": {},
   "source": [
    "SELECT\n",
    "  -- Return each year's champions' countries\n",
    "  year,\n",
    "  country AS champion\n",
    "FROM Summer_Medals\n",
    "WHERE\n",
    "  Discipline = 'Weightlifting' AND\n",
    "  Event = '69KG' AND\n",
    "  Gender = 'Men' AND\n",
    "  Medal = 'Gold';"
   ]
  },
  {
   "cell_type": "markdown",
   "id": "077a1c1f",
   "metadata": {},
   "source": [
    "#### Having wrapped the previous query in the Weightlifting_Gold CTE, get the previous year's champion for each year."
   ]
  },
  {
   "cell_type": "raw",
   "id": "9df95c0d",
   "metadata": {},
   "source": [
    "WITH Weightlifting_Gold AS (\n",
    "  SELECT\n",
    "    -- Return each year's champions' countries\n",
    "    Year,\n",
    "    Country AS champion\n",
    "  FROM Summer_Medals\n",
    "  WHERE\n",
    "    Discipline = 'Weightlifting' AND\n",
    "    Event = '69KG' AND\n",
    "    Gender = 'Men' AND\n",
    "    Medal = 'Gold')\n",
    "\n",
    "SELECT\n",
    "  Year, Champion,\n",
    "  -- Fetch the previous year's champion\n",
    "  LAG(Champion, 1) OVER\n",
    "    (ORDER BY year ASC) AS Last_Champion\n",
    "FROM Weightlifting_Gold\n",
    "ORDER BY Year ASC;"
   ]
  },
  {
   "cell_type": "markdown",
   "id": "14119551",
   "metadata": {},
   "source": [
    "### Reigning champions by gender\n",
    "* You've already fetched the previous year's champion for one event. However, if you have multiple events, genders, or other metrics as columns, you'll need to split your table into partitions to avoid having a champion from one event or gender appear as the previous champion of another event or gender."
   ]
  },
  {
   "cell_type": "markdown",
   "id": "e76685a2",
   "metadata": {},
   "source": [
    "#### Return the previous champions of each year's event by gender."
   ]
  },
  {
   "cell_type": "raw",
   "id": "bffdafa7",
   "metadata": {},
   "source": [
    "WITH Tennis_Gold AS (\n",
    "  SELECT DISTINCT\n",
    "    Gender, Year, Country\n",
    "  FROM Summer_Medals\n",
    "  WHERE\n",
    "    Year >= 2000 AND\n",
    "    Event = 'Javelin Throw' AND\n",
    "    Medal = 'Gold')\n",
    "\n",
    "SELECT\n",
    "  Gender, Year,\n",
    "  Country AS Champion,\n",
    "  -- Fetch the previous year's champion by gender\n",
    "  LAG(Country, 1) OVER (PARTITION BY gender\n",
    "            ORDER BY year ASC) AS Last_Champion\n",
    "FROM Tennis_Gold\n",
    "ORDER BY Gender ASC, Year ASC;"
   ]
  },
  {
   "cell_type": "markdown",
   "id": "fef6e060",
   "metadata": {},
   "source": [
    "### Reigning champions by gender and event\n",
    "* In the previous exercise, you partitioned by gender to ensure that data about one gender doesn't get mixed into data about the other gender. If you have multiple columns, however, partitioning by only one of them will still mix the results of the other columns."
   ]
  },
  {
   "cell_type": "markdown",
   "id": "45850fcc",
   "metadata": {},
   "source": [
    "#### Return the previous champions of each year's events by gender and event."
   ]
  },
  {
   "cell_type": "raw",
   "id": "0ac8be27",
   "metadata": {},
   "source": [
    "WITH Athletics_Gold AS (\n",
    "  SELECT DISTINCT\n",
    "    Gender, Year, Event, Country\n",
    "  FROM Summer_Medals\n",
    "  WHERE\n",
    "    Year >= 2000 AND\n",
    "    Discipline = 'Athletics' AND\n",
    "    Event IN ('100M', '10000M') AND\n",
    "    Medal = 'Gold')\n",
    "\n",
    "SELECT\n",
    "  Gender, Year, Event,\n",
    "  Country AS Champion,\n",
    "  -- Fetch the previous year's champion by gender and event\n",
    "  LAG(Country, 1) OVER (PARTITION BY gender, event\n",
    "            ORDER BY Year ASC) AS Last_Champion\n",
    "FROM Athletics_Gold\n",
    "ORDER BY Event ASC, Gender ASC, Year ASC;"
   ]
  },
  {
   "cell_type": "markdown",
   "id": "2f63d424",
   "metadata": {},
   "source": [
    "### Future gold medalists\n",
    "* Fetching functions allow you to get values from different parts of the table into one row. If you have time-ordered data, you can \"peek into the future\" with the LEAD fetching function. This is especially useful if you want to compare a current value to a future value."
   ]
  },
  {
   "cell_type": "markdown",
   "id": "12b840bb",
   "metadata": {},
   "source": [
    "#### For each year, fetch the current gold medalist and the gold medalist 3 competitions ahead of the current row."
   ]
  },
  {
   "cell_type": "raw",
   "id": "e822c6bb",
   "metadata": {},
   "source": [
    "WITH Discus_Medalists AS (\n",
    "  SELECT DISTINCT\n",
    "    Year,\n",
    "    Athlete\n",
    "  FROM Summer_Medals\n",
    "  WHERE Medal = 'Gold'\n",
    "    AND Event = 'Discus Throw'\n",
    "    AND Gender = 'Women'\n",
    "    AND Year >= 2000)\n",
    "\n",
    "SELECT\n",
    "  -- For each year, fetch the current and future medalists\n",
    "  year,\n",
    "  Athlete,\n",
    "  LEAD(Athlete, 3) OVER (ORDER BY year ASC) AS Future_Champion\n",
    "FROM Discus_Medalists\n",
    "ORDER BY Year ASC;"
   ]
  },
  {
   "cell_type": "markdown",
   "id": "d58c89a1",
   "metadata": {},
   "source": [
    "### First athlete by name\n",
    "* It's often useful to get the first or last value in a dataset to compare all other values to it. With absolute fetching functions like FIRST_VALUE, you can fetch a value at an absolute position in the table, like its beginning or end."
   ]
  },
  {
   "cell_type": "markdown",
   "id": "a96ff2fa",
   "metadata": {},
   "source": [
    "#### Return all athletes and the first athlete ordered by alphabetical order."
   ]
  },
  {
   "cell_type": "raw",
   "id": "f077246f",
   "metadata": {},
   "source": [
    "WITH All_Male_Medalists AS (\n",
    "  SELECT DISTINCT\n",
    "    Athlete\n",
    "  FROM Summer_Medals\n",
    "  WHERE Medal = 'Gold'\n",
    "    AND Gender = 'Men')\n",
    "\n",
    "SELECT\n",
    "  -- Fetch all athletes and the first athlete alphabetically\n",
    "  athlete,\n",
    "  FIRST_VALUE(athlete) OVER (\n",
    "    ORDER BY athlete ASC\n",
    "  ) AS First_Athlete\n",
    "FROM All_Male_Medalists;"
   ]
  },
  {
   "cell_type": "markdown",
   "id": "9f38ec61",
   "metadata": {},
   "source": [
    "### Last country by name\n",
    "* Just like you can get the first row's value in a dataset, you can get the last row's value. This is often useful when you want to compare the most recent value to previous values."
   ]
  },
  {
   "cell_type": "markdown",
   "id": "69e8a86c",
   "metadata": {},
   "source": [
    "#### Return the year and the city in which each Olympic games were held.\n",
    "#### Fetch the last city in which the Olympic games were held."
   ]
  },
  {
   "cell_type": "raw",
   "id": "3022a0b6",
   "metadata": {},
   "source": [
    "WITH Hosts AS (\n",
    "  SELECT DISTINCT Year, City\n",
    "    FROM Summer_Medals)\n",
    "\n",
    "SELECT\n",
    "  Year,\n",
    "  City,\n",
    "  -- Get the last city in which the Olympic games were held\n",
    "  LAST_VALUE(city) OVER (\n",
    "   ORDER BY Year ASC\n",
    "   RANGE BETWEEN\n",
    "     UNBOUNDED PRECEDING AND\n",
    "     UNBOUNDED FOLLOWING\n",
    "  ) AS Last_City\n",
    "FROM Hosts\n",
    "ORDER BY Year ASC;"
   ]
  },
  {
   "cell_type": "markdown",
   "id": "8a16b1ed",
   "metadata": {},
   "source": [
    "### Ranking athletes by medals earned\n",
    "* In chapter 1, you used ROW_NUMBER to rank athletes by awarded medals. However, ROW_NUMBER assigns different numbers to athletes with the same count of awarded medals, so it's not a useful ranking function; if two athletes earned the same number of medals, they should have the same rank."
   ]
  },
  {
   "cell_type": "markdown",
   "id": "e30d9524",
   "metadata": {},
   "source": [
    "#### Rank each athlete by the number of medals they've earned -- the higher the count, the higher the rank -- with identical numbers in case of identical values."
   ]
  },
  {
   "cell_type": "raw",
   "id": "e0fba1cc",
   "metadata": {},
   "source": [
    "WITH Athlete_Medals AS (\n",
    "  SELECT\n",
    "    Athlete,\n",
    "    COUNT(*) AS Medals\n",
    "  FROM Summer_Medals\n",
    "  GROUP BY Athlete)\n",
    "\n",
    "SELECT\n",
    "  Athlete,\n",
    "  Medals,\n",
    "  -- Rank athletes by the medals they've won\n",
    "  RANK() OVER (ORDER BY medals DESC) AS Rank_N\n",
    "FROM Athlete_Medals\n",
    "ORDER BY Medals DESC;"
   ]
  },
  {
   "cell_type": "markdown",
   "id": "9a15f44b",
   "metadata": {},
   "source": [
    "### Ranking athletes from multiple countries\n",
    "* In the previous exercise, you used RANK to assign rankings to one group of athletes. In real-world data, however, you'll often find numerous groups within your data. Without partitioning your data, one group's values will influence the rankings of the others.\n",
    "\n",
    "* Also, while RANK skips numbers in case of identical values, the most natural way to assign rankings is not to skip numbers. If two countries are tied for second place, the country after them is considered to be third by most people."
   ]
  },
  {
   "cell_type": "markdown",
   "id": "5c1693fe",
   "metadata": {},
   "source": [
    "#### Rank each country's athletes by the count of medals they've earned -- the higher the count, the higher the rank -- without skipping numbers in case of identical values."
   ]
  },
  {
   "cell_type": "raw",
   "id": "d8cca190",
   "metadata": {},
   "source": [
    "WITH Athlete_Medals AS (\n",
    "  SELECT\n",
    "    Country, Athlete, COUNT(*) AS Medals\n",
    "  FROM Summer_Medals\n",
    "  WHERE\n",
    "    Country IN ('JPN', 'KOR')\n",
    "    AND Year >= 2000\n",
    "  GROUP BY Country, Athlete\n",
    "  HAVING COUNT(*) > 1)\n",
    "\n",
    "SELECT\n",
    "  Country,\n",
    "  -- Rank athletes in each country by the medals they've won\n",
    "  athlete,\n",
    "  DENSE_RANK() OVER (PARTITION BY country\n",
    "                ORDER BY Medals DESC) AS Rank_N\n",
    "FROM Athlete_Medals\n",
    "ORDER BY Country ASC, RANK_N ASC;"
   ]
  },
  {
   "cell_type": "markdown",
   "id": "f34d14f5",
   "metadata": {},
   "source": [
    "### Paging events\n",
    "* There are exactly 666 unique events in the Summer Medals Olympics dataset. If you want to chunk them up to analyze them piece by piece, you'll need to split the events into groups of approximately equal size."
   ]
  },
  {
   "cell_type": "markdown",
   "id": "26915877",
   "metadata": {},
   "source": [
    "#### Split the distinct events into exactly 111 groups, ordered by event in alphabetical order."
   ]
  },
  {
   "cell_type": "raw",
   "id": "a1ff3ead",
   "metadata": {},
   "source": [
    "WITH Events AS (\n",
    "  SELECT DISTINCT Event\n",
    "  FROM Summer_Medals)\n",
    "  \n",
    "SELECT\n",
    "  --- Split up the distinct events into 111 unique groups\n",
    "  DISTINCT Event,\n",
    "  NTILE(111) OVER (ORDER BY Event ASC) AS Page\n",
    "FROM Events\n",
    "ORDER BY Event ASC;"
   ]
  },
  {
   "cell_type": "markdown",
   "id": "d02f5a49",
   "metadata": {},
   "source": [
    "**NTILE() allows you to make the size of the dataset you're working with more manageable.**"
   ]
  },
  {
   "cell_type": "markdown",
   "id": "08620666",
   "metadata": {},
   "source": [
    "### Top, middle, and bottom thirds\n",
    "* Splitting your data into thirds or quartiles is often useful to understand how the values in your dataset are spread. Getting summary statistics (averages, sums, standard deviations, etc.) of the top, middle, and bottom thirds can help you determine what distribution your values follow."
   ]
  },
  {
   "cell_type": "markdown",
   "id": "fcf6c1d6",
   "metadata": {},
   "source": [
    "#### Split the athletes into top, middle, and bottom thirds based on their count of medals."
   ]
  },
  {
   "cell_type": "raw",
   "id": "1f39e2e6",
   "metadata": {},
   "source": [
    "WITH Athlete_Medals AS (\n",
    "  SELECT Athlete, COUNT(*) AS Medals\n",
    "  FROM Summer_Medals\n",
    "  GROUP BY Athlete\n",
    "  HAVING COUNT(*) > 1)\n",
    "  \n",
    "SELECT\n",
    "  Athlete,\n",
    "  Medals,\n",
    "  -- Split athletes into thirds by their earned medals\n",
    "  NTILE(3) OVER(ORDER BY medals DESC) AS Third\n",
    "FROM Athlete_Medals\n",
    "ORDER BY Medals DESC, Athlete ASC;"
   ]
  },
  {
   "cell_type": "markdown",
   "id": "c88ba2d8",
   "metadata": {},
   "source": [
    "### Return the average of each third."
   ]
  },
  {
   "cell_type": "raw",
   "id": "dc79416e",
   "metadata": {},
   "source": [
    "WITH Athlete_Medals AS (\n",
    "  SELECT Athlete, COUNT(*) AS Medals\n",
    "  FROM Summer_Medals\n",
    "  GROUP BY Athlete\n",
    "  HAVING COUNT(*) > 1),\n",
    "  \n",
    "  Thirds AS (\n",
    "  SELECT\n",
    "    Athlete,\n",
    "    Medals,\n",
    "    NTILE(3) OVER (ORDER BY Medals DESC) AS Third\n",
    "  FROM Athlete_Medals)\n",
    "  \n",
    "SELECT\n",
    "  -- Get the average medals earned in each third\n",
    "  third,\n",
    "  AVG(medals) AS Avg_Medals\n",
    "FROM Thirds\n",
    "GROUP BY Third\n",
    "ORDER BY Third ASC;"
   ]
  },
  {
   "cell_type": "markdown",
   "id": "07c27af8",
   "metadata": {},
   "source": [
    "**Using NTILE() and summary statistic functions, you could see the differences in the top, middle, and bottom thirds.**"
   ]
  },
  {
   "cell_type": "markdown",
   "id": "d076bc19",
   "metadata": {},
   "source": [
    "## Aggregate window functions and frames\n",
    "### Running totals of athlete medals\n",
    "* The running total (or cumulative sum) of a column helps you determine what each row's contribution is to the total sum."
   ]
  },
  {
   "cell_type": "markdown",
   "id": "9123fcdb",
   "metadata": {},
   "source": [
    "#### Return the athletes, the number of medals they earned, and the medals running total, ordered by the athletes' names in alphabetical order."
   ]
  },
  {
   "cell_type": "raw",
   "id": "ce63bc4a",
   "metadata": {},
   "source": [
    "WITH Athlete_Medals AS (\n",
    "  SELECT\n",
    "    Athlete, COUNT(*) AS Medals\n",
    "  FROM Summer_Medals\n",
    "  WHERE\n",
    "    Country = 'USA' AND Medal = 'Gold'\n",
    "    AND Year >= 2000\n",
    "  GROUP BY Athlete)\n",
    "\n",
    "SELECT\n",
    "  -- Calculate the running total of athlete medals\n",
    "  athlete,\n",
    "  medals,\n",
    "  SUM(Medals) OVER (ORDER BY athlete ASC) AS Max_Medals\n",
    "FROM Athlete_Medals\n",
    "ORDER BY Athlete ASC;"
   ]
  },
  {
   "cell_type": "markdown",
   "id": "522c65ce",
   "metadata": {},
   "source": [
    "### Maximum country medals by year\n",
    "* Getting the maximum of a country's earned medals so far helps you determine whether a country has broken its medals record by comparing the current year's earned medals and the maximum so far."
   ]
  },
  {
   "cell_type": "markdown",
   "id": "2932619b",
   "metadata": {},
   "source": [
    "#### Return the year, country, medals, and the maximum medals earned so far for each country, ordered by year in ascending order."
   ]
  },
  {
   "cell_type": "raw",
   "id": "71536ef9",
   "metadata": {},
   "source": [
    "WITH Country_Medals AS (\n",
    "  SELECT\n",
    "    Year, Country, COUNT(*) AS Medals\n",
    "  FROM Summer_Medals\n",
    "  WHERE\n",
    "    Country IN ('CHN', 'KOR', 'JPN')\n",
    "    AND Medal = 'Gold' AND Year >= 2000\n",
    "  GROUP BY Year, Country)\n",
    "\n",
    "SELECT\n",
    "  -- Return the max medals earned so far per country\n",
    "  Country,\n",
    "  Year,\n",
    "  Medals,\n",
    "  MAX(Medals) OVER (PARTITION BY Country\n",
    "                ORDER BY Year ASC) AS Max_Medals\n",
    "FROM Country_Medals\n",
    "ORDER BY Country ASC, Year ASC;"
   ]
  },
  {
   "cell_type": "markdown",
   "id": "4f0c5899",
   "metadata": {},
   "source": [
    "### Minimum country medals by year\n",
    "* So far, you've seen MAX and SUM, aggregate functions normally used with GROUP BY, being used as window functions. You can also use the other aggregate functions, like MIN, as window functions."
   ]
  },
  {
   "cell_type": "markdown",
   "id": "b66d0325",
   "metadata": {},
   "source": [
    "#### Return the year, medals earned, and minimum medals earned so far."
   ]
  },
  {
   "cell_type": "raw",
   "id": "516958ec",
   "metadata": {},
   "source": [
    "WITH France_Medals AS (\n",
    "  SELECT\n",
    "    Year, COUNT(*) AS Medals\n",
    "  FROM Summer_Medals\n",
    "  WHERE\n",
    "    Country = 'FRA'\n",
    "    AND Medal = 'Gold' AND Year >= 2000\n",
    "  GROUP BY Year)\n",
    "\n",
    "SELECT\n",
    "  Year,\n",
    "  Medals,\n",
    "  MIN(Medals) OVER (ORDER BY Year ASC) AS Min_Medals\n",
    "FROM France_Medals\n",
    "ORDER BY Year ASC;"
   ]
  },
  {
   "cell_type": "markdown",
   "id": "a33b1263",
   "metadata": {},
   "source": [
    "**All aggregate functions can be used as window functions.**"
   ]
  },
  {
   "cell_type": "markdown",
   "id": "ba9bd90c",
   "metadata": {},
   "source": [
    "## Frames\n",
    "### Moving maximum of Scandinavian athletes' medals\n",
    "* Frames allow you to restrict the rows passed as input to your window function to a sliding window for you to define the start and finish.\n",
    "\n",
    "* Adding a frame to your window function allows you to calculate \"moving\" metrics, inputs of which slide from row to row."
   ]
  },
  {
   "cell_type": "markdown",
   "id": "5312bc46",
   "metadata": {},
   "source": [
    "#### Return the year, medals earned, and the maximum medals earned, comparing only the current year and the next year."
   ]
  },
  {
   "cell_type": "raw",
   "id": "f9a2ec8b",
   "metadata": {},
   "source": [
    "WITH Scandinavian_Medals AS (\n",
    "  SELECT\n",
    "    Year, COUNT(*) AS Medals\n",
    "  FROM Summer_Medals\n",
    "  WHERE\n",
    "    Country IN ('DEN', 'NOR', 'FIN', 'SWE', 'ISL')\n",
    "    AND Medal = 'Gold'\n",
    "  GROUP BY Year)\n",
    "\n",
    "SELECT\n",
    "  -- Select each year's medals\n",
    "  year,\n",
    "  medals,\n",
    "  -- Get the max of the current and next years'  medals\n",
    "  MAX(medals) OVER (ORDER BY year ASC\n",
    "             ROWS BETWEEN CURRENT ROW\n",
    "             AND 1 FOLLOWING) AS Max_Medals\n",
    "FROM Scandinavian_Medals\n",
    "ORDER BY Year ASC;"
   ]
  },
  {
   "cell_type": "markdown",
   "id": "4405253b",
   "metadata": {},
   "source": [
    "### Moving maximum of Chinese athletes' medals\n",
    "* Frames allow you to \"peek\" forwards or backward without first using the relative fetching functions, LAG and LEAD, to fetch previous rows' values into the current row."
   ]
  },
  {
   "cell_type": "markdown",
   "id": "83a5d4bb",
   "metadata": {},
   "source": [
    "#### Return the athletes, medals earned, and the maximum medals earned, comparing only the last two and current athletes, ordering by athletes' names in alphabetical order."
   ]
  },
  {
   "cell_type": "raw",
   "id": "1dc4c033",
   "metadata": {},
   "source": [
    "WITH Chinese_Medals AS (\n",
    "  SELECT\n",
    "    Athlete, COUNT(*) AS Medals\n",
    "  FROM Summer_Medals\n",
    "  WHERE\n",
    "    Country = 'CHN' AND Medal = 'Gold'\n",
    "    AND Year >= 2000\n",
    "  GROUP BY Athlete)\n",
    "\n",
    "SELECT\n",
    "  -- Select the athletes and the medals they've earned\n",
    "  Athlete,\n",
    "  Medals,\n",
    "  -- Get the max of the last two and current rows' medals \n",
    "  MAX(Medals) OVER (ORDER BY Athlete ASC\n",
    "            ROWS BETWEEN 2 PRECEDING\n",
    "            AND CURRENT ROW) AS Max_Medals\n",
    "FROM Chinese_Medals\n",
    "ORDER BY Athlete ASC;"
   ]
  },
  {
   "cell_type": "markdown",
   "id": "2a7aef6b",
   "metadata": {},
   "source": [
    "## Moving averages and totals\n",
    "### Moving average of Russian medals\n",
    "* Using frames with aggregate window functions allow you to calculate many common metrics, including moving averages and totals. These metrics track the change in performance over time."
   ]
  },
  {
   "cell_type": "markdown",
   "id": "fa212794",
   "metadata": {},
   "source": [
    "#### Calculate the 3-year moving average of medals earned."
   ]
  },
  {
   "cell_type": "raw",
   "id": "fa79ea4a",
   "metadata": {},
   "source": [
    "WITH Russian_Medals AS (\n",
    "  SELECT\n",
    "    Year, COUNT(*) AS Medals\n",
    "  FROM Summer_Medals\n",
    "  WHERE\n",
    "    Country = 'RUS'\n",
    "    AND Medal = 'Gold'\n",
    "    AND Year >= 1980\n",
    "  GROUP BY Year)\n",
    "\n",
    "SELECT\n",
    "  Year, Medals,\n",
    "  --- Calculate the 3-year moving average of medals earned\n",
    "  AVG(Medals) OVER\n",
    "    (ORDER BY Year ASC\n",
    "     ROWS BETWEEN\n",
    "     2 PRECEDING AND CURRENT ROW) AS Medals_MA\n",
    "FROM Russian_Medals\n",
    "ORDER BY Year ASC;"
   ]
  },
  {
   "cell_type": "markdown",
   "id": "a44cb27a",
   "metadata": {},
   "source": [
    "### Moving total of countries' medals\n",
    "* What if your data is split into multiple groups spread over one or more columns in the table? Even with a defined frame, if you can't somehow separate the groups' data, one group's values will affect the average of another group's values."
   ]
  },
  {
   "cell_type": "markdown",
   "id": "5545a657",
   "metadata": {},
   "source": [
    "#### Calculate the 3-year moving sum of medals earned per country."
   ]
  },
  {
   "cell_type": "raw",
   "id": "4a845a2d",
   "metadata": {},
   "source": [
    "WITH Country_Medals AS (\n",
    "  SELECT\n",
    "    Year, Country, COUNT(*) AS Medals\n",
    "  FROM Summer_Medals\n",
    "  GROUP BY Year, Country)\n",
    "\n",
    "SELECT\n",
    "  Year, Country, Medals,\n",
    "  -- Calculate each country's 3-game moving total\n",
    "  SUM(Medals) OVER\n",
    "    (PARTITION BY Country\n",
    "     ORDER BY Year ASC\n",
    "     ROWS BETWEEN\n",
    "     2 PRECEDING AND CURRENT ROW) AS Medals_MA\n",
    "FROM Country_Medals\n",
    "ORDER BY Country ASC, Year ASC;"
   ]
  },
  {
   "cell_type": "markdown",
   "id": "78222123",
   "metadata": {},
   "source": [
    "**You can also use partitioning with frames.**"
   ]
  },
  {
   "cell_type": "markdown",
   "id": "35841729",
   "metadata": {},
   "source": [
    "## A basic pivot\n",
    "* You have the following table of Pole Vault gold medalist countries by gender in 2008 and 2012."
   ]
  },
  {
   "cell_type": "markdown",
   "id": "8eabfc0c",
   "metadata": {},
   "source": [
    "| Gender | Year | Country |\n",
    "|--------|------|---------|\n",
    "| Men    | 2008 | AUS     |\n",
    "| Men    | 2012 | FRA     |\n",
    "| Women  | 2008 | RUS     |\n",
    "| Women  | 2012 | USA     |"
   ]
  },
  {
   "cell_type": "markdown",
   "id": "57a3b7e5",
   "metadata": {},
   "source": [
    "* Pivot it by Year to get the following reshaped, cleaner table."
   ]
  },
  {
   "cell_type": "markdown",
   "id": "804f8a3f",
   "metadata": {},
   "source": [
    "| Gender | 2008 | 2012 |\n",
    "|--------|------|------|\n",
    "| Men    | AUS  | FRA  |\n",
    "| Women  | RUS  | USA  |"
   ]
  },
  {
   "cell_type": "markdown",
   "id": "2bfa5712",
   "metadata": {},
   "source": [
    "#### Create the correct extension.\n",
    "#### Fill in the column names of the pivoted table."
   ]
  },
  {
   "cell_type": "raw",
   "id": "ab1fad7c",
   "metadata": {},
   "source": [
    "-- Create the correct extention to enable CROSSTAB\n",
    "CREATE EXTENSION IF NOT EXISTS tablefunc;\n",
    "\n",
    "SELECT * FROM CROSSTAB($$\n",
    "  SELECT\n",
    "    Gender, Year, Country\n",
    "  FROM Summer_Medals\n",
    "  WHERE\n",
    "    Year IN (2008, 2012)\n",
    "    AND Medal = 'Gold'\n",
    "    AND Event = 'Pole Vault'\n",
    "  ORDER By Gender ASC, Year ASC;\n",
    "-- Fill in the correct column names for the pivoted table\n",
    "$$) AS ct (Gender VARCHAR,\n",
    "           \"2008\" VARCHAR,\n",
    "           \"2012\" VARCHAR)\n",
    "\n",
    "ORDER BY Gender ASC;"
   ]
  },
  {
   "cell_type": "markdown",
   "id": "68617fb0",
   "metadata": {},
   "source": [
    "## Pivoting with ranking\n",
    "* You want to produce an easy scannable table of the rankings of the three most populous EU countries by how many gold medals they've earned in the 2004 through 2012 Olympic games. The table needs to be in this format:"
   ]
  },
  {
   "cell_type": "markdown",
   "id": "2f3d3f3b",
   "metadata": {},
   "source": [
    "| Country | 2004 | 2008 | 2012 |\n",
    "|---------|------|------|------|\n",
    "| FRA     | ...  | ...  | ...  |\n",
    "| GBR     | ...  | ...  | ...  |\n",
    "| GER     | ...  | ...  | ...  |"
   ]
  },
  {
   "cell_type": "markdown",
   "id": "32861f99",
   "metadata": {},
   "source": [
    "* You'll need to count the gold medals each country has earned, produce the ranks of each country by medals earned, then pivot the table to this shape."
   ]
  },
  {
   "cell_type": "markdown",
   "id": "c260087e",
   "metadata": {},
   "source": [
    "#### Count the gold medals that France (FRA), the UK (GBR), and Germany (GER) have earned per country and year."
   ]
  },
  {
   "cell_type": "raw",
   "id": "9221d407",
   "metadata": {},
   "source": [
    "-- Count the gold medals per country and year\n",
    "SELECT\n",
    "  country,\n",
    "  year,\n",
    "  COUNT(*) AS Awards\n",
    "FROM Summer_Medals\n",
    "WHERE\n",
    "  Country IN ('FRA', 'GBR', 'GER')\n",
    "  AND Year IN (2004, 2008, 2012)\n",
    "  AND Medal = 'Gold'\n",
    "GROUP BY country,year\n",
    "ORDER BY Country ASC, Year ASC"
   ]
  },
  {
   "cell_type": "markdown",
   "id": "02360b43",
   "metadata": {},
   "source": [
    "#### Select the country and year columns, then rank the three countries by how many gold medals they earned per year."
   ]
  },
  {
   "cell_type": "raw",
   "id": "792d07e4",
   "metadata": {},
   "source": [
    "WITH Country_Awards AS (\n",
    "  SELECT\n",
    "    Country,\n",
    "    Year,\n",
    "    COUNT(*) AS Awards\n",
    "  FROM Summer_Medals\n",
    "  WHERE\n",
    "    Country IN ('FRA', 'GBR', 'GER')\n",
    "    AND Year IN (2004, 2008, 2012)\n",
    "    AND Medal = 'Gold'\n",
    "  GROUP BY Country, Year)\n",
    "\n",
    "SELECT\n",
    "  Country,\n",
    "  Year,\n",
    "  -- Rank by gold medals earned per year\n",
    "  RANK() OVER\n",
    "    (PARTITION BY Year\n",
    "     ORDER BY Awards DESC) :: INTEGER AS rank\n",
    "FROM Country_Awards\n",
    "ORDER BY Country ASC, Year ASC;"
   ]
  },
  {
   "cell_type": "markdown",
   "id": "44fb6f18",
   "metadata": {},
   "source": [
    "#### Pivot the query's results by Year by filling in the new table's correct column names."
   ]
  },
  {
   "cell_type": "raw",
   "id": "b1028151",
   "metadata": {},
   "source": [
    "CREATE EXTENSION IF NOT EXISTS tablefunc;\n",
    "\n",
    "SELECT * FROM CROSSTAB($$\n",
    "  WITH Country_Awards AS (\n",
    "    SELECT\n",
    "      Country,\n",
    "      Year,\n",
    "      COUNT(*) AS Awards\n",
    "    FROM Summer_Medals\n",
    "    WHERE\n",
    "      Country IN ('FRA', 'GBR', 'GER')\n",
    "      AND Year IN (2004, 2008, 2012)\n",
    "      AND Medal = 'Gold'\n",
    "    GROUP BY Country, Year)\n",
    "\n",
    "  SELECT\n",
    "    Country,\n",
    "    Year,\n",
    "    RANK() OVER\n",
    "      (PARTITION BY Year\n",
    "       ORDER BY Awards DESC) :: INTEGER AS rank\n",
    "  FROM Country_Awards\n",
    "  ORDER BY Country ASC, Year ASC;\n",
    "-- Fill in the correct column names for the pivoted table\n",
    "$$) AS ct (Country VARCHAR,\n",
    "           \"2004\" INTEGER,\n",
    "           \"2008\" INTEGER,\n",
    "           \"2012\" INTEGER)\n",
    "\n",
    "Order by Country ASC;"
   ]
  },
  {
   "cell_type": "markdown",
   "id": "f6a65871",
   "metadata": {},
   "source": [
    "## ROLLUP and CUBE\n",
    "### Country-level subtotals\n",
    "* You want to look at three Scandinavian countries' earned gold medals per country and gender in the year 2004. You're also interested in Country-level subtotals to get the total medals earned for each country, but Gender-level subtotals don't make much sense in this case, so disregard them."
   ]
  },
  {
   "cell_type": "markdown",
   "id": "66ec292c",
   "metadata": {},
   "source": [
    "#### Count the gold medals awarded per country and gender.\n",
    "#### Generate Country-level gold award counts."
   ]
  },
  {
   "cell_type": "raw",
   "id": "ea3e9c53",
   "metadata": {},
   "source": [
    "-- Count the gold medals per country and gender\n",
    "SELECT\n",
    "  Country,\n",
    "  Gender,\n",
    "  COUNT(*) AS Gold_Awards\n",
    "FROM Summer_Medals\n",
    "WHERE\n",
    "  Year = 2004\n",
    "  AND Medal = 'Gold'\n",
    "  AND Country IN ('DEN', 'NOR', 'SWE')\n",
    "-- Generate Country-level subtotals\n",
    "GROUP BY Country, ROLLUP(Gender)\n",
    "ORDER BY Country ASC, Gender ASC;"
   ]
  },
  {
   "cell_type": "markdown",
   "id": "73dd59a5",
   "metadata": {},
   "source": [
    "### All group-level subtotals\n",
    "* You want to break down all medals awarded to Russia in the 2012 Olympic games per gender and medal type. Since the medals all belong to one country, Russia, it makes sense to generate all possible subtotals (Gender- and Medal-level subtotals), as well as a grand total.\n",
    "\n",
    "* Generate a breakdown of the medals awarded to Russia per country and medal type, including all group-level subtotals and a grand total."
   ]
  },
  {
   "cell_type": "markdown",
   "id": "24ab9ed9",
   "metadata": {},
   "source": [
    "#### Count the medals awarded per gender and medal type.\n",
    "#### Generate all possible group-level counts (per gender and medal type subtotals and the grand total)."
   ]
  },
  {
   "cell_type": "raw",
   "id": "36d64815",
   "metadata": {},
   "source": [
    "-- Count the medals per gender and medal type\n",
    "SELECT\n",
    "  Gender,\n",
    "  Medal,\n",
    "  COUNT(*) AS Awards\n",
    "FROM Summer_Medals\n",
    "WHERE\n",
    "  Year = 2012\n",
    "  AND Country = 'RUS'\n",
    "-- Get all possible group-level subtotals\n",
    "GROUP BY CUBE(Gender, Medal)\n",
    "ORDER BY Gender ASC, Medal ASC;"
   ]
  },
  {
   "cell_type": "markdown",
   "id": "6c36292f",
   "metadata": {},
   "source": [
    "## Cleaning up results with COALESCE\n",
    "* Returning to the breakdown of Scandinavian awards you previously made, you want to clean up the results by replacing the nulls with meaningful text.\n"
   ]
  },
  {
   "cell_type": "markdown",
   "id": "189d1431",
   "metadata": {},
   "source": [
    "#### Turn the nulls in the Country column to All countries, and the nulls in the Gender column to All genders."
   ]
  },
  {
   "cell_type": "raw",
   "id": "781be548",
   "metadata": {},
   "source": [
    "SELECT\n",
    "  -- Replace the nulls in the columns with meaningful text\n",
    "  COALESCE(Country, 'All countries') AS Country,\n",
    "  COALESCE(Gender, 'All genders') AS Gender,\n",
    "  COUNT(*) AS Awards\n",
    "FROM Summer_Medals\n",
    "WHERE\n",
    "  Year = 2004\n",
    "  AND Medal = 'Gold'\n",
    "  AND Country IN ('DEN', 'NOR', 'SWE')\n",
    "GROUP BY ROLLUP(Country, Gender)\n",
    "ORDER BY Country ASC, Gender ASC;"
   ]
  },
  {
   "cell_type": "markdown",
   "id": "bcdaf106",
   "metadata": {},
   "source": [
    "## Summarizing results with STRING_AGG\n",
    "* After ranking each country in the 2000 Olympics by gold medals awarded, you want to return the top 3 countries in one row, as a comma-separated string. In other words, turn this:\n",
    "\n",
    "| Country | Rank |\n",
    "|---------|------|\n",
    "| USA     | 1    |\n",
    "| RUS     | 2    |\n",
    "| AUS     | 3    |\n",
    "| ...     | ...  |"
   ]
  },
  {
   "cell_type": "markdown",
   "id": "4e27cb79",
   "metadata": {},
   "source": [
    "* into this:\n",
    "\n",
    "USA, RUS, AUS;"
   ]
  },
  {
   "cell_type": "markdown",
   "id": "63984f4e",
   "metadata": {},
   "source": [
    "#### Rank countries by the medals they've been awarded."
   ]
  },
  {
   "cell_type": "raw",
   "id": "9aa0af78",
   "metadata": {},
   "source": [
    "WITH Country_Medals AS (\n",
    "  SELECT\n",
    "    Country,\n",
    "    COUNT(*) AS Medals\n",
    "  FROM Summer_Medals\n",
    "  WHERE Year = 2000\n",
    "    AND Medal = 'Gold'\n",
    "  GROUP BY Country)\n",
    "\n",
    "  SELECT\n",
    "    Country,\n",
    "    -- Rank countries by the medals awarded\n",
    "    RANK() OVER(ORDER BY Medals DESC) AS Rank\n",
    "  FROM Country_Medals\n",
    "  ORDER BY Rank ASC;"
   ]
  },
  {
   "cell_type": "markdown",
   "id": "c5306de4",
   "metadata": {},
   "source": [
    "#### Return the top 3 countries by medals awarded as one comma-separated string."
   ]
  },
  {
   "cell_type": "raw",
   "id": "b0a8c7c1",
   "metadata": {},
   "source": [
    "WITH Country_Medals AS (\n",
    "  SELECT\n",
    "    Country,\n",
    "    COUNT(*) AS Medals\n",
    "  FROM Summer_Medals\n",
    "  WHERE Year = 2000\n",
    "    AND Medal = 'Gold'\n",
    "  GROUP BY Country),\n",
    "\n",
    "  Country_Ranks AS (\n",
    "  SELECT\n",
    "    Country,\n",
    "    RANK() OVER (ORDER BY Medals DESC) AS Rank\n",
    "  FROM Country_Medals\n",
    "  ORDER BY Rank ASC)\n",
    "\n",
    "-- Compress the countries column\n",
    "SELECT STRING_AGG(Country, ', ')\n",
    "FROM Country_Ranks\n",
    "-- Select only the top three ranks\n",
    "WHERE Rank <= 3;"
   ]
  }
 ],
 "metadata": {
  "kernelspec": {
   "display_name": "Python 3 (ipykernel)",
   "language": "python",
   "name": "python3"
  },
  "language_info": {
   "codemirror_mode": {
    "name": "ipython",
    "version": 3
   },
   "file_extension": ".py",
   "mimetype": "text/x-python",
   "name": "python",
   "nbconvert_exporter": "python",
   "pygments_lexer": "ipython3",
   "version": "3.9.12"
  }
 },
 "nbformat": 4,
 "nbformat_minor": 5
}
