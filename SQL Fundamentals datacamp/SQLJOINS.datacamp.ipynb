{
 "cells": [
  {
   "cell_type": "markdown",
   "id": "df8b47e2",
   "metadata": {},
   "source": [
    "# JOINS"
   ]
  },
  {
   "cell_type": "markdown",
   "id": "5dd48ac6",
   "metadata": {},
   "source": [
    "### Inner Joins\n",
    "* Throughout this course, you'll be working with the countries database, which contains information about the most populous world cities in the world, along with country-level economic, population, and geographic data. The database also contains information on languages spoken in each country.\n",
    "\n",
    "* You can see the different tables in this database to get a sense of what they contain by clicking on the corresponding tabs. Click through them and familiarize yourself with the fields that seem to be shared across tables before you continue with the course."
   ]
  },
  {
   "cell_type": "markdown",
   "id": "55024461",
   "metadata": {},
   "source": [
    "#### Begin by selecting all columns from the cities table, using the SQL shortcut that selects all."
   ]
  },
  {
   "cell_type": "raw",
   "id": "a19c926d",
   "metadata": {},
   "source": [
    "SELECT *\n",
    "FROM cities;"
   ]
  },
  {
   "cell_type": "markdown",
   "id": "278f216b",
   "metadata": {},
   "source": [
    "#### Perform an inner join with the cities table on the left and the countries table on the right; do not alias tables here or in the next step.\n",
    "#### Identify the relevant column names to join ON by inspecting the cities and countries tabs in the console."
   ]
  },
  {
   "cell_type": "raw",
   "id": "b17aaa26",
   "metadata": {},
   "source": [
    "SELECT * \n",
    "FROM cities\n",
    "-- Inner join to countries\n",
    "INNER JOIN countries\n",
    "-- Match on country codes\n",
    "ON countries.code = cities.country_code;"
   ]
  },
  {
   "cell_type": "markdown",
   "id": "33ee5602",
   "metadata": {},
   "source": [
    "####  Complete the SELECT statement to keep only the name of the city, the name of the country, and the region the country is located in (in the order specified).\n",
    "#### Alias the name of the city AS city and the name of the country AS country."
   ]
  },
  {
   "cell_type": "raw",
   "id": "6500e6b6",
   "metadata": {},
   "source": [
    "SELECT cities.name AS city,\n",
    "    countries.name AS country,\n",
    "    countries.region AS region\n",
    "FROM cities\n",
    "INNER JOIN countries\n",
    "ON cities.country_code = countries.code;"
   ]
  },
  {
   "cell_type": "markdown",
   "id": "aacc7466",
   "metadata": {},
   "source": [
    "### Joining with aliased tables\n",
    "* When writing joins, many SQL users prefer to write the SELECT statement after writing the join code, in case the SELECT statement requires using table aliases."
   ]
  },
  {
   "cell_type": "markdown",
   "id": "de1e0bb5",
   "metadata": {},
   "source": [
    "#### Start with your inner join in line 5; join the tables countries AS c (left) with economies (right), aliasing economies AS e.\n",
    "#### Next, use code as your joining field in line 7; do not use the USING command here.\n",
    "#### Lastly, select the following columns in order in line 2: code from the countries table (aliased as country_code), name, year, and inflation_rate."
   ]
  },
  {
   "cell_type": "raw",
   "id": "66e4c5b2",
   "metadata": {},
   "source": [
    "-- Select fields with aliases\n",
    "SELECT c.code AS country_code,\n",
    "    c.name,\n",
    "    e.year,\n",
    "    e.inflation_rate\n",
    "FROM countries AS c\n",
    "-- Join to economies (alias e)\n",
    "INNER JOIN economies AS e\n",
    "-- Match on code field using table aliases\n",
    "ON c.code = e.code;"
   ]
  },
  {
   "cell_type": "markdown",
   "id": "b03cf778",
   "metadata": {},
   "source": [
    "### USING in action\n",
    "* In the previous exercises, you performed your joins using the ON keyword. Recall that when both the field names being joined on are the same, you can take advantage of the USING clause."
   ]
  },
  {
   "cell_type": "markdown",
   "id": "6d1995be",
   "metadata": {},
   "source": [
    "#### Use the country code field to complete the INNER JOIN with USING; do not change any alias names."
   ]
  },
  {
   "cell_type": "raw",
   "id": "e9be4ade",
   "metadata": {},
   "source": [
    "SELECT c.name AS country, l.name AS language, official\n",
    "FROM countries AS c\n",
    "INNER JOIN languages AS l\n",
    "-- Match using the code column\n",
    "USING(code);"
   ]
  },
  {
   "cell_type": "markdown",
   "id": "0a917fa9",
   "metadata": {},
   "source": [
    "### Inspecting a relationship\n",
    "* This exercise looks at each of these in turn. First, what is the best way to query all the different languages spoken in a country? And second, how is this different from the best way to query all the countries that speak each language?"
   ]
  },
  {
   "cell_type": "markdown",
   "id": "49bf9d62",
   "metadata": {},
   "source": [
    "#### Start with the join statement in line 6; perform an inner join with the countries table as c on the left with the languages table as l on the right.\n",
    "#### Make use of the USING keyword to join on code in line 8.\n",
    "#### Lastly, in line 2, select the country name, aliased as country, and the language name, aliased as language."
   ]
  },
  {
   "cell_type": "raw",
   "id": "6cf9347d",
   "metadata": {},
   "source": [
    "-- Select country and language names, aliased\n",
    "SELECT c.name AS country,\n",
    "    l.name AS language\n",
    "-- From countries (aliased)\n",
    "FROM countries AS c\n",
    "-- Join to languages (aliased)\n",
    "INNER JOIN languages AS l\n",
    "-- Use code as the joining field with the USING keyword\n",
    "USING(code);"
   ]
  },
  {
   "cell_type": "markdown",
   "id": "72542765",
   "metadata": {},
   "source": [
    "#### Rearrange the SELECT statement so that the language column appears on the left and the country column on the right.\n",
    "#### Sort the results by language."
   ]
  },
  {
   "cell_type": "raw",
   "id": "74d1199d",
   "metadata": {},
   "source": [
    "-- Rearrange SELECT statement, keeping aliases\n",
    "SELECT l.name AS language,\n",
    "    c.name AS country\n",
    "FROM countries AS c\n",
    "INNER JOIN languages AS l\n",
    "USING(code)\n",
    "-- Order the results by language\n",
    "ORDER BY language;"
   ]
  },
  {
   "cell_type": "markdown",
   "id": "b5e0162f",
   "metadata": {},
   "source": [
    "### Joining multiple tables\n",
    "* Suppose you are interested in the relationship between fertility and unemployment rates. Your task in this exercise is to join tables to return the country name, year, fertility rate, and unemployment rate in a single result from the countries, populations and economies tables."
   ]
  },
  {
   "cell_type": "markdown",
   "id": "d3964456",
   "metadata": {},
   "source": [
    "#### Perform an inner join of countries AS c (left) with populations AS p (right), on code.\n",
    "#### Select name, year and fertility_rate."
   ]
  },
  {
   "cell_type": "raw",
   "id": "77c2a368",
   "metadata": {},
   "source": [
    "-- Select relevant fields\n",
    "SELECT name,\n",
    "    year,\n",
    "    fertility_rate\n",
    "FROM countries AS c\n",
    "-- Inner join countries and populations, aliased, on code\n",
    "INNER JOIN populations AS p\n",
    "ON c.code = p.country_code;"
   ]
  },
  {
   "cell_type": "markdown",
   "id": "fffbacc9",
   "metadata": {},
   "source": [
    "#### Chain another inner join to your query with the economies table AS e, using code.\n",
    "#### Select name, and using table aliases, select year and unemployment_rate from economies."
   ]
  },
  {
   "cell_type": "raw",
   "id": "2a208bda",
   "metadata": {},
   "source": [
    "SELECT name, e.year, fertility_rate, unemployment_rate\n",
    "FROM countries AS c\n",
    "INNER JOIN populations AS p\n",
    "ON c.code = p.country_code\n",
    "INNER JOIN economies AS e\n",
    "ON c.code = e.code"
   ]
  },
  {
   "cell_type": "markdown",
   "id": "6ec0f10d",
   "metadata": {},
   "source": [
    "### Checking multi-table joins\n",
    "* Instead of four records, the query should return two: one for each year. The last join was performed on c.code = e.code, without also joining on year. Your task in this exercise is to fix your query by explicitly stating that both the country code and year should match!"
   ]
  },
  {
   "cell_type": "raw",
   "id": "42354973",
   "metadata": {},
   "source": [
    "SELECT name, e.year, fertility_rate, unemployment_rate\n",
    "FROM countries AS c\n",
    "INNER JOIN populations AS p\n",
    "ON c.code = p.country_code\n",
    "INNER JOIN economies AS e\n",
    "ON c.code = e.code\n",
    "-- Add an additional joining condition such that you are also joining on year\n",
    "\tAND e.year = p.year;"
   ]
  }
 ],
 "metadata": {
  "kernelspec": {
   "display_name": "Python 3 (ipykernel)",
   "language": "python",
   "name": "python3"
  },
  "language_info": {
   "codemirror_mode": {
    "name": "ipython",
    "version": 3
   },
   "file_extension": ".py",
   "mimetype": "text/x-python",
   "name": "python",
   "nbconvert_exporter": "python",
   "pygments_lexer": "ipython3",
   "version": "3.9.12"
  }
 },
 "nbformat": 4,
 "nbformat_minor": 5
}
