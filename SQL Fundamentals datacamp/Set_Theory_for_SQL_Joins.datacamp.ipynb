{
 "cells": [
  {
   "cell_type": "markdown",
   "id": "1562cc13",
   "metadata": {},
   "source": [
    "### UNION vs. UNION ALL\n",
    "* Two tables, languages and currencies, are provided. Run the queries provided in the console and select the correct answer for the multiple-choice questions in this exercise."
   ]
  },
  {
   "cell_type": "markdown",
   "id": "f58d9951",
   "metadata": {},
   "source": [
    "###  Both queries on the left and right of the set operation must have the same data types. The names of the fields do not need to be the same, as the result will always contain field names from the left query."
   ]
  },
  {
   "cell_type": "markdown",
   "id": "2f07dcda",
   "metadata": {},
   "source": [
    "### Comparing global economies\n",
    "* In this exercise, you have two tables, economies2015 and economies2019, available to you under the tabs in the console. You'll perform a set operation to stack all records in these two tables on top of each other, excluding duplicates."
   ]
  },
  {
   "cell_type": "markdown",
   "id": "32fb4859",
   "metadata": {},
   "source": [
    "#### Begin your query by selecting all fields from economies2015.\n",
    "#### Create a second query that selects all fields from economies2019.\n",
    "#### Perform a set operation to combine the two queries you just created, ensuring you do not return duplicates."
   ]
  },
  {
   "cell_type": "raw",
   "id": "e06f9a0c",
   "metadata": {},
   "source": [
    "-- Select all fields from economies2015\n",
    "SELECT *\n",
    "FROM economies2015  \n",
    "-- Set operation\n",
    "UNION\n",
    "-- Select all fields from economies2019\n",
    "SELECT *\n",
    "FROM economies2019\n",
    "ORDER BY code, year;"
   ]
  },
  {
   "cell_type": "markdown",
   "id": "c5fa3fc9",
   "metadata": {},
   "source": [
    "**UNION can be helpful for consolidating data from multiple tables into one result, which as you have seen, can then be ordered in meaningful ways.**"
   ]
  },
  {
   "cell_type": "markdown",
   "id": "33cad22b",
   "metadata": {},
   "source": [
    "### Comparing two set operations\n",
    "* You learned in the video exercise that UNION ALL returns duplicates, whereas UNION does not. In this exercise, you will dive deeper into this, looking at cases for when UNION is appropriate compared to UNION ALL.\n",
    "\n",
    "* You will be looking at combinations of country code and year from the economies and populations tables."
   ]
  },
  {
   "cell_type": "markdown",
   "id": "ef6d4b41",
   "metadata": {},
   "source": [
    "#### Perform an appropriate set operation that determines all pairs of country code and year (in that order) from economies and populations, excluding duplicates.\n",
    "#### Order by country code and year."
   ]
  },
  {
   "cell_type": "raw",
   "id": "19814429",
   "metadata": {},
   "source": [
    "-- Query that determines all pairs of code and year from economies and populations, without duplicates\n",
    "SELECT code, year\n",
    "FROM economies\n",
    "UNION \n",
    "SELECT country_code, year\n",
    "FROM populations\n",
    "ORDER BY code, year;"
   ]
  },
  {
   "cell_type": "markdown",
   "id": "e484caaa",
   "metadata": {},
   "source": [
    "#### Amend the query to return all combinations (including duplicates) of country code and year in the economies or the populations tables."
   ]
  },
  {
   "cell_type": "raw",
   "id": "a0f7a142",
   "metadata": {},
   "source": [
    "SELECT code, year\n",
    "FROM economies\n",
    "-- Set theory clause\n",
    "UNION ALL\n",
    "SELECT country_code, year\n",
    "FROM populations\n",
    "ORDER BY code, year;"
   ]
  },
  {
   "cell_type": "markdown",
   "id": "eabfac99",
   "metadata": {},
   "source": [
    "### INTERSECT\n",
    "* Let's say you are interested in those countries that share names with cities. Use this task as an opportunity to show off your knowledge of set theory in SQL!"
   ]
  },
  {
   "cell_type": "markdown",
   "id": "b99eebeb",
   "metadata": {},
   "source": [
    "#### Return all city names that are also country names."
   ]
  },
  {
   "cell_type": "raw",
   "id": "5e6ce20f",
   "metadata": {},
   "source": [
    "-- Return all cities with the same name as a country\n",
    "SELECT name\n",
    "FROM countries\n",
    "INTERSECT\n",
    "SELECT name\n",
    "FROM cities;"
   ]
  },
  {
   "cell_type": "markdown",
   "id": "2f976d23",
   "metadata": {},
   "source": [
    "**INTERSECT is a robust set operation for finding the set of identical records between two sets of records.**"
   ]
  },
  {
   "cell_type": "markdown",
   "id": "2a6c2b88",
   "metadata": {},
   "source": [
    "### You've got it, EXCEPT...\n",
    "* Just as you were able to leverage INTERSECT to find the names of cities with the same names as countries, you can also do the reverse, using EXCEPT."
   ]
  },
  {
   "cell_type": "markdown",
   "id": "e98b39c0",
   "metadata": {},
   "source": [
    "#### Return all cities that do not have the same name as a country."
   ]
  },
  {
   "cell_type": "raw",
   "id": "e3b3929b",
   "metadata": {},
   "source": [
    "-- Return all cities that do not have the same name as a country\n",
    "SELECT name\n",
    "FROM cities\n",
    "EXCEPT\n",
    "SELECT name\n",
    "FROM countries\n",
    "ORDER BY name;"
   ]
  },
  {
   "cell_type": "markdown",
   "id": "2a79a24b",
   "metadata": {},
   "source": [
    "**Note that if countries had been on the left and cities on the right, you would have returned the opposite: all countries that do not have the same name as a city.**"
   ]
  }
 ],
 "metadata": {
  "kernelspec": {
   "display_name": "Python 3 (ipykernel)",
   "language": "python",
   "name": "python3"
  },
  "language_info": {
   "codemirror_mode": {
    "name": "ipython",
    "version": 3
   },
   "file_extension": ".py",
   "mimetype": "text/x-python",
   "name": "python",
   "nbconvert_exporter": "python",
   "pygments_lexer": "ipython3",
   "version": "3.9.12"
  }
 },
 "nbformat": 4,
 "nbformat_minor": 5
}
