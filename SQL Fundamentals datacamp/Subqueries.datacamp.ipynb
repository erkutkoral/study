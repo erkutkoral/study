{
 "cells": [
  {
   "cell_type": "markdown",
   "id": "df940077",
   "metadata": {},
   "source": [
    "### Semi join\n",
    "#### Select country code as a single field from the countries table, filtering for countries in the 'Middle East' region."
   ]
  },
  {
   "cell_type": "raw",
   "id": "82700db1",
   "metadata": {},
   "source": [
    "-- Select country code for countries in the Middle East\n",
    "SELECT code\n",
    "FROM countries\n",
    "WHERE region = 'Middle East';"
   ]
  },
  {
   "cell_type": "markdown",
   "id": "132efd9a",
   "metadata": {},
   "source": [
    "#### Write a second query to SELECT the name of each unique language appearing in the languages table; do not use column aliases here.\n",
    "#### Order the result set by name in ascending order."
   ]
  },
  {
   "cell_type": "raw",
   "id": "f544ea44",
   "metadata": {},
   "source": [
    "-- Select unique language names\n",
    "SELECT DISTINCT(name)\n",
    "FROM languages\n",
    "-- Order by the name of the language\n",
    "ORDER BY name;"
   ]
  },
  {
   "cell_type": "markdown",
   "id": "926fec3b",
   "metadata": {},
   "source": [
    "#### Create a semi join out of the two queries you've written, which filters unique languages returned in the first query for only those languages spoken in the 'Middle East'."
   ]
  },
  {
   "cell_type": "raw",
   "id": "7dd8274e",
   "metadata": {},
   "source": [
    "SELECT DISTINCT name\n",
    "FROM languages\n",
    "-- Add syntax to use bracketed subquery below as a filter\n",
    "WHERE code IN\n",
    "    (SELECT code\n",
    "    FROM countries\n",
    "    WHERE region = 'Middle East')\n",
    "ORDER BY name;"
   ]
  },
  {
   "cell_type": "markdown",
   "id": "1b747a62",
   "metadata": {},
   "source": [
    "### Diagnosing problems using anti join\n",
    "* It can be particularly useful for identifying whether an incorrect number of records appears in a join."
   ]
  },
  {
   "cell_type": "markdown",
   "id": "846dec40",
   "metadata": {},
   "source": [
    "#### Begin by writing a query to return the code and name (in order, not aliased) for all countries in the continent of Oceania from the countries table.\n",
    "#### Observe the number of records returned and compare this with the provided INNER JOIN, which returns 15 records."
   ]
  },
  {
   "cell_type": "raw",
   "id": "1f87f0a0",
   "metadata": {},
   "source": [
    "-- Select code and name of countries from Oceania\n",
    "SELECT code, name\n",
    "FROM countries\n",
    "WHERE continent = 'Oceania';"
   ]
  },
  {
   "cell_type": "markdown",
   "id": "66aff904",
   "metadata": {},
   "source": [
    "#### Now, build on your query to complete your anti join, by adding an additional filter to return every country code that is not included in the currencies table."
   ]
  },
  {
   "cell_type": "raw",
   "id": "366f3b21",
   "metadata": {},
   "source": [
    "SELECT code, name\n",
    "FROM countries\n",
    "WHERE continent = 'Oceania'\n",
    "-- Filter for countries not included in the bracketed subquery\n",
    "  AND code NOT IN\n",
    "    (SELECT code\n",
    "    FROM currencies);"
   ]
  },
  {
   "cell_type": "markdown",
   "id": "769cba9b",
   "metadata": {},
   "source": [
    "### Subquery inside WHERE\n",
    "#### Begin by calculating the average life expectancy from the populations table.\n",
    "#### Filter your answer to use records from 2015 only."
   ]
  },
  {
   "cell_type": "raw",
   "id": "f0cf3788",
   "metadata": {},
   "source": [
    "-- Select average life_expectancy from the populations table\n",
    "SELECT AVG(life_expectancy)\n",
    "FROM populations\n",
    "-- Filter for the year 2015\n",
    "WHERE year = 2015;"
   ]
  },
  {
   "cell_type": "markdown",
   "id": "d8a29f97",
   "metadata": {},
   "source": [
    "#### The answer from your query has now been nested into another query; use this calculation to filter populations for all records where life_expectancy is 1.15 times higher than average."
   ]
  },
  {
   "cell_type": "raw",
   "id": "324177ed",
   "metadata": {},
   "source": [
    "SELECT *\n",
    "FROM populations\n",
    "-- Filter for only those populations where life expectancy is 1.15 times higher than average\n",
    "WHERE life_expectancy > 1.15 *\n",
    "  (SELECT AVG(life_expectancy)\n",
    "   FROM populations\n",
    "   WHERE year = 2015) \n",
    "    AND year = 2015;"
   ]
  },
  {
   "cell_type": "markdown",
   "id": "38732449",
   "metadata": {},
   "source": [
    "### WHERE do people live?"
   ]
  },
  {
   "cell_type": "markdown",
   "id": "439388d5",
   "metadata": {},
   "source": [
    "#### Return the name, country_code and urbanarea_pop for all capital cities (not aliased)."
   ]
  },
  {
   "cell_type": "raw",
   "id": "d4119e65",
   "metadata": {},
   "source": [
    "-- Select relevant fields from cities table\n",
    "SELECT name, country_code, urbanarea_pop\n",
    "FROM cities\n",
    "-- Filter using a subquery on the countries table\n",
    "WHERE name IN\n",
    "  (SELECT capital\n",
    "   FROM countries)\n",
    "ORDER BY urbanarea_pop DESC;"
   ]
  },
  {
   "cell_type": "markdown",
   "id": "373c2ae4",
   "metadata": {},
   "source": [
    "### Subquery inside SELECT\n",
    "#### Write a LEFT JOIN with countries on the left and the cities on the right, joining on country code.\n",
    "#### In the SELECT statement of your join, include country names as country, and count the cities in each country, aliased as cities_num.\n",
    "#### Sort by cities_num (descending), and country (ascending), limiting to the first nine records."
   ]
  },
  {
   "cell_type": "raw",
   "id": "b8f4ff48",
   "metadata": {},
   "source": [
    "-- Find top nine countries with the most cities\n",
    "SELECT countries.name AS country, COUNT(*) AS cities_num\n",
    "FROM countries\n",
    "LEFT JOIN cities\n",
    "ON countries.code = cities.country_code\n",
    "GROUP BY country\n",
    "-- Order by count of cities as cities_num\n",
    "ORDER BY cities_num DESC, country\n",
    "LIMIT 9;"
   ]
  },
  {
   "cell_type": "markdown",
   "id": "75ab3209",
   "metadata": {},
   "source": [
    "#### Complete the subquery to return a result equivalent to your LEFT JOIN, counting all cities in the cities table as cities_num.\n",
    "#### Use the WHERE clause to enable the correct country codes to be matched in the cities and countries columns."
   ]
  },
  {
   "cell_type": "raw",
   "id": "99db9a7f",
   "metadata": {},
   "source": [
    "SELECT countries.name AS country,\n",
    "-- Subquery that provides the count of cities   \n",
    "  (SELECT COUNT(name)\n",
    "   FROM cities\n",
    "   WHERE countries.code = cities.country_code) AS cities_num\n",
    "FROM countries\n",
    "ORDER BY cities_num DESC, country\n",
    "LIMIT 9;"
   ]
  },
  {
   "cell_type": "markdown",
   "id": "5b593afd",
   "metadata": {},
   "source": [
    "### Subquery inside FROM\n",
    "* Subqueries inside FROM can help select columns from multiple tables in a single query."
   ]
  },
  {
   "cell_type": "markdown",
   "id": "75cd019d",
   "metadata": {},
   "source": [
    "#### Begin with a query that groups by each country code from languages, and counts the languages spoken in each country as lang_num.\n",
    "#### In your SELECT statement, return code and lang_num (in that order)."
   ]
  },
  {
   "cell_type": "raw",
   "id": "2b8b3e41",
   "metadata": {},
   "source": [
    "-- Select code, and language count as lang_num\n",
    "SELECT languages.code, COUNT(name) AS lang_num\n",
    "FROM languages\n",
    "GROUP BY languages.code;"
   ]
  },
  {
   "cell_type": "markdown",
   "id": "65edf869",
   "metadata": {},
   "source": [
    "#### Select local_name from countries, with the aliased lang_num from your subquery (which has been nested and aliased for you as sub).\n",
    "#### Use WHERE to match the code field from countries and sub."
   ]
  },
  {
   "cell_type": "raw",
   "id": "206a30cf",
   "metadata": {},
   "source": [
    "-- Select local_name and lang_num from appropriate tables\n",
    "SELECT countries.local_name, sub.lang_num\n",
    "FROM countries,\n",
    "  (SELECT code, COUNT(*) AS lang_num\n",
    "  FROM languages\n",
    "  GROUP BY code) AS sub\n",
    "-- Where codes match\n",
    "WHERE countries.code = sub.code\n",
    "ORDER BY lang_num DESC;"
   ]
  },
  {
   "cell_type": "markdown",
   "id": "42acf0a7",
   "metadata": {},
   "source": [
    "### Subquery challenge"
   ]
  },
  {
   "cell_type": "raw",
   "id": "90e94ba9",
   "metadata": {},
   "source": [
    "-- Select relevant fields\n",
    "SELECT code, inflation_rate, unemployment_rate\n",
    "FROM economies\n",
    "WHERE year = 2015 \n",
    "  AND code NOT IN\n",
    "-- Subquery returning country codes filtered on gov_form\n",
    "    (SELECT code\n",
    "     FROM countries\n",
    "     WHERE (gov_form LIKE '%Monarchy%' OR gov_form LIKE '%Republic%'))\n",
    "ORDER BY inflation_rate;"
   ]
  },
  {
   "cell_type": "markdown",
   "id": "7915eceb",
   "metadata": {},
   "source": [
    "### Final challenge"
   ]
  },
  {
   "cell_type": "raw",
   "id": "94ca7d72",
   "metadata": {},
   "source": [
    "-- Select fields from cities\n",
    "SELECT \n",
    "\tname, \n",
    "    country_code, \n",
    "    city_proper_pop, \n",
    "    metroarea_pop,\n",
    "    city_proper_pop / metroarea_pop * 100 AS city_perc\n",
    "FROM cities\n",
    "-- Use subquery to filter city name\n",
    "WHERE name IN\n",
    "  (SELECT capital\n",
    "   FROM countries\n",
    "   WHERE (continent = 'Europe'\n",
    "   OR continent LIKE '%America'))\n",
    "-- Add filter condition such that metroarea_pop does not have null values\n",
    "\t  AND metroarea_pop IS NOT NULL\n",
    "-- Sort and limit the result\n",
    "ORDER BY city_perc DESC\n",
    "LIMIT 10;"
   ]
  }
 ],
 "metadata": {
  "kernelspec": {
   "display_name": "Python 3 (ipykernel)",
   "language": "python",
   "name": "python3"
  },
  "language_info": {
   "codemirror_mode": {
    "name": "ipython",
    "version": 3
   },
   "file_extension": ".py",
   "mimetype": "text/x-python",
   "name": "python",
   "nbconvert_exporter": "python",
   "pygments_lexer": "ipython3",
   "version": "3.9.12"
  }
 },
 "nbformat": 4,
 "nbformat_minor": 5
}
