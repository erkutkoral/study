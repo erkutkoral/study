{
 "cells": [
  {
   "cell_type": "markdown",
   "id": "a908a6e8",
   "metadata": {},
   "source": [
    "### The match is OVER\n",
    "* The OVER() clause allows you to pass an aggregate function down a data set, similar to subqueries in SELECT. The OVER() clause offers significant benefits over subqueries in select -- namely, your queries will run faster, and the OVER() clause has a wide range of additional functions and clauses you can include with it that we will cover later on in this chapter.\n",
    "* In this exercise, you will revise some queries from previous chapters using the OVER() clause."
   ]
  },
  {
   "cell_type": "markdown",
   "id": "3df4c4d6",
   "metadata": {},
   "source": [
    "#### Select the match ID, country name, season, home, and away goals from the match and country tables.\n",
    "#### Complete the query that calculates the average number of goals scored overall and then includes the aggregate value in each row using a window function."
   ]
  },
  {
   "cell_type": "raw",
   "id": "ec439a32",
   "metadata": {},
   "source": [
    "SELECT \n",
    "\t-- Select the id, country name, season, home, and away goals\n",
    "\tm.id, \n",
    "    c.name AS country, \n",
    "    m.season,\n",
    "\tm.home_goal,\n",
    "\tm.away_goal,\n",
    "    -- Use a window to include the aggregate average in each row\n",
    "\tAVG(m.home_goal + m.away_goal) OVER() AS overall_avg\n",
    "FROM match AS m\n",
    "LEFT JOIN country AS c ON m.country_id = c.id;"
   ]
  },
  {
   "cell_type": "markdown",
   "id": "5c3d8ede",
   "metadata": {},
   "source": [
    "### What's OVER here?\n",
    "* Window functions allow you to create a RANK of information according to any variable you want to use to sort your data. When setting this up, you will need to specify what column/calculation you want to use to calculate your rank. This is done by including an ORDER BY clause inside the OVER() clause.\n",
    "* In this exercise, you will create a data set of ranked matches according to which leagues, on average, score the most goals in a match."
   ]
  },
  {
   "cell_type": "markdown",
   "id": "2ffaee64",
   "metadata": {},
   "source": [
    "#### Instructions\n",
    "##### Select the league name and average total goals scored from league and match.\n",
    "##### Complete the window function so it calculates the rank of average goals scored across all leagues in the database.\n",
    "##### Order the rank by the average total of home and away goals scored."
   ]
  },
  {
   "cell_type": "raw",
   "id": "8e583ba0",
   "metadata": {},
   "source": [
    "SELECT \n",
    "\t-- Select the league name and average goals scored\n",
    "\tl.name AS league,\n",
    "    AVG(m.home_goal + m.away_goal) AS avg_goals,\n",
    "    -- Rank each league according to the average goals\n",
    "    RANK() OVER(ORDER BY AVG(m.home_goal + m.away_goal)) AS league_rank\n",
    "FROM league AS l\n",
    "LEFT JOIN match AS m \n",
    "ON l.id = m.country_id\n",
    "WHERE m.season = '2011/2012'\n",
    "GROUP BY l.name\n",
    "-- Order the query by the rank you created\n",
    "ORDER BY league_rank;"
   ]
  },
  {
   "cell_type": "markdown",
   "id": "0a8a553e",
   "metadata": {},
   "source": [
    "### Flip OVER your results\n",
    "#### In the last exercise, the rank generated in your query was organized from smallest to largest. By adding DESC to your window function, you can create a rank sorted from largest to smallest."
   ]
  },
  {
   "cell_type": "raw",
   "id": "0aa51985",
   "metadata": {},
   "source": [
    "SELECT \n",
    "\t-- Select the league name and average goals scored\n",
    "\tl.name AS league,\n",
    "    AVG(m.home_goal + m.away_goal) AS avg_goals,\n",
    "    -- Rank leagues in descending order by average goals\n",
    "    RANK() OVER(ORDER BY AVG(m.home_goal + m.away_goal) DESC) AS league_rank\n",
    "FROM league AS l\n",
    "LEFT JOIN match AS m \n",
    "ON l.id = m.country_id\n",
    "WHERE m.season = '2011/2012'\n",
    "GROUP BY l.name\n",
    "-- Order the query by the rank you created\n",
    "ORDER BY league_rank;"
   ]
  },
  {
   "cell_type": "markdown",
   "id": "8b6060bc",
   "metadata": {},
   "source": [
    "### PARTITION BY a column\n",
    "* The PARTITION BY clause allows you to calculate separate \"windows\" based on columns you want to divide your results. For example, you can create a single column that calculates an overall average of goals scored for each season.\n",
    "* In this exercise, you will be creating a data set of games played by Legia Warszawa (Warsaw League), the top ranked team in Poland, and comparing their individual game performance to the overall average for that season."
   ]
  },
  {
   "cell_type": "markdown",
   "id": "3d9be65f",
   "metadata": {},
   "source": [
    "#### omplete the two window functions that calculate the home and away goal averages. Partition the window functions by season to calculate separate averages for each season.\n",
    "#### Filter the query to only include matches played by Legia Warszawa, id = 8673."
   ]
  },
  {
   "cell_type": "raw",
   "id": "b8aacd8e",
   "metadata": {},
   "source": [
    "SELECT \n",
    "\tdate,\n",
    "\tseason,\n",
    "    home_goal,\n",
    "    away_goal,\n",
    "    CASE WHEN hometeam_id = 8673 THEN 'home' \n",
    "         ELSE 'away' END AS warsaw_location,\n",
    "    -- Calculate the average goals scored partitioned by season\n",
    "    AVG(home_goal) OVER(PARTITION BY season) AS season_homeavg,\n",
    "    AVG(away_goal) OVER(PARTITION BY season) AS season_awayavg\n",
    "FROM match\n",
    "-- Filter the data set for Legia Warszawa matches only\n",
    "WHERE \n",
    "\thometeam_id = 8673 \n",
    "    OR awayteam_id = 8673\n",
    "ORDER BY (home_goal + away_goal) DESC;"
   ]
  },
  {
   "cell_type": "markdown",
   "id": "c89830bb",
   "metadata": {},
   "source": [
    "### PARTITION BY multiple columns\n",
    "* The PARTITION BY clause can be used to break out window averages by multiple data points (columns). You can even calculate the information you want to use to partition your data! For example, you can calculate average goals scored by season and by country, or by the calendar year (taken from the date column).\n",
    "* In this exercise, you will calculate the average number home and away goals scored Legia Warszawa, and their opponents, partitioned by the month in each season."
   ]
  },
  {
   "cell_type": "markdown",
   "id": "540c98e8",
   "metadata": {},
   "source": [
    "#### Construct two window functions partitioning the average of home and away goals by season and month.\n",
    "#### Filter the dataset by Legia Warszawa's team ID (8673) so that the window calculation only includes matches involving them."
   ]
  },
  {
   "cell_type": "raw",
   "id": "45f5ac2f",
   "metadata": {},
   "source": [
    "SELECT \n",
    "\tdate,\n",
    "\tseason,\n",
    "\thome_goal,\n",
    "\taway_goal,\n",
    "\tCASE WHEN hometeam_id = 8673 THEN 'home' \n",
    "         ELSE 'away' END AS warsaw_location,\n",
    "\t-- Calculate average goals partitioned by season and month\n",
    "    AVG(home_goal) OVER(PARTITION BY season, \n",
    "         \tEXTRACT(MONTH FROM date)) AS season_mo_home,\n",
    "    AVG(away_goal) OVER(PARTITION BY season, \n",
    "            EXTRACT(MONTH FROM date)) AS season_mo_away\n",
    "FROM match\n",
    "WHERE \n",
    "\thometeam_id = 8673\n",
    "    OR awayteam_id = 8673\n",
    "ORDER BY (home_goal + away_goal) DESC;"
   ]
  },
  {
   "cell_type": "markdown",
   "id": "0b34fdbc",
   "metadata": {},
   "source": [
    "### Slide to the left\n",
    "* Sliding windows allow you to create running calculations between any two points in a window using functions such as PRECEDING, FOLLOWING, and CURRENT ROW. You can calculate running counts, sums, averages, and other aggregate functions between any two points you specify in the data set.\n",
    "* In this exercise, you will expand on the examples discussed in the video, calculating the running total of goals scored by the FC Utrecht when they were the home team during the 2011/2012 season. Do they score more goals at the end of the season as the home or away team?"
   ]
  },
  {
   "cell_type": "markdown",
   "id": "d20811de",
   "metadata": {},
   "source": [
    "### Complete the window function by:\n",
    "#### Assessing the running total of home goals scored by FC Utrecht.\n",
    "#### Assessing the running average of home goals scored.\n",
    "#### Ordering both the running average and running total by date."
   ]
  },
  {
   "cell_type": "raw",
   "id": "88485109",
   "metadata": {},
   "source": [
    "SELECT \n",
    "\tdate,\n",
    "\thome_goal,\n",
    "\taway_goal,\n",
    "    -- Create a running total and running average of home goals\n",
    "    SUM(home_goal) OVER(ORDER BY date \n",
    "         ROWS BETWEEN UNBOUNDED PRECEDING AND CURRENT ROW) AS running_total,\n",
    "    AVG(home_goal) OVER(ORDER BY date\n",
    "         ROWS BETWEEN UNBOUNDED PRECEDING AND CURRENT ROW) AS running_avg\n",
    "FROM match\n",
    "WHERE \n",
    "\thometeam_id = 9908 \n",
    "\tAND season = '2011/2012';"
   ]
  },
  {
   "cell_type": "markdown",
   "id": "38b1de97",
   "metadata": {},
   "source": [
    "### Slide to the right\n",
    "* Now let's see how FC Utrecht performs when they're the away team. You'll notice that the total for the season is at the bottom of the data set you queried. Depending on your results, this could be pretty long, and scrolling down is not very helpful.\n",
    "\n",
    "* In this exercise, you will slightly modify the query from the previous exercise by sorting the data set in reverse order and calculating a backward running total from the CURRENT ROW to the end of the data set (earliest record)."
   ]
  },
  {
   "cell_type": "markdown",
   "id": "e03b122c",
   "metadata": {},
   "source": [
    "### Complete the window function by:\n",
    "#### Assessing the running total of home goals scored by FC Utrecht.\n",
    "#### Assessing the running average of home goals scored.\n",
    "#### Ordering both the running average and running total by date, descending."
   ]
  },
  {
   "cell_type": "raw",
   "id": "98847191",
   "metadata": {},
   "source": [
    "SELECT \n",
    "\t-- Select the date, home goal, and away goals\n",
    "     date,\n",
    "    home_goal,\n",
    "    away_goal,\n",
    "    -- Create a running total and running average of home goals\n",
    "    SUM(home_goal) OVER(ORDER BY date DESC\n",
    "         ROWS BETWEEN CURRENT ROW AND UNBOUNDED FOLLOWING) AS running_total,\n",
    "    AVG(home_goal) OVER(ORDER BY date DESC\n",
    "         ROWS BETWEEN CURRENT ROW AND UNBOUNDED FOLLOWING) AS running_avg\n",
    "FROM match\n",
    "WHERE \n",
    "\tawayteam_id = 9908 \n",
    "    AND season = '2011/2012';"
   ]
  },
  {
   "cell_type": "markdown",
   "id": "cee3e055",
   "metadata": {},
   "source": [
    "### Setting up the home team CTE\n",
    "* n this course, we've covered ways in which you can use CASE statements, subqueries, common table expressions, and window functions in your queries to structure a data set that best meets your needs. For this exercise, you will be using all of these concepts to generate a list of matches in which Manchester United was defeated during the 2014/2015 English Premier League season.\n",
    "\n",
    "* Your first task is to create the first query that filters for matches where Manchester United played as the home team. This will become a common table expression in a later exercise."
   ]
  },
  {
   "cell_type": "markdown",
   "id": "fb313923",
   "metadata": {},
   "source": [
    "#### Create a CASE statement that identifies each match as a win, lose, or tie for Manchester United.\n",
    "#### Fill out the logical operators for each WHEN clause in the CASE statement (equals, greater than, less than).\n",
    "#### Join the tables on home team ID from match, and team_api_id from team.\n",
    "#### Filter the query to only include games from the 2014/2015 season where Manchester United was the home team."
   ]
  },
  {
   "cell_type": "raw",
   "id": "08b0a498",
   "metadata": {},
   "source": [
    "SELECT \n",
    "\tm.id, \n",
    "    t.team_long_name,\n",
    "    -- Identify matches as home/away wins or ties\n",
    "\tCASE WHEN m.home_goal > m.away_goal THEN 'MU Win'\n",
    "\t\tWHEN m.home_goal < m.away_goal THEN 'MU Loss'\n",
    "        ELSE 'Tie' END AS outcome\n",
    "FROM match AS m\n",
    "-- Left join team on the home team ID and team API id\n",
    "LEFT JOIN team AS t \n",
    "ON m.hometeam_id = t.team_api_id\n",
    "WHERE \n",
    "\t-- Filter for 2014/2015 and Manchester United as the home team\n",
    "\tm.season = '2014/2015'\n",
    "\tAND t.team_long_name = 'Manchester United';"
   ]
  },
  {
   "cell_type": "markdown",
   "id": "32f85c39",
   "metadata": {},
   "source": [
    "### Setting up the away team CTE\n",
    "* Great job! Now that you have a query identifying the home team in a match, you will perform a similar set of steps to identify the away team. Just like the previous step, you will join the match and team tables. Each of these two queries will be declared as a Common Table Expression in the following step.\n",
    "* The primary difference in this query is that you will be joining the tables on awayteam_id, and reversing the match outcomes in the CASE statement.\n",
    "* When altering CASE statement logic in your own work, you can reverse either the logical condition (i.e., home_goal > away_goal) or the outcome in THEN -- just make sure you only reverse one of the two!"
   ]
  },
  {
   "cell_type": "markdown",
   "id": "3321b718",
   "metadata": {},
   "source": [
    "#### Complete the CASE statement syntax.\n",
    "#### Fill out the logical operators identifying each match as a win, loss, or tie for Manchester United.\n",
    "#### Join the table on awayteam_id, and team_api_id."
   ]
  },
  {
   "cell_type": "raw",
   "id": "feabd28b",
   "metadata": {},
   "source": [
    "SELECT \n",
    "\tm.id, \n",
    "    t.team_long_name,\n",
    "    -- Identify matches as home/away wins or ties\n",
    "\tCASE WHEN m.home_goal > m.away_goal THEN 'MU Loss'\n",
    "\t\tWHEN m.home_goal < m.away_goal THEN 'MU Win'\n",
    "        ELSE 'Tie' END AS outcome\n",
    "-- Join team table to the match table\n",
    "FROM match AS m\n",
    "LEFT JOIN team AS t \n",
    "ON m.awayteam_id = t.team_api_id\n",
    "WHERE \n",
    "\t-- Filter for 2014/2015 and Manchester United as the away team\n",
    "\tm.season = '2014/2015'\n",
    "\tAND t.team_long_name = 'Manchester United';"
   ]
  },
  {
   "cell_type": "markdown",
   "id": "066ca389",
   "metadata": {},
   "source": [
    "### Putting the CTEs together\n",
    "* Now that you've created the two subqueries identifying the home and away team opponents, it's time to rearrange your query with the home and away subqueries as Common Table Expressions (CTEs). You'll notice that the main query includes the phrase, SELECT DISTINCT. Without identifying only DISTINCT matches, you will return a duplicate record for each game played.\n",
    "* Continue building the query to extract all matches played by Manchester United in the 2014/2015 season."
   ]
  },
  {
   "cell_type": "markdown",
   "id": "724d9b12",
   "metadata": {},
   "source": [
    "#### Declare the home and away CTEs before your main query.\n",
    "#### Join your CTEs to the match table using a LEFT JOIN.\n",
    "#### Select the relevant data from the CTEs into the main query.\n",
    "#### Select the date from match, team names from the CTEs, and home/ away goals from match in the main query."
   ]
  },
  {
   "cell_type": "raw",
   "id": "11bd1ba0",
   "metadata": {},
   "source": [
    "-- Set up the home team CTE\n",
    "WITH home AS (\n",
    "  SELECT m.id, t.team_long_name,\n",
    "\t  CASE WHEN m.home_goal > m.away_goal THEN 'MU Win'\n",
    "\t\t   WHEN m.home_goal < m.away_goal THEN 'MU Loss' \n",
    "  \t\t   ELSE 'Tie' END AS outcome\n",
    "  FROM match AS m\n",
    "  LEFT JOIN team AS t ON m.hometeam_id = t.team_api_id),\n",
    "-- Set up the away team CTE\n",
    "away AS (\n",
    "  SELECT m.id, t.team_long_name,\n",
    "\t  CASE WHEN m.home_goal > m.away_goal THEN 'MU Win'\n",
    "\t\t   WHEN m.home_goal < m.away_goal THEN 'MU Loss' \n",
    "  \t\t   ELSE 'Tie' END AS outcome\n",
    "  FROM match AS m\n",
    "  LEFT JOIN team AS t ON m.awayteam_id = t.team_api_id)\n",
    "-- Select team names, the date and goals\n",
    "SELECT DISTINCT\n",
    "    date,\n",
    "    home.team_long_name AS home_team,\n",
    "    away.team_long_name AS away_team,\n",
    "    m.home_goal,\n",
    "    m.away_goal\n",
    "-- Join the CTEs onto the match table\n",
    "FROM match AS m\n",
    "LEFT JOIN home ON m.id = home.id\n",
    "LEFT JOIN away ON m.id = away.id\n",
    "WHERE m.season = '2014/2015'\n",
    "      AND (home.team_long_name = 'Manchester United' \n",
    "           OR away.team_long_name = 'Manchester United');"
   ]
  },
  {
   "cell_type": "markdown",
   "id": "1e127df6",
   "metadata": {},
   "source": [
    "### Add a window function\n",
    "* Fantastic! You now have a result set that retrieves the match date, home team, away team, and the goals scored by each team. You have one final component of the question left -- how badly did Manchester United lose in each match?\n",
    "* In order to determine this, let's add a window function to the main query that ranks matches by the absolute value of the difference between home_goal and away_goal. This allows us to directly compare the difference in scores without having to consider whether Manchester United played as the home or away team!\n",
    "* The equation is complete for you -- all you need to do is properly complete the window function!"
   ]
  },
  {
   "cell_type": "markdown",
   "id": "46fde96f",
   "metadata": {},
   "source": [
    "#### Set up the CTEs so that the home and away teams each have a name, ID, and score associated with them.\n",
    "#### Select the date, home team name, away team name, home goal, and away goals scored in the main query.\n",
    "#### Rank the matches and order by the difference in scores in descending order.#### "
   ]
  },
  {
   "cell_type": "raw",
   "id": "d8f7297f",
   "metadata": {},
   "source": [
    "-- Set up the home team CTE\n",
    "WITH home AS (\n",
    "  SELECT m.id, t.team_long_name,\n",
    "\t  CASE WHEN m.home_goal > m.away_goal THEN 'MU Win'\n",
    "\t\t   WHEN m.home_goal < m.away_goal THEN 'MU Loss' \n",
    "  \t\t   ELSE 'Tie' END AS outcome\n",
    "  FROM match AS m\n",
    "  LEFT JOIN team AS t ON m.hometeam_id = t.team_api_id),\n",
    "-- Set up the away team CTE\n",
    "away AS (\n",
    "  SELECT m.id, t.team_long_name,\n",
    "\t  CASE WHEN m.home_goal > m.away_goal THEN 'MU Loss'\n",
    "\t\t   WHEN m.home_goal < m.away_goal THEN 'MU Win' \n",
    "  \t\t   ELSE 'Tie' END AS outcome\n",
    "  FROM match AS m\n",
    "  LEFT JOIN team AS t ON m.awayteam_id = t.team_api_id)\n",
    "-- Select columns and and rank the matches by goal difference\n",
    "SELECT DISTINCT\n",
    "    m.date,\n",
    "    home.team_long_name AS home_team,\n",
    "    away.team_long_name AS away_team,\n",
    "    m.home_goal, m.away_goal,\n",
    "    RANK() OVER(ORDER BY ABS(home_goal - away_goal) DESC) as match_rank\n",
    "-- Join the CTEs onto the match table\n",
    "FROM match AS m\n",
    "LEFT JOIN home ON m.id = home.id\n",
    "LEFT JOIN AWAY ON m.id = away.id\n",
    "WHERE m.season = '2014/2015'\n",
    "\t  AND ((home.team_long_name = 'Manchester United' AND home.outcome = 'MU Loss')\n",
    "\t  OR (away.team_long_name = 'Manchester United' AND away.outcome = 'MU Loss'));"
   ]
  }
 ],
 "metadata": {
  "kernelspec": {
   "display_name": "Python 3 (ipykernel)",
   "language": "python",
   "name": "python3"
  },
  "language_info": {
   "codemirror_mode": {
    "name": "ipython",
    "version": 3
   },
   "file_extension": ".py",
   "mimetype": "text/x-python",
   "name": "python",
   "nbconvert_exporter": "python",
   "pygments_lexer": "ipython3",
   "version": "3.9.12"
  }
 },
 "nbformat": 4,
 "nbformat_minor": 5
}
