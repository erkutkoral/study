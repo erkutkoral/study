{
 "cells": [
  {
   "cell_type": "markdown",
   "id": "acd1f055",
   "metadata": {},
   "source": [
    "# SQL Fundamentals with Datacamp"
   ]
  },
  {
   "cell_type": "markdown",
   "id": "e49a2c92",
   "metadata": {},
   "source": [
    "## SQL strengths\n",
    "Which of the below scenarios describes a situation in which using SQL would be useful?"
   ]
  },
  {
   "cell_type": "markdown",
   "id": "539601d5",
   "metadata": {},
   "source": [
    "\n",
    "### Large amounts of data about many different but related areas of a business are housed in a relational database."
   ]
  },
  {
   "cell_type": "markdown",
   "id": "fdcbc10d",
   "metadata": {},
   "source": [
    "### Use SQL to return a result set of all book titles included in the books table."
   ]
  },
  {
   "cell_type": "raw",
   "id": "583cdc2a",
   "metadata": {},
   "source": [
    "SELECT title\n",
    "FROM books;"
   ]
  },
  {
   "cell_type": "markdown",
   "id": "6417e781",
   "metadata": {},
   "source": [
    "### Select both the title and author fields from books."
   ]
  },
  {
   "cell_type": "raw",
   "id": "7d9113a4",
   "metadata": {},
   "source": [
    "SELECT title, author\n",
    "FROM books;"
   ]
  },
  {
   "cell_type": "markdown",
   "id": "965536fe",
   "metadata": {},
   "source": [
    "### Select all fields from the books table."
   ]
  },
  {
   "cell_type": "raw",
   "id": "3e5e9363",
   "metadata": {},
   "source": [
    "SELECT *\n",
    "FROM books;"
   ]
  },
  {
   "cell_type": "markdown",
   "id": "3dac5d77",
   "metadata": {},
   "source": [
    "## Making queries DISTINCT"
   ]
  },
  {
   "cell_type": "markdown",
   "id": "331ebc50",
   "metadata": {},
   "source": [
    "## 1.1)Write SQL code that returns a result set with just one column listing the unique authors in the books table."
   ]
  },
  {
   "cell_type": "raw",
   "id": "9962bf51",
   "metadata": {},
   "source": [
    "SELECT DISTINCT author\n",
    "FROM books;"
   ]
  },
  {
   "cell_type": "markdown",
   "id": "fbd44f9a",
   "metadata": {},
   "source": [
    "## 1.2)Update the code to return the unique author and genre combinations in the books table."
   ]
  },
  {
   "cell_type": "raw",
   "id": "c9652169",
   "metadata": {},
   "source": [
    "SELECT DISTINCT author, genre\n",
    "FROM books;"
   ]
  },
  {
   "cell_type": "markdown",
   "id": "17228a59",
   "metadata": {},
   "source": [
    "## Aliasing"
   ]
  },
  {
   "cell_type": "markdown",
   "id": "9141d349",
   "metadata": {},
   "source": [
    "### Add an alias to the SQL query to rename the author column to unique_author in the result set."
   ]
  },
  {
   "cell_type": "raw",
   "id": "e78f683c",
   "metadata": {},
   "source": [
    "SELECT DISTINCT author AS unique_author\n",
    "FROM books;"
   ]
  },
  {
   "cell_type": "markdown",
   "id": "7de748bc",
   "metadata": {},
   "source": [
    "## VIEWing your query"
   ]
  },
  {
   "cell_type": "markdown",
   "id": "edde58aa",
   "metadata": {},
   "source": [
    "* What if you'd like to be able to refer to it later, or allow others to access and use the results? The best way to do this is by creating a view. Recall that a view is a virtual table: it's very similar to a real table, but rather than the data itself being stored, the query code is stored for later use.\n",
    "\n",
    "* Add a single line of code that saves the results of the written query as a view called library_authors."
   ]
  },
  {
   "cell_type": "raw",
   "id": "0f16071c",
   "metadata": {},
   "source": [
    "CREATE VIEW library_authors AS\n",
    "SELECT DISTINCT author AS unique_author\n",
    "FROM books;"
   ]
  },
  {
   "cell_type": "markdown",
   "id": "3d6cc052",
   "metadata": {},
   "source": [
    "### Check that the view was created by selecting all columns from library_authors."
   ]
  },
  {
   "cell_type": "raw",
   "id": "9a25400b",
   "metadata": {},
   "source": [
    "SELECT *\n",
    "FROM library_authors"
   ]
  },
  {
   "cell_type": "markdown",
   "id": "d88da547",
   "metadata": {},
   "source": [
    "## Limiting results"
   ]
  },
  {
   "cell_type": "markdown",
   "id": "eed398c4",
   "metadata": {},
   "source": [
    "* Recall that limiting results is useful when testing code since result sets can have thousands of results! Queries are often written with a LIMIT of just a few records to test out code before selecting thousands of results from the database."
   ]
  },
  {
   "cell_type": "markdown",
   "id": "551e2b77",
   "metadata": {},
   "source": [
    "### Using PostgreSQL, select the genre field from the books table; limit the number of results to 10."
   ]
  },
  {
   "cell_type": "raw",
   "id": "f1e2a1a8",
   "metadata": {},
   "source": [
    "SELECT genre\n",
    "FROM books\n",
    "LIMIT 10;"
   ]
  }
 ],
 "metadata": {
  "kernelspec": {
   "display_name": "Python 3 (ipykernel)",
   "language": "python",
   "name": "python3"
  },
  "language_info": {
   "codemirror_mode": {
    "name": "ipython",
    "version": 3
   },
   "file_extension": ".py",
   "mimetype": "text/x-python",
   "name": "python",
   "nbconvert_exporter": "python",
   "pygments_lexer": "ipython3",
   "version": "3.9.12"
  }
 },
 "nbformat": 4,
 "nbformat_minor": 5
}
